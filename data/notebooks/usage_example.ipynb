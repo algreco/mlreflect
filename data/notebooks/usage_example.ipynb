{
 "cells": [
  {
   "cell_type": "markdown",
   "metadata": {},
   "source": [
    "# mlreflect usage example"
   ]
  },
  {
   "cell_type": "code",
   "execution_count": 1,
   "metadata": {
    "pycharm": {
     "is_executing": false
    }
   },
   "outputs": [],
   "source": [
    "%load_ext autoreload"
   ]
  },
  {
   "cell_type": "code",
   "execution_count": 3,
   "metadata": {
    "pycharm": {
     "is_executing": false
    }
   },
   "outputs": [
    {
     "name": "stdout",
     "output_type": "stream",
     "text": [
      "Tested with mlreflect version: 0.12.0\n"
     ]
    }
   ],
   "source": [
    "import matplotlib.pyplot as plt\n",
    "import numpy as np\n",
    "\n",
    "import mlreflect\n",
    "\n",
    "from mlreflect import ReflectivityGenerator, InputPreprocessor, OutputPreprocessor, Prediction, Layer, MultilayerStructure\n",
    "from mlreflect import h5_tools\n",
    "from mlreflect.models.simple_model import SimpleModel\n",
    "from mlreflect.models.model_helpers import create_save_directory\n",
    "\n",
    "print('Tested with mlreflect version: ' + mlreflect.__version__)"
   ]
  },
  {
   "cell_type": "markdown",
   "metadata": {},
   "source": [
    "### Load experimental data\n",
    "In this case DIP_303K.txt contains columns of reflectivity data with the first column containing the q-values in units 1/A"
   ]
  },
  {
   "cell_type": "code",
   "execution_count": 4,
   "metadata": {
    "pycharm": {
     "is_executing": false
    }
   },
   "outputs": [],
   "source": [
    "experiment = np.loadtxt('DIP_303K.txt')"
   ]
  },
  {
   "cell_type": "code",
   "execution_count": 5,
   "metadata": {},
   "outputs": [],
   "source": [
    "q = experiment[9:, 0] # Extract q-values\n",
    "experimental_reflectivity = experiment[9:, 1:].T"
   ]
  },
  {
   "cell_type": "code",
   "execution_count": 6,
   "metadata": {},
   "outputs": [
    {
     "data": {
      "image/png": "[encoded data removed]",
      "text/plain": [
       "<Figure size 432x288 with 1 Axes>"
      ]
     },
     "metadata": {
      "needs_background": "light"
     },
     "output_type": "display_data"
    }
   ],
   "source": [
    "plt.semilogy(q, experimental_reflectivity[30, :], '.')\n",
    "plt.xlabel('q [1/A]')\n",
    "plt.ylabel('Reflectivity [norm.]')\n",
    "plt.show()"
   ]
  },
  {
   "cell_type": "markdown",
   "metadata": {},
   "source": [
    "### Generate random training data\n",
    "Choose parameter ranges for the randomly generated training data with mininimum and maximum values for each layer using Layer objects."
   ]
  },
  {
   "cell_type": "code",
   "execution_count": 7,
   "metadata": {},
   "outputs": [],
   "source": [
    "layer1 = Layer('Si', (None, None), (1, 1), (20.1, 20.1))\n",
    "layer2 = Layer('SiOx', (2.8, 30), (2.5, 2.5), (17.8, 17.8))\n",
    "layer3 = Layer('Film', (20, 300), (0, 60), (1, 14))"
   ]
  },
  {
   "cell_type": "markdown",
   "metadata": {},
   "source": [
    "The layers are then added to a MultilayerStructure"
   ]
  },
  {
   "cell_type": "code",
   "execution_count": 8,
   "metadata": {},
   "outputs": [],
   "source": [
    "sample = MultilayerStructure(ambient_sld=0) # Initialize MultilayerStructure object with ambient SLD of 0 (air for X-ray)\n",
    "sample.add_layer(layer1)\n",
    "sample.add_layer(layer2)\n",
    "sample.add_layer(layer3)"
   ]
  },
  {
   "cell_type": "code",
   "execution_count": 9,
   "metadata": {},
   "outputs": [
    {
     "name": "stdout",
     "output_type": "stream",
     "text": [
      "ambient_sld: 0 [1e-6 1/Å^2]\n",
      "[2] Film:\n",
      "\tthickness: 20 -- 300 [Å]\n",
      "\troughness: 0 -- 60 [Å]\n",
      "\tsld: 1 -- 14 [1e-6 1/Å^2]\n",
      "[1] SiOx:\n",
      "\tthickness: 2.8 -- 30 [Å]\n",
      "\troughness: 2.5 -- 2.5 [Å]\n",
      "\tsld: 17.8 -- 17.8 [1e-6 1/Å^2]\n",
      "[0] Si:\n",
      "\tthickness: None -- None [Å]\n",
      "\troughness: 1 -- 1 [Å]\n",
      "\tsld: 20.1 -- 20.1 [1e-6 1/Å^2]\n",
      "\n"
     ]
    }
   ],
   "source": [
    "print(sample)"
   ]
  },
  {
   "cell_type": "code",
   "execution_count": 10,
   "metadata": {
    "pycharm": {
     "is_executing": false
    }
   },
   "outputs": [
    {
     "name": "stdout",
     "output_type": "stream",
     "text": [
      "Finished 'generate_random_labels' in 0.1511 secs\n"
     ]
    }
   ],
   "source": [
    "gen = ReflectivityGenerator(q, sample) # Initialize ReflectivityGenerator using the previously constructed sample\n",
    "random_labels = gen.generate_random_labels(22500)"
   ]
  },
  {
   "cell_type": "code",
   "execution_count": 11,
   "metadata": {},
   "outputs": [
    {
     "data": {
      "text/html": [
       "<div>\n",
       "<style scoped>\n",
       "    .dataframe tbody tr th:only-of-type {\n",
       "        vertical-align: middle;\n",
       "    }\n",
       "\n",
       "    .dataframe tbody tr th {\n",
       "        vertical-align: top;\n",
       "    }\n",
       "\n",
       "    .dataframe thead th {\n",
       "        text-align: right;\n",
       "    }\n",
       "</style>\n",
       "<table border=\"1\" class=\"dataframe\">\n",
       "  <thead>\n",
       "    <tr style=\"text-align: right;\">\n",
       "      <th></th>\n",
       "      <th>Si_thickness</th>\n",
       "      <th>SiOx_thickness</th>\n",
       "      <th>Film_thickness</th>\n",
       "      <th>Si_roughness</th>\n",
       "      <th>SiOx_roughness</th>\n",
       "      <th>Film_roughness</th>\n",
       "      <th>Si_sld</th>\n",
       "      <th>SiOx_sld</th>\n",
       "      <th>Film_sld</th>\n",
       "    </tr>\n",
       "  </thead>\n",
       "  <tbody>\n",
       "    <tr>\n",
       "      <td>0</td>\n",
       "      <td>1.0</td>\n",
       "      <td>18.586665</td>\n",
       "      <td>273.018171</td>\n",
       "      <td>1.0</td>\n",
       "      <td>2.5</td>\n",
       "      <td>5.661025</td>\n",
       "      <td>20.1</td>\n",
       "      <td>17.8</td>\n",
       "      <td>6.948613</td>\n",
       "    </tr>\n",
       "    <tr>\n",
       "      <td>1</td>\n",
       "      <td>1.0</td>\n",
       "      <td>15.757396</td>\n",
       "      <td>162.503923</td>\n",
       "      <td>1.0</td>\n",
       "      <td>2.5</td>\n",
       "      <td>18.080997</td>\n",
       "      <td>20.1</td>\n",
       "      <td>17.8</td>\n",
       "      <td>5.831749</td>\n",
       "    </tr>\n",
       "    <tr>\n",
       "      <td>2</td>\n",
       "      <td>1.0</td>\n",
       "      <td>5.920091</td>\n",
       "      <td>23.222848</td>\n",
       "      <td>1.0</td>\n",
       "      <td>2.5</td>\n",
       "      <td>0.796359</td>\n",
       "      <td>20.1</td>\n",
       "      <td>17.8</td>\n",
       "      <td>8.686909</td>\n",
       "    </tr>\n",
       "    <tr>\n",
       "      <td>3</td>\n",
       "      <td>1.0</td>\n",
       "      <td>8.040882</td>\n",
       "      <td>255.509604</td>\n",
       "      <td>1.0</td>\n",
       "      <td>2.5</td>\n",
       "      <td>9.326981</td>\n",
       "      <td>20.1</td>\n",
       "      <td>17.8</td>\n",
       "      <td>13.599900</td>\n",
       "    </tr>\n",
       "  </tbody>\n",
       "</table>\n",
       "</div>"
      ],
      "text/plain": [
       "   Si_thickness  SiOx_thickness  Film_thickness  Si_roughness  SiOx_roughness  \\\n",
       "0           1.0       18.586665      273.018171           1.0             2.5   \n",
       "1           1.0       15.757396      162.503923           1.0             2.5   \n",
       "2           1.0        5.920091       23.222848           1.0             2.5   \n",
       "3           1.0        8.040882      255.509604           1.0             2.5   \n",
       "\n",
       "   Film_roughness  Si_sld  SiOx_sld   Film_sld  \n",
       "0        5.661025    20.1      17.8   6.948613  \n",
       "1       18.080997    20.1      17.8   5.831749  \n",
       "2        0.796359    20.1      17.8   8.686909  \n",
       "3        9.326981    20.1      17.8  13.599900  "
      ]
     },
     "execution_count": 11,
     "metadata": {},
     "output_type": "execute_result"
    }
   ],
   "source": [
    "random_labels[0:4] # Quick inspection if the generated parameters are as expected"
   ]
  },
  {
   "cell_type": "code",
   "execution_count": 12,
   "metadata": {},
   "outputs": [
    {
     "name": "stderr",
     "output_type": "stream",
     "text": [
      "100%|██████████| 22500/22500 [00:16<00:00, 1334.77it/s]"
     ]
    },
    {
     "name": "stdout",
     "output_type": "stream",
     "text": [
      "Finished 'simulate_reflectivity' in 16.8945 secs\n"
     ]
    },
    {
     "name": "stderr",
     "output_type": "stream",
     "text": [
      "\n"
     ]
    }
   ],
   "source": [
    "random_reflectivity = gen.simulate_reflectivity(random_labels) # Simulate reflectivity using the generated parameters"
   ]
  },
  {
   "cell_type": "code",
   "execution_count": 13,
   "metadata": {},
   "outputs": [
    {
     "data": {
      "image/png": "[encoded data removed]",
      "text/plain": [
       "<Figure size 432x288 with 1 Axes>"
      ]
     },
     "metadata": {
      "needs_background": "light"
     },
     "output_type": "display_data"
    }
   ],
   "source": [
    "plt.semilogy(q, random_reflectivity[0, :])\n",
    "plt.semilogy(q, random_reflectivity[1, :])\n",
    "plt.semilogy(q, random_reflectivity[2, :])\n",
    "plt.semilogy(q, random_reflectivity[3, :])\n",
    "plt.xlabel('q [1/A]')\n",
    "plt.ylabel('Reflectivity [norm.]')\n",
    "plt.show()"
   ]
  },
  {
   "cell_type": "code",
   "execution_count": 14,
   "metadata": {},
   "outputs": [
    {
     "name": "stderr",
     "output_type": "stream",
     "text": [
      "100%|██████████| 22500/22500 [00:06<00:00, 3311.89it/s]"
     ]
    },
    {
     "name": "stdout",
     "output_type": "stream",
     "text": [
      "Finished 'simulate_sld_profiles' in 6.7962 secs\n"
     ]
    },
    {
     "name": "stderr",
     "output_type": "stream",
     "text": [
      "\n"
     ]
    }
   ],
   "source": [
    "sld_profiles = gen.simulate_sld_profiles(random_labels) # Simulate SLD profile for visual inspection"
   ]
  },
  {
   "cell_type": "code",
   "execution_count": 15,
   "metadata": {},
   "outputs": [
    {
     "data": {
      "image/png": "[encoded data removed]",
      "text/plain": [
       "<Figure size 432x288 with 1 Axes>"
      ]
     },
     "metadata": {
      "needs_background": "light"
     },
     "output_type": "display_data"
    }
   ],
   "source": [
    "plt.plot(sld_profiles[0][0, :], sld_profiles[0][1, :])\n",
    "plt.plot(sld_profiles[1][0, :], sld_profiles[1][1, :])\n",
    "plt.plot(sld_profiles[2][0, :], sld_profiles[2][1, :])\n",
    "plt.plot(sld_profiles[3][0, :], sld_profiles[3][1, :])\n",
    "plt.xlabel('Height [A]')\n",
    "plt.ylabel('SLD [1/A^2 10^-6]')\n",
    "plt.show()"
   ]
  },
  {
   "cell_type": "markdown",
   "metadata": {},
   "source": [
    "Split labels and reflectivity into training, validation and testing sets. Since labels are saved as a pandas DataFrame, the index must be dropped."
   ]
  },
  {
   "cell_type": "code",
   "execution_count": 16,
   "metadata": {
    "pycharm": {
     "is_executing": false
    }
   },
   "outputs": [],
   "source": [
    "train_labels = random_labels[:20000].reset_index(drop=True)\n",
    "val_labels = random_labels[20000:22000].reset_index(drop=True)\n",
    "test_labels = random_labels[22000:].reset_index(drop=True)"
   ]
  },
  {
   "cell_type": "code",
   "execution_count": 17,
   "metadata": {
    "pycharm": {
     "is_executing": false
    }
   },
   "outputs": [],
   "source": [
    "train_reflectivity = random_reflectivity[:20000, :]\n",
    "val_reflectivity = random_reflectivity[20000:22000, :]\n",
    "test_reflectivity = random_reflectivity[22000:, :]"
   ]
  },
  {
   "cell_type": "markdown",
   "metadata": {},
   "source": [
    "Write data to an h5 file so it can be reused later."
   ]
  },
  {
   "cell_type": "code",
   "execution_count": 18,
   "metadata": {},
   "outputs": [],
   "source": [
    "create_save_directory('output/')\n",
    "h5_tools.save_data_as_h5('output/saved_training_data.h5', 'train', q, train_reflectivity, train_labels)\n",
    "h5_tools.save_data_as_h5('output/saved_training_data.h5', 'val', q, val_reflectivity, val_labels)\n",
    "h5_tools.save_data_as_h5('output/saved_training_data.h5', 'test', q, test_reflectivity, test_labels)"
   ]
  },
  {
   "cell_type": "code",
   "execution_count": 19,
   "metadata": {},
   "outputs": [],
   "source": [
    "# loaded_data = h5_tools.read_from_h5('saved_training_data.h5', 'train') # Data can be loaded like this"
   ]
  },
  {
   "cell_type": "markdown",
   "metadata": {},
   "source": [
    "### Train neural network"
   ]
  },
  {
   "cell_type": "markdown",
   "metadata": {},
   "source": [
    "Initialize InputPreprocessor object and add jobs to the preprocessing list."
   ]
  },
  {
   "cell_type": "code",
   "execution_count": 20,
   "metadata": {},
   "outputs": [],
   "source": [
    "ip = InputPreprocessor()\n",
    "\n",
    "ip.append_to_job_list(ip.log)\n",
    "ip.append_to_job_list(ip.standardize)"
   ]
  },
  {
   "cell_type": "markdown",
   "metadata": {},
   "source": [
    "Apply preprocessing to the input data."
   ]
  },
  {
   "cell_type": "code",
   "execution_count": 21,
   "metadata": {},
   "outputs": [],
   "source": [
    "train_reflectivity_pp = ip.apply_preprocessing(train_reflectivity)\n",
    "val_reflectivity_pp = ip.apply_preprocessing(val_reflectivity)\n",
    "test_reflectivity_pp = ip.apply_preprocessing(test_reflectivity)"
   ]
  },
  {
   "cell_type": "markdown",
   "metadata": {},
   "source": [
    "Initialize OutputPreprocessor object with the predefined sample and apply preprocessing to the labels."
   ]
  },
  {
   "cell_type": "code",
   "execution_count": 22,
   "metadata": {},
   "outputs": [],
   "source": [
    "op = OutputPreprocessor(sample)\n",
    "\n",
    "train_labels_pp = op.apply_preprocessing(train_labels)\n",
    "val_labels_pp = op.apply_preprocessing(val_labels)\n",
    "test_labels_pp = op.apply_preprocessing(test_labels)"
   ]
  },
  {
   "cell_type": "markdown",
   "metadata": {},
   "source": [
    "Train the neural network using the model defined in SimpleModel and save results in 'output/simple_model/'."
   ]
  },
  {
   "cell_type": "code",
   "execution_count": 23,
   "metadata": {
    "scrolled": true
   },
   "outputs": [
    {
     "name": "stdout",
     "output_type": "stream",
     "text": [
      "WARNING:tensorflow:From /home/greco/anaconda3/lib/python3.7/site-packages/keras/backend/tensorflow_backend.py:74: The name tf.get_default_graph is deprecated. Please use tf.compat.v1.get_default_graph instead.\n",
      "\n",
      "WARNING:tensorflow:From /home/greco/anaconda3/lib/python3.7/site-packages/keras/backend/tensorflow_backend.py:517: The name tf.placeholder is deprecated. Please use tf.compat.v1.placeholder instead.\n",
      "\n",
      "WARNING:tensorflow:From /home/greco/anaconda3/lib/python3.7/site-packages/keras/backend/tensorflow_backend.py:4138: The name tf.random_uniform is deprecated. Please use tf.random.uniform instead.\n",
      "\n",
      "_________________________________________________________________\n",
      "Layer (type)                 Output Shape              Param #   \n",
      "=================================================================\n",
      "dense_1 (Dense)              (None, 400)               17600     \n",
      "_________________________________________________________________\n",
      "activation_1 (Activation)    (None, 400)               0         \n",
      "_________________________________________________________________\n",
      "dense_2 (Dense)              (None, 800)               320800    \n",
      "_________________________________________________________________\n",
      "activation_2 (Activation)    (None, 800)               0         \n",
      "_________________________________________________________________\n",
      "dense_3 (Dense)              (None, 400)               320400    \n",
      "_________________________________________________________________\n",
      "activation_3 (Activation)    (None, 400)               0         \n",
      "_________________________________________________________________\n",
      "dense_4 (Dense)              (None, 300)               120300    \n",
      "_________________________________________________________________\n",
      "activation_4 (Activation)    (None, 300)               0         \n",
      "_________________________________________________________________\n",
      "dense_5 (Dense)              (None, 200)               60200     \n",
      "_________________________________________________________________\n",
      "activation_5 (Activation)    (None, 200)               0         \n",
      "_________________________________________________________________\n",
      "dense_6 (Dense)              (None, 100)               20100     \n",
      "_________________________________________________________________\n",
      "activation_6 (Activation)    (None, 100)               0         \n",
      "_________________________________________________________________\n",
      "dense_7 (Dense)              (None, 4)                 404       \n",
      "_________________________________________________________________\n",
      "activation_7 (Activation)    (None, 4)                 0         \n",
      "=================================================================\n",
      "Total params: 859,804\n",
      "Trainable params: 859,804\n",
      "Non-trainable params: 0\n",
      "_________________________________________________________________\n",
      "WARNING:tensorflow:From /home/greco/anaconda3/lib/python3.7/site-packages/keras/optimizers.py:790: The name tf.train.Optimizer is deprecated. Please use tf.compat.v1.train.Optimizer instead.\n",
      "\n",
      "WARNING:tensorflow:From /home/greco/anaconda3/lib/python3.7/site-packages/keras/backend/tensorflow_backend.py:986: The name tf.assign_add is deprecated. Please use tf.compat.v1.assign_add instead.\n",
      "\n",
      "WARNING:tensorflow:From /home/greco/anaconda3/lib/python3.7/site-packages/keras/backend/tensorflow_backend.py:973: The name tf.assign is deprecated. Please use tf.compat.v1.assign instead.\n",
      "\n",
      "Train on 20000 samples, validate on 2000 samples\n",
      "WARNING:tensorflow:From /home/greco/anaconda3/lib/python3.7/site-packages/keras/callbacks.py:850: The name tf.summary.merge_all is deprecated. Please use tf.compat.v1.summary.merge_all instead.\n",
      "\n",
      "WARNING:tensorflow:From /home/greco/anaconda3/lib/python3.7/site-packages/keras/callbacks.py:853: The name tf.summary.FileWriter is deprecated. Please use tf.compat.v1.summary.FileWriter instead.\n",
      "\n",
      "Epoch 1/60\n",
      "20000/20000 [==============================] - 1s 30us/step - loss: 0.0595 - val_loss: 0.0273\n",
      "\n",
      "Epoch 00001: val_loss improved from inf to 0.02725, saving model to output/simple_model/models/2020-01-17-195659.h5\n",
      "Epoch 2/60\n",
      "20000/20000 [==============================] - 0s 10us/step - loss: 0.0186 - val_loss: 0.0173\n",
      "\n",
      "Epoch 00002: val_loss improved from 0.02725 to 0.01726, saving model to output/simple_model/models/2020-01-17-195659.h5\n",
      "Epoch 3/60\n",
      "20000/20000 [==============================] - 0s 11us/step - loss: 0.0133 - val_loss: 0.0148\n",
      "\n",
      "Epoch 00003: val_loss improved from 0.01726 to 0.01483, saving model to output/simple_model/models/2020-01-17-195659.h5\n",
      "Epoch 4/60\n",
      "20000/20000 [==============================] - 0s 10us/step - loss: 0.0104 - val_loss: 0.0114\n",
      "\n",
      "Epoch 00004: val_loss improved from 0.01483 to 0.01139, saving model to output/simple_model/models/2020-01-17-195659.h5\n",
      "Epoch 5/60\n",
      "20000/20000 [==============================] - 0s 10us/step - loss: 0.0087 - val_loss: 0.0086\n",
      "\n",
      "Epoch 00005: val_loss improved from 0.01139 to 0.00858, saving model to output/simple_model/models/2020-01-17-195659.h5\n",
      "Epoch 6/60\n",
      "20000/20000 [==============================] - 0s 12us/step - loss: 0.0082 - val_loss: 0.0077\n",
      "\n",
      "Epoch 00006: val_loss improved from 0.00858 to 0.00769, saving model to output/simple_model/models/2020-01-17-195659.h5\n",
      "Epoch 7/60\n",
      "20000/20000 [==============================] - 0s 11us/step - loss: 0.0073 - val_loss: 0.0073\n",
      "\n",
      "Epoch 00007: val_loss improved from 0.00769 to 0.00734, saving model to output/simple_model/models/2020-01-17-195659.h5\n",
      "Epoch 8/60\n",
      "20000/20000 [==============================] - 0s 10us/step - loss: 0.0068 - val_loss: 0.0060\n",
      "\n",
      "Epoch 00008: val_loss improved from 0.00734 to 0.00601, saving model to output/simple_model/models/2020-01-17-195659.h5\n",
      "Epoch 9/60\n",
      "20000/20000 [==============================] - 0s 11us/step - loss: 0.0061 - val_loss: 0.0058\n",
      "\n",
      "Epoch 00009: val_loss improved from 0.00601 to 0.00577, saving model to output/simple_model/models/2020-01-17-195659.h5\n",
      "Epoch 10/60\n",
      "20000/20000 [==============================] - 0s 10us/step - loss: 0.0059 - val_loss: 0.0060\n",
      "\n",
      "Epoch 00010: val_loss did not improve from 0.00577\n",
      "Epoch 11/60\n",
      "20000/20000 [==============================] - 0s 13us/step - loss: 0.0049 - val_loss: 0.0054\n",
      "\n",
      "Epoch 00011: val_loss improved from 0.00577 to 0.00544, saving model to output/simple_model/models/2020-01-17-195659.h5\n",
      "Epoch 12/60\n",
      "20000/20000 [==============================] - 0s 11us/step - loss: 0.0051 - val_loss: 0.0049\n",
      "\n",
      "Epoch 00012: val_loss improved from 0.00544 to 0.00486, saving model to output/simple_model/models/2020-01-17-195659.h5\n",
      "Epoch 13/60\n",
      "20000/20000 [==============================] - 0s 14us/step - loss: 0.0049 - val_loss: 0.0045\n",
      "\n",
      "Epoch 00013: val_loss improved from 0.00486 to 0.00448, saving model to output/simple_model/models/2020-01-17-195659.h5\n",
      "Epoch 14/60\n",
      "20000/20000 [==============================] - 0s 10us/step - loss: 0.0048 - val_loss: 0.0059\n",
      "\n",
      "Epoch 00014: val_loss did not improve from 0.00448\n",
      "Epoch 15/60\n",
      "20000/20000 [==============================] - 0s 10us/step - loss: 0.0047 - val_loss: 0.0047\n",
      "\n",
      "Epoch 00015: val_loss did not improve from 0.00448\n",
      "Epoch 16/60\n",
      "20000/20000 [==============================] - 0s 10us/step - loss: 0.0046 - val_loss: 0.0047\n",
      "\n",
      "Epoch 00016: val_loss did not improve from 0.00448\n",
      "Epoch 17/60\n",
      "20000/20000 [==============================] - 0s 10us/step - loss: 0.0043 - val_loss: 0.0044\n",
      "\n",
      "Epoch 00017: val_loss improved from 0.00448 to 0.00438, saving model to output/simple_model/models/2020-01-17-195659.h5\n",
      "Epoch 18/60\n",
      "20000/20000 [==============================] - 0s 10us/step - loss: 0.0038 - val_loss: 0.0042\n",
      "\n",
      "Epoch 00018: val_loss improved from 0.00438 to 0.00418, saving model to output/simple_model/models/2020-01-17-195659.h5\n",
      "Epoch 19/60\n",
      "20000/20000 [==============================] - 0s 10us/step - loss: 0.0036 - val_loss: 0.0040\n",
      "\n",
      "Epoch 00019: val_loss improved from 0.00418 to 0.00402, saving model to output/simple_model/models/2020-01-17-195659.h5\n",
      "Epoch 20/60\n",
      "20000/20000 [==============================] - 0s 10us/step - loss: 0.0035 - val_loss: 0.0045\n",
      "\n",
      "Epoch 00020: val_loss did not improve from 0.00402\n",
      "Epoch 21/60\n",
      "20000/20000 [==============================] - 0s 11us/step - loss: 0.0045 - val_loss: 0.0048\n",
      "\n",
      "Epoch 00021: val_loss did not improve from 0.00402\n",
      "Epoch 22/60\n"
     ]
    },
    {
     "name": "stdout",
     "output_type": "stream",
     "text": [
      "20000/20000 [==============================] - 0s 11us/step - loss: 0.0036 - val_loss: 0.0034\n",
      "\n",
      "Epoch 00022: val_loss improved from 0.00402 to 0.00344, saving model to output/simple_model/models/2020-01-17-195659.h5\n",
      "Epoch 23/60\n",
      "20000/20000 [==============================] - 0s 10us/step - loss: 0.0035 - val_loss: 0.0037\n",
      "\n",
      "Epoch 00023: val_loss did not improve from 0.00344\n",
      "Epoch 24/60\n",
      "20000/20000 [==============================] - 0s 10us/step - loss: 0.0036 - val_loss: 0.0058\n",
      "\n",
      "Epoch 00024: val_loss did not improve from 0.00344\n",
      "Epoch 25/60\n",
      "20000/20000 [==============================] - 0s 11us/step - loss: 0.0036 - val_loss: 0.0043\n",
      "\n",
      "Epoch 00025: val_loss did not improve from 0.00344\n",
      "Epoch 26/60\n",
      "20000/20000 [==============================] - 0s 12us/step - loss: 0.0034 - val_loss: 0.0040\n",
      "\n",
      "Epoch 00026: val_loss did not improve from 0.00344\n",
      "Epoch 27/60\n",
      "20000/20000 [==============================] - 0s 11us/step - loss: 0.0033 - val_loss: 0.0043\n",
      "\n",
      "Epoch 00027: val_loss did not improve from 0.00344\n",
      "Epoch 28/60\n",
      "20000/20000 [==============================] - 0s 11us/step - loss: 0.0039 - val_loss: 0.0048\n",
      "\n",
      "Epoch 00028: val_loss did not improve from 0.00344\n",
      "Epoch 29/60\n",
      "20000/20000 [==============================] - 0s 11us/step - loss: 0.0036 - val_loss: 0.0042\n",
      "\n",
      "Epoch 00029: val_loss did not improve from 0.00344\n",
      "Epoch 30/60\n",
      "20000/20000 [==============================] - 0s 11us/step - loss: 0.0042 - val_loss: 0.0038\n",
      "\n",
      "Epoch 00030: val_loss did not improve from 0.00344\n",
      "Epoch 31/60\n",
      "20000/20000 [==============================] - 0s 11us/step - loss: 0.0030 - val_loss: 0.0032\n",
      "\n",
      "Epoch 00031: val_loss improved from 0.00344 to 0.00315, saving model to output/simple_model/models/2020-01-17-195659.h5\n",
      "Epoch 32/60\n",
      "20000/20000 [==============================] - 0s 10us/step - loss: 0.0028 - val_loss: 0.0031\n",
      "\n",
      "Epoch 00032: val_loss improved from 0.00315 to 0.00310, saving model to output/simple_model/models/2020-01-17-195659.h5\n",
      "Epoch 33/60\n",
      "20000/20000 [==============================] - 0s 10us/step - loss: 0.0031 - val_loss: 0.0029\n",
      "\n",
      "Epoch 00033: val_loss improved from 0.00310 to 0.00287, saving model to output/simple_model/models/2020-01-17-195659.h5\n",
      "Epoch 34/60\n",
      "20000/20000 [==============================] - 0s 10us/step - loss: 0.0027 - val_loss: 0.0039\n",
      "\n",
      "Epoch 00034: val_loss did not improve from 0.00287\n",
      "Epoch 35/60\n",
      "20000/20000 [==============================] - 0s 11us/step - loss: 0.0034 - val_loss: 0.0042\n",
      "\n",
      "Epoch 00035: val_loss did not improve from 0.00287\n",
      "Epoch 36/60\n",
      "20000/20000 [==============================] - 0s 11us/step - loss: 0.0032 - val_loss: 0.0047\n",
      "\n",
      "Epoch 00036: val_loss did not improve from 0.00287\n",
      "Epoch 37/60\n",
      "20000/20000 [==============================] - 0s 12us/step - loss: 0.0034 - val_loss: 0.0034\n",
      "\n",
      "Epoch 00037: val_loss did not improve from 0.00287\n",
      "Epoch 38/60\n",
      "20000/20000 [==============================] - 0s 11us/step - loss: 0.0030 - val_loss: 0.0028\n",
      "\n",
      "Epoch 00038: val_loss improved from 0.00287 to 0.00282, saving model to output/simple_model/models/2020-01-17-195659.h5\n",
      "Epoch 39/60\n",
      "20000/20000 [==============================] - 0s 11us/step - loss: 0.0028 - val_loss: 0.0044\n",
      "\n",
      "Epoch 00039: val_loss did not improve from 0.00282\n",
      "Epoch 40/60\n",
      "20000/20000 [==============================] - 0s 10us/step - loss: 0.0032 - val_loss: 0.0041\n",
      "\n",
      "Epoch 00040: val_loss did not improve from 0.00282\n",
      "Epoch 41/60\n",
      "20000/20000 [==============================] - 0s 10us/step - loss: 0.0026 - val_loss: 0.0044\n",
      "\n",
      "Epoch 00041: val_loss did not improve from 0.00282\n",
      "Epoch 42/60\n",
      "20000/20000 [==============================] - 0s 10us/step - loss: 0.0028 - val_loss: 0.0032\n",
      "\n",
      "Epoch 00042: val_loss did not improve from 0.00282\n",
      "Epoch 43/60\n",
      "20000/20000 [==============================] - 0s 10us/step - loss: 0.0025 - val_loss: 0.0027\n",
      "\n",
      "Epoch 00043: val_loss improved from 0.00282 to 0.00271, saving model to output/simple_model/models/2020-01-17-195659.h5\n",
      "Epoch 44/60\n",
      "20000/20000 [==============================] - 0s 10us/step - loss: 0.0031 - val_loss: 0.0042\n",
      "\n",
      "Epoch 00044: val_loss did not improve from 0.00271\n",
      "Epoch 45/60\n",
      "20000/20000 [==============================] - 0s 12us/step - loss: 0.0026 - val_loss: 0.0041\n",
      "\n",
      "Epoch 00045: val_loss did not improve from 0.00271\n",
      "Epoch 46/60\n",
      "20000/20000 [==============================] - 0s 12us/step - loss: 0.0029 - val_loss: 0.0035\n",
      "\n",
      "Epoch 00046: val_loss did not improve from 0.00271\n",
      "Epoch 47/60\n",
      "20000/20000 [==============================] - 0s 11us/step - loss: 0.0025 - val_loss: 0.0029\n",
      "\n",
      "Epoch 00047: val_loss did not improve from 0.00271\n",
      "Epoch 48/60\n",
      "20000/20000 [==============================] - 0s 11us/step - loss: 0.0028 - val_loss: 0.0033\n",
      "\n",
      "Epoch 00048: val_loss did not improve from 0.00271\n",
      "Epoch 49/60\n",
      "20000/20000 [==============================] - 0s 10us/step - loss: 0.0027 - val_loss: 0.0031\n",
      "\n",
      "Epoch 00049: val_loss did not improve from 0.00271\n",
      "Epoch 50/60\n",
      "20000/20000 [==============================] - 0s 12us/step - loss: 0.0027 - val_loss: 0.0053\n",
      "\n",
      "Epoch 00050: val_loss did not improve from 0.00271\n",
      "Epoch 51/60\n",
      "20000/20000 [==============================] - 0s 10us/step - loss: 0.0046 - val_loss: 0.0036\n",
      "\n",
      "Epoch 00051: val_loss did not improve from 0.00271\n",
      "Epoch 52/60\n",
      "20000/20000 [==============================] - 0s 12us/step - loss: 0.0030 - val_loss: 0.0036\n",
      "\n",
      "Epoch 00052: val_loss did not improve from 0.00271\n",
      "Epoch 53/60\n",
      "20000/20000 [==============================] - 0s 11us/step - loss: 0.0031 - val_loss: 0.0035\n",
      "\n",
      "Epoch 00053: val_loss did not improve from 0.00271\n",
      "Epoch 54/60\n",
      "20000/20000 [==============================] - 0s 11us/step - loss: 0.0018 - val_loss: 0.0022\n",
      "\n",
      "Epoch 00054: val_loss improved from 0.00271 to 0.00219, saving model to output/simple_model/models/2020-01-17-195659.h5\n",
      "Epoch 55/60\n",
      "20000/20000 [==============================] - 0s 11us/step - loss: 0.0017 - val_loss: 0.0023\n",
      "\n",
      "Epoch 00055: val_loss did not improve from 0.00219\n",
      "Epoch 56/60\n",
      "20000/20000 [==============================] - 0s 11us/step - loss: 0.0016 - val_loss: 0.0023\n",
      "\n",
      "Epoch 00056: val_loss did not improve from 0.00219\n",
      "Epoch 57/60\n",
      "20000/20000 [==============================] - 0s 11us/step - loss: 0.0015 - val_loss: 0.0023\n",
      "\n",
      "Epoch 00057: val_loss did not improve from 0.00219\n",
      "Epoch 58/60\n",
      "20000/20000 [==============================] - 0s 12us/step - loss: 0.0015 - val_loss: 0.0020\n",
      "\n",
      "Epoch 00058: val_loss improved from 0.00219 to 0.00202, saving model to output/simple_model/models/2020-01-17-195659.h5\n",
      "Epoch 59/60\n",
      "20000/20000 [==============================] - 0s 10us/step - loss: 0.0015 - val_loss: 0.0021\n",
      "\n",
      "Epoch 00059: val_loss did not improve from 0.00202\n",
      "Epoch 60/60\n",
      "20000/20000 [==============================] - 0s 12us/step - loss: 0.0016 - val_loss: 0.0020\n",
      "\n",
      "Epoch 00060: val_loss did not improve from 0.00202\n"
     ]
    }
   ],
   "source": [
    "simple_model = SimpleModel('output/simple_model/', train_reflectivity_pp.shape[1], train_labels_pp.shape[1])\n",
    "hist = simple_model.train(train_reflectivity_pp, train_labels_pp, val_reflectivity_pp, val_labels_pp)"
   ]
  },
  {
   "cell_type": "markdown",
   "metadata": {},
   "source": [
    "Inspect training and validation loss."
   ]
  },
  {
   "cell_type": "code",
   "execution_count": 24,
   "metadata": {},
   "outputs": [
    {
     "data": {
      "image/png": "[encoded data removed]",
      "text/plain": [
       "<Figure size 432x288 with 1 Axes>"
      ]
     },
     "metadata": {
      "needs_background": "light"
     },
     "output_type": "display_data"
    },
    {
     "data": {
      "image/png": "[encoded data removed]",
      "text/plain": [
       "<Figure size 432x288 with 1 Axes>"
      ]
     },
     "metadata": {
      "needs_background": "light"
     },
     "output_type": "display_data"
    }
   ],
   "source": [
    "plt.plot(hist.history['loss'], label='loss')\n",
    "plt.plot(hist.history['val_loss'], label='val_loss')\n",
    "plt.legend()\n",
    "plt.show()\n",
    "plt.semilogy(hist.history['loss'], label='loss')\n",
    "plt.semilogy(hist.history['val_loss'], label='val_loss')\n",
    "plt.legend()\n",
    "plt.show()"
   ]
  },
  {
   "cell_type": "markdown",
   "metadata": {},
   "source": [
    "### Test on simulated data"
   ]
  },
  {
   "cell_type": "markdown",
   "metadata": {},
   "source": [
    "Initialize the Prediction object for the given model and labels."
   ]
  },
  {
   "cell_type": "code",
   "execution_count": 25,
   "metadata": {},
   "outputs": [],
   "source": [
    "timestamp = '2020-01-17-195659' # Timestamp needs to be adjusted to the one of the trained model\n",
    "pr = Prediction('output/simple_model/models/' + timestamp + '.h5', op.used_label_names)"
   ]
  },
  {
   "cell_type": "code",
   "execution_count": 26,
   "metadata": {},
   "outputs": [
    {
     "name": "stdout",
     "output_type": "stream",
     "text": [
      "Finished 'predict_labels' in 0.0696 secs\n"
     ]
    }
   ],
   "source": [
    "pred_test_labels = pr.predict_labels(test_reflectivity_pp) # Predict labels for simulated test data"
   ]
  },
  {
   "cell_type": "code",
   "execution_count": 27,
   "metadata": {},
   "outputs": [
    {
     "data": {
      "text/html": [
       "<div>\n",
       "<style scoped>\n",
       "    .dataframe tbody tr th:only-of-type {\n",
       "        vertical-align: middle;\n",
       "    }\n",
       "\n",
       "    .dataframe tbody tr th {\n",
       "        vertical-align: top;\n",
       "    }\n",
       "\n",
       "    .dataframe thead th {\n",
       "        text-align: right;\n",
       "    }\n",
       "</style>\n",
       "<table border=\"1\" class=\"dataframe\">\n",
       "  <thead>\n",
       "    <tr style=\"text-align: right;\">\n",
       "      <th></th>\n",
       "      <th>SiOx_thickness</th>\n",
       "      <th>Film_thickness</th>\n",
       "      <th>Film_roughness</th>\n",
       "      <th>Film_sld</th>\n",
       "    </tr>\n",
       "  </thead>\n",
       "  <tbody>\n",
       "    <tr>\n",
       "      <td>0</td>\n",
       "      <td>0.958561</td>\n",
       "      <td>0.089515</td>\n",
       "      <td>0.289704</td>\n",
       "      <td>0.136798</td>\n",
       "    </tr>\n",
       "    <tr>\n",
       "      <td>1</td>\n",
       "      <td>0.424415</td>\n",
       "      <td>0.902893</td>\n",
       "      <td>0.293485</td>\n",
       "      <td>0.549394</td>\n",
       "    </tr>\n",
       "    <tr>\n",
       "      <td>2</td>\n",
       "      <td>0.622017</td>\n",
       "      <td>0.097278</td>\n",
       "      <td>0.191505</td>\n",
       "      <td>0.204079</td>\n",
       "    </tr>\n",
       "    <tr>\n",
       "      <td>3</td>\n",
       "      <td>0.359463</td>\n",
       "      <td>0.782076</td>\n",
       "      <td>0.364184</td>\n",
       "      <td>0.674459</td>\n",
       "    </tr>\n",
       "    <tr>\n",
       "      <td>4</td>\n",
       "      <td>0.757525</td>\n",
       "      <td>0.889160</td>\n",
       "      <td>0.246260</td>\n",
       "      <td>0.692307</td>\n",
       "    </tr>\n",
       "    <tr>\n",
       "      <td>...</td>\n",
       "      <td>...</td>\n",
       "      <td>...</td>\n",
       "      <td>...</td>\n",
       "      <td>...</td>\n",
       "    </tr>\n",
       "    <tr>\n",
       "      <td>495</td>\n",
       "      <td>0.137838</td>\n",
       "      <td>0.017393</td>\n",
       "      <td>0.119280</td>\n",
       "      <td>0.559867</td>\n",
       "    </tr>\n",
       "    <tr>\n",
       "      <td>496</td>\n",
       "      <td>0.832893</td>\n",
       "      <td>0.174054</td>\n",
       "      <td>0.315083</td>\n",
       "      <td>0.123254</td>\n",
       "    </tr>\n",
       "    <tr>\n",
       "      <td>497</td>\n",
       "      <td>0.923483</td>\n",
       "      <td>0.965003</td>\n",
       "      <td>0.918648</td>\n",
       "      <td>0.454771</td>\n",
       "    </tr>\n",
       "    <tr>\n",
       "      <td>498</td>\n",
       "      <td>0.241530</td>\n",
       "      <td>0.736389</td>\n",
       "      <td>0.221555</td>\n",
       "      <td>0.800459</td>\n",
       "    </tr>\n",
       "    <tr>\n",
       "      <td>499</td>\n",
       "      <td>0.795008</td>\n",
       "      <td>0.567168</td>\n",
       "      <td>0.151134</td>\n",
       "      <td>0.907667</td>\n",
       "    </tr>\n",
       "  </tbody>\n",
       "</table>\n",
       "<p>500 rows × 4 columns</p>\n",
       "</div>"
      ],
      "text/plain": [
       "     SiOx_thickness  Film_thickness  Film_roughness  Film_sld\n",
       "0          0.958561        0.089515        0.289704  0.136798\n",
       "1          0.424415        0.902893        0.293485  0.549394\n",
       "2          0.622017        0.097278        0.191505  0.204079\n",
       "3          0.359463        0.782076        0.364184  0.674459\n",
       "4          0.757525        0.889160        0.246260  0.692307\n",
       "..              ...             ...             ...       ...\n",
       "495        0.137838        0.017393        0.119280  0.559867\n",
       "496        0.832893        0.174054        0.315083  0.123254\n",
       "497        0.923483        0.965003        0.918648  0.454771\n",
       "498        0.241530        0.736389        0.221555  0.800459\n",
       "499        0.795008        0.567168        0.151134  0.907667\n",
       "\n",
       "[500 rows x 4 columns]"
      ]
     },
     "execution_count": 27,
     "metadata": {},
     "output_type": "execute_result"
    }
   ],
   "source": [
    "test_labels_pp # Inspect previously generated and preprocessed test labels"
   ]
  },
  {
   "cell_type": "code",
   "execution_count": 28,
   "metadata": {},
   "outputs": [
    {
     "data": {
      "text/html": [
       "<div>\n",
       "<style scoped>\n",
       "    .dataframe tbody tr th:only-of-type {\n",
       "        vertical-align: middle;\n",
       "    }\n",
       "\n",
       "    .dataframe tbody tr th {\n",
       "        vertical-align: top;\n",
       "    }\n",
       "\n",
       "    .dataframe thead th {\n",
       "        text-align: right;\n",
       "    }\n",
       "</style>\n",
       "<table border=\"1\" class=\"dataframe\">\n",
       "  <thead>\n",
       "    <tr style=\"text-align: right;\">\n",
       "      <th></th>\n",
       "      <th>SiOx_thickness</th>\n",
       "      <th>Film_thickness</th>\n",
       "      <th>Film_roughness</th>\n",
       "      <th>Film_sld</th>\n",
       "    </tr>\n",
       "  </thead>\n",
       "  <tbody>\n",
       "    <tr>\n",
       "      <td>0</td>\n",
       "      <td>0.950466</td>\n",
       "      <td>0.086208</td>\n",
       "      <td>0.270405</td>\n",
       "      <td>0.141304</td>\n",
       "    </tr>\n",
       "    <tr>\n",
       "      <td>1</td>\n",
       "      <td>0.434091</td>\n",
       "      <td>0.909180</td>\n",
       "      <td>0.291909</td>\n",
       "      <td>0.539140</td>\n",
       "    </tr>\n",
       "    <tr>\n",
       "      <td>2</td>\n",
       "      <td>0.612155</td>\n",
       "      <td>0.108703</td>\n",
       "      <td>0.193554</td>\n",
       "      <td>0.205437</td>\n",
       "    </tr>\n",
       "    <tr>\n",
       "      <td>3</td>\n",
       "      <td>0.344038</td>\n",
       "      <td>0.763091</td>\n",
       "      <td>0.354224</td>\n",
       "      <td>0.678641</td>\n",
       "    </tr>\n",
       "    <tr>\n",
       "      <td>4</td>\n",
       "      <td>0.729552</td>\n",
       "      <td>0.881447</td>\n",
       "      <td>0.246227</td>\n",
       "      <td>0.696534</td>\n",
       "    </tr>\n",
       "    <tr>\n",
       "      <td>...</td>\n",
       "      <td>...</td>\n",
       "      <td>...</td>\n",
       "      <td>...</td>\n",
       "      <td>...</td>\n",
       "    </tr>\n",
       "    <tr>\n",
       "      <td>495</td>\n",
       "      <td>0.284896</td>\n",
       "      <td>0.000000</td>\n",
       "      <td>0.083721</td>\n",
       "      <td>0.783175</td>\n",
       "    </tr>\n",
       "    <tr>\n",
       "      <td>496</td>\n",
       "      <td>0.855902</td>\n",
       "      <td>0.170378</td>\n",
       "      <td>0.282327</td>\n",
       "      <td>0.122445</td>\n",
       "    </tr>\n",
       "    <tr>\n",
       "      <td>497</td>\n",
       "      <td>0.918513</td>\n",
       "      <td>0.939348</td>\n",
       "      <td>0.923913</td>\n",
       "      <td>0.465172</td>\n",
       "    </tr>\n",
       "    <tr>\n",
       "      <td>498</td>\n",
       "      <td>0.253108</td>\n",
       "      <td>0.747320</td>\n",
       "      <td>0.217002</td>\n",
       "      <td>0.803725</td>\n",
       "    </tr>\n",
       "    <tr>\n",
       "      <td>499</td>\n",
       "      <td>0.768402</td>\n",
       "      <td>0.581159</td>\n",
       "      <td>0.153548</td>\n",
       "      <td>0.906739</td>\n",
       "    </tr>\n",
       "  </tbody>\n",
       "</table>\n",
       "<p>500 rows × 4 columns</p>\n",
       "</div>"
      ],
      "text/plain": [
       "     SiOx_thickness  Film_thickness  Film_roughness  Film_sld\n",
       "0          0.950466        0.086208        0.270405  0.141304\n",
       "1          0.434091        0.909180        0.291909  0.539140\n",
       "2          0.612155        0.108703        0.193554  0.205437\n",
       "3          0.344038        0.763091        0.354224  0.678641\n",
       "4          0.729552        0.881447        0.246227  0.696534\n",
       "..              ...             ...             ...       ...\n",
       "495        0.284896        0.000000        0.083721  0.783175\n",
       "496        0.855902        0.170378        0.282327  0.122445\n",
       "497        0.918513        0.939348        0.923913  0.465172\n",
       "498        0.253108        0.747320        0.217002  0.803725\n",
       "499        0.768402        0.581159        0.153548  0.906739\n",
       "\n",
       "[500 rows x 4 columns]"
      ]
     },
     "execution_count": 28,
     "metadata": {},
     "output_type": "execute_result"
    }
   ],
   "source": [
    "pred_test_labels # Inspect predicted test labels"
   ]
  },
  {
   "cell_type": "code",
   "execution_count": 29,
   "metadata": {},
   "outputs": [
    {
     "data": {
      "text/html": [
       "<div>\n",
       "<style scoped>\n",
       "    .dataframe tbody tr th:only-of-type {\n",
       "        vertical-align: middle;\n",
       "    }\n",
       "\n",
       "    .dataframe tbody tr th {\n",
       "        vertical-align: top;\n",
       "    }\n",
       "\n",
       "    .dataframe thead th {\n",
       "        text-align: right;\n",
       "    }\n",
       "</style>\n",
       "<table border=\"1\" class=\"dataframe\">\n",
       "  <thead>\n",
       "    <tr style=\"text-align: right;\">\n",
       "      <th></th>\n",
       "      <th>SiOx_thickness</th>\n",
       "      <th>Film_thickness</th>\n",
       "      <th>Film_roughness</th>\n",
       "      <th>Film_sld</th>\n",
       "    </tr>\n",
       "  </thead>\n",
       "  <tbody>\n",
       "    <tr>\n",
       "      <td>0</td>\n",
       "      <td>-0.008094</td>\n",
       "      <td>-0.003307</td>\n",
       "      <td>-0.019299</td>\n",
       "      <td>0.004506</td>\n",
       "    </tr>\n",
       "    <tr>\n",
       "      <td>1</td>\n",
       "      <td>0.009675</td>\n",
       "      <td>0.006287</td>\n",
       "      <td>-0.001576</td>\n",
       "      <td>-0.010254</td>\n",
       "    </tr>\n",
       "    <tr>\n",
       "      <td>2</td>\n",
       "      <td>-0.009862</td>\n",
       "      <td>0.011425</td>\n",
       "      <td>0.002048</td>\n",
       "      <td>0.001358</td>\n",
       "    </tr>\n",
       "    <tr>\n",
       "      <td>3</td>\n",
       "      <td>-0.015425</td>\n",
       "      <td>-0.018985</td>\n",
       "      <td>-0.009960</td>\n",
       "      <td>0.004181</td>\n",
       "    </tr>\n",
       "    <tr>\n",
       "      <td>4</td>\n",
       "      <td>-0.027973</td>\n",
       "      <td>-0.007713</td>\n",
       "      <td>-0.000033</td>\n",
       "      <td>0.004227</td>\n",
       "    </tr>\n",
       "    <tr>\n",
       "      <td>...</td>\n",
       "      <td>...</td>\n",
       "      <td>...</td>\n",
       "      <td>...</td>\n",
       "      <td>...</td>\n",
       "    </tr>\n",
       "    <tr>\n",
       "      <td>495</td>\n",
       "      <td>0.147058</td>\n",
       "      <td>-0.017393</td>\n",
       "      <td>-0.035559</td>\n",
       "      <td>0.223308</td>\n",
       "    </tr>\n",
       "    <tr>\n",
       "      <td>496</td>\n",
       "      <td>0.023010</td>\n",
       "      <td>-0.003676</td>\n",
       "      <td>-0.032756</td>\n",
       "      <td>-0.000809</td>\n",
       "    </tr>\n",
       "    <tr>\n",
       "      <td>497</td>\n",
       "      <td>-0.004970</td>\n",
       "      <td>-0.025655</td>\n",
       "      <td>0.005265</td>\n",
       "      <td>0.010401</td>\n",
       "    </tr>\n",
       "    <tr>\n",
       "      <td>498</td>\n",
       "      <td>0.011579</td>\n",
       "      <td>0.010931</td>\n",
       "      <td>-0.004553</td>\n",
       "      <td>0.003265</td>\n",
       "    </tr>\n",
       "    <tr>\n",
       "      <td>499</td>\n",
       "      <td>-0.026606</td>\n",
       "      <td>0.013991</td>\n",
       "      <td>0.002414</td>\n",
       "      <td>-0.000928</td>\n",
       "    </tr>\n",
       "  </tbody>\n",
       "</table>\n",
       "<p>500 rows × 4 columns</p>\n",
       "</div>"
      ],
      "text/plain": [
       "     SiOx_thickness  Film_thickness  Film_roughness  Film_sld\n",
       "0         -0.008094       -0.003307       -0.019299  0.004506\n",
       "1          0.009675        0.006287       -0.001576 -0.010254\n",
       "2         -0.009862        0.011425        0.002048  0.001358\n",
       "3         -0.015425       -0.018985       -0.009960  0.004181\n",
       "4         -0.027973       -0.007713       -0.000033  0.004227\n",
       "..              ...             ...             ...       ...\n",
       "495        0.147058       -0.017393       -0.035559  0.223308\n",
       "496        0.023010       -0.003676       -0.032756 -0.000809\n",
       "497       -0.004970       -0.025655        0.005265  0.010401\n",
       "498        0.011579        0.010931       -0.004553  0.003265\n",
       "499       -0.026606        0.013991        0.002414 -0.000928\n",
       "\n",
       "[500 rows x 4 columns]"
      ]
     },
     "execution_count": 29,
     "metadata": {},
     "output_type": "execute_result"
    }
   ],
   "source": [
    "pred_test_labels.reset_index(drop=True) - test_labels_pp.reset_index(drop=True) # Calculate absolute error"
   ]
  },
  {
   "cell_type": "code",
   "execution_count": 30,
   "metadata": {},
   "outputs": [
    {
     "name": "stdout",
     "output_type": "stream",
     "text": [
      "SiOx_thickness    0.031515\n",
      "Film_thickness    0.011913\n",
      "Film_roughness    0.014923\n",
      "Film_sld          0.018987\n",
      "dtype: float64\n"
     ]
    }
   ],
   "source": [
    "mae = pr.mean_absolute_error(pred_test_labels, test_labels_pp) # Calculate mean absolute error\n",
    "print(mae)"
   ]
  },
  {
   "cell_type": "code",
   "execution_count": 31,
   "metadata": {},
   "outputs": [
    {
     "name": "stdout",
     "output_type": "stream",
     "text": [
      "SiOx_thickness    0.812078\n",
      "Film_thickness    0.082397\n",
      "Film_roughness    0.250862\n",
      "Film_sld          0.065814\n",
      "dtype: float64\n"
     ]
    }
   ],
   "source": [
    "mape = pr.mean_absolute_percentage_error(pred_test_labels, test_labels_pp) # Calculate mean absolute percentage error\n",
    "print(mape)"
   ]
  },
  {
   "cell_type": "code",
   "execution_count": 32,
   "metadata": {},
   "outputs": [
    {
     "data": {
      "text/html": [
       "<div>\n",
       "<style scoped>\n",
       "    .dataframe tbody tr th:only-of-type {\n",
       "        vertical-align: middle;\n",
       "    }\n",
       "\n",
       "    .dataframe tbody tr th {\n",
       "        vertical-align: top;\n",
       "    }\n",
       "\n",
       "    .dataframe thead th {\n",
       "        text-align: right;\n",
       "    }\n",
       "</style>\n",
       "<table border=\"1\" class=\"dataframe\">\n",
       "  <thead>\n",
       "    <tr style=\"text-align: right;\">\n",
       "      <th></th>\n",
       "      <th>Si_thickness</th>\n",
       "      <th>SiOx_thickness</th>\n",
       "      <th>Film_thickness</th>\n",
       "      <th>Si_roughness</th>\n",
       "      <th>SiOx_roughness</th>\n",
       "      <th>Film_roughness</th>\n",
       "      <th>Si_sld</th>\n",
       "      <th>SiOx_sld</th>\n",
       "      <th>Film_sld</th>\n",
       "    </tr>\n",
       "  </thead>\n",
       "  <tbody>\n",
       "    <tr>\n",
       "      <td>0</td>\n",
       "      <td>1.0</td>\n",
       "      <td>28.872852</td>\n",
       "      <td>45.064113</td>\n",
       "      <td>1.0</td>\n",
       "      <td>2.5</td>\n",
       "      <td>17.382215</td>\n",
       "      <td>20.1</td>\n",
       "      <td>17.8</td>\n",
       "      <td>2.778370</td>\n",
       "    </tr>\n",
       "    <tr>\n",
       "      <td>1</td>\n",
       "      <td>1.0</td>\n",
       "      <td>14.344100</td>\n",
       "      <td>272.810166</td>\n",
       "      <td>1.0</td>\n",
       "      <td>2.5</td>\n",
       "      <td>17.609095</td>\n",
       "      <td>20.1</td>\n",
       "      <td>17.8</td>\n",
       "      <td>8.142122</td>\n",
       "    </tr>\n",
       "    <tr>\n",
       "      <td>2</td>\n",
       "      <td>1.0</td>\n",
       "      <td>19.718859</td>\n",
       "      <td>47.237805</td>\n",
       "      <td>1.0</td>\n",
       "      <td>2.5</td>\n",
       "      <td>11.490326</td>\n",
       "      <td>20.1</td>\n",
       "      <td>17.8</td>\n",
       "      <td>3.653029</td>\n",
       "    </tr>\n",
       "    <tr>\n",
       "      <td>3</td>\n",
       "      <td>1.0</td>\n",
       "      <td>12.577387</td>\n",
       "      <td>238.981324</td>\n",
       "      <td>1.0</td>\n",
       "      <td>2.5</td>\n",
       "      <td>21.851051</td>\n",
       "      <td>20.1</td>\n",
       "      <td>17.8</td>\n",
       "      <td>9.767969</td>\n",
       "    </tr>\n",
       "    <tr>\n",
       "      <td>4</td>\n",
       "      <td>1.0</td>\n",
       "      <td>23.404693</td>\n",
       "      <td>268.964842</td>\n",
       "      <td>1.0</td>\n",
       "      <td>2.5</td>\n",
       "      <td>14.775607</td>\n",
       "      <td>20.1</td>\n",
       "      <td>17.8</td>\n",
       "      <td>9.999991</td>\n",
       "    </tr>\n",
       "    <tr>\n",
       "      <td>...</td>\n",
       "      <td>...</td>\n",
       "      <td>...</td>\n",
       "      <td>...</td>\n",
       "      <td>...</td>\n",
       "      <td>...</td>\n",
       "      <td>...</td>\n",
       "      <td>...</td>\n",
       "      <td>...</td>\n",
       "      <td>...</td>\n",
       "    </tr>\n",
       "    <tr>\n",
       "      <td>495</td>\n",
       "      <td>1.0</td>\n",
       "      <td>6.549187</td>\n",
       "      <td>24.869964</td>\n",
       "      <td>1.0</td>\n",
       "      <td>2.5</td>\n",
       "      <td>7.156819</td>\n",
       "      <td>20.1</td>\n",
       "      <td>17.8</td>\n",
       "      <td>8.278267</td>\n",
       "    </tr>\n",
       "    <tr>\n",
       "      <td>496</td>\n",
       "      <td>1.0</td>\n",
       "      <td>25.454678</td>\n",
       "      <td>68.735152</td>\n",
       "      <td>1.0</td>\n",
       "      <td>2.5</td>\n",
       "      <td>18.904977</td>\n",
       "      <td>20.1</td>\n",
       "      <td>17.8</td>\n",
       "      <td>2.602305</td>\n",
       "    </tr>\n",
       "    <tr>\n",
       "      <td>497</td>\n",
       "      <td>1.0</td>\n",
       "      <td>27.918737</td>\n",
       "      <td>290.200891</td>\n",
       "      <td>1.0</td>\n",
       "      <td>2.5</td>\n",
       "      <td>55.118869</td>\n",
       "      <td>20.1</td>\n",
       "      <td>17.8</td>\n",
       "      <td>6.912025</td>\n",
       "    </tr>\n",
       "    <tr>\n",
       "      <td>498</td>\n",
       "      <td>1.0</td>\n",
       "      <td>9.369604</td>\n",
       "      <td>226.188839</td>\n",
       "      <td>1.0</td>\n",
       "      <td>2.5</td>\n",
       "      <td>13.293290</td>\n",
       "      <td>20.1</td>\n",
       "      <td>17.8</td>\n",
       "      <td>11.405973</td>\n",
       "    </tr>\n",
       "    <tr>\n",
       "      <td>499</td>\n",
       "      <td>1.0</td>\n",
       "      <td>24.424207</td>\n",
       "      <td>178.806951</td>\n",
       "      <td>1.0</td>\n",
       "      <td>2.5</td>\n",
       "      <td>9.068043</td>\n",
       "      <td>20.1</td>\n",
       "      <td>17.8</td>\n",
       "      <td>12.799671</td>\n",
       "    </tr>\n",
       "  </tbody>\n",
       "</table>\n",
       "<p>500 rows × 9 columns</p>\n",
       "</div>"
      ],
      "text/plain": [
       "     Si_thickness  SiOx_thickness  Film_thickness  Si_roughness  \\\n",
       "0             1.0       28.872852       45.064113           1.0   \n",
       "1             1.0       14.344100      272.810166           1.0   \n",
       "2             1.0       19.718859       47.237805           1.0   \n",
       "3             1.0       12.577387      238.981324           1.0   \n",
       "4             1.0       23.404693      268.964842           1.0   \n",
       "..            ...             ...             ...           ...   \n",
       "495           1.0        6.549187       24.869964           1.0   \n",
       "496           1.0       25.454678       68.735152           1.0   \n",
       "497           1.0       27.918737      290.200891           1.0   \n",
       "498           1.0        9.369604      226.188839           1.0   \n",
       "499           1.0       24.424207      178.806951           1.0   \n",
       "\n",
       "     SiOx_roughness  Film_roughness  Si_sld  SiOx_sld   Film_sld  \n",
       "0               2.5       17.382215    20.1      17.8   2.778370  \n",
       "1               2.5       17.609095    20.1      17.8   8.142122  \n",
       "2               2.5       11.490326    20.1      17.8   3.653029  \n",
       "3               2.5       21.851051    20.1      17.8   9.767969  \n",
       "4               2.5       14.775607    20.1      17.8   9.999991  \n",
       "..              ...             ...     ...       ...        ...  \n",
       "495             2.5        7.156819    20.1      17.8   8.278267  \n",
       "496             2.5       18.904977    20.1      17.8   2.602305  \n",
       "497             2.5       55.118869    20.1      17.8   6.912025  \n",
       "498             2.5       13.293290    20.1      17.8  11.405973  \n",
       "499             2.5        9.068043    20.1      17.8  12.799671  \n",
       "\n",
       "[500 rows x 9 columns]"
      ]
     },
     "execution_count": 32,
     "metadata": {},
     "output_type": "execute_result"
    }
   ],
   "source": [
    "test_labels # Inspect previously generated test labels"
   ]
  },
  {
   "cell_type": "code",
   "execution_count": 33,
   "metadata": {},
   "outputs": [],
   "source": [
    "restored_pred_test_labels = op.restore_labels(pred_test_labels, test_labels) # Reverse preprocessing on predicted test labels"
   ]
  },
  {
   "cell_type": "code",
   "execution_count": 34,
   "metadata": {
    "scrolled": true
   },
   "outputs": [
    {
     "data": {
      "text/html": [
       "<div>\n",
       "<style scoped>\n",
       "    .dataframe tbody tr th:only-of-type {\n",
       "        vertical-align: middle;\n",
       "    }\n",
       "\n",
       "    .dataframe tbody tr th {\n",
       "        vertical-align: top;\n",
       "    }\n",
       "\n",
       "    .dataframe thead th {\n",
       "        text-align: right;\n",
       "    }\n",
       "</style>\n",
       "<table border=\"1\" class=\"dataframe\">\n",
       "  <thead>\n",
       "    <tr style=\"text-align: right;\">\n",
       "      <th></th>\n",
       "      <th>Si_thickness</th>\n",
       "      <th>SiOx_thickness</th>\n",
       "      <th>Film_thickness</th>\n",
       "      <th>Si_roughness</th>\n",
       "      <th>SiOx_roughness</th>\n",
       "      <th>Film_roughness</th>\n",
       "      <th>Si_sld</th>\n",
       "      <th>SiOx_sld</th>\n",
       "      <th>Film_sld</th>\n",
       "    </tr>\n",
       "  </thead>\n",
       "  <tbody>\n",
       "    <tr>\n",
       "      <td>0</td>\n",
       "      <td>1.0</td>\n",
       "      <td>28.652685</td>\n",
       "      <td>44.138199</td>\n",
       "      <td>1.0</td>\n",
       "      <td>2.5</td>\n",
       "      <td>16.224272</td>\n",
       "      <td>20.1</td>\n",
       "      <td>17.8</td>\n",
       "      <td>2.836947</td>\n",
       "    </tr>\n",
       "    <tr>\n",
       "      <td>1</td>\n",
       "      <td>1.0</td>\n",
       "      <td>14.607272</td>\n",
       "      <td>274.570435</td>\n",
       "      <td>1.0</td>\n",
       "      <td>2.5</td>\n",
       "      <td>17.514534</td>\n",
       "      <td>20.1</td>\n",
       "      <td>17.8</td>\n",
       "      <td>8.008825</td>\n",
       "    </tr>\n",
       "    <tr>\n",
       "      <td>2</td>\n",
       "      <td>1.0</td>\n",
       "      <td>19.450624</td>\n",
       "      <td>50.436943</td>\n",
       "      <td>1.0</td>\n",
       "      <td>2.5</td>\n",
       "      <td>11.613225</td>\n",
       "      <td>20.1</td>\n",
       "      <td>17.8</td>\n",
       "      <td>3.670682</td>\n",
       "    </tr>\n",
       "    <tr>\n",
       "      <td>3</td>\n",
       "      <td>1.0</td>\n",
       "      <td>12.157836</td>\n",
       "      <td>233.665421</td>\n",
       "      <td>1.0</td>\n",
       "      <td>2.5</td>\n",
       "      <td>21.253437</td>\n",
       "      <td>20.1</td>\n",
       "      <td>17.8</td>\n",
       "      <td>9.822328</td>\n",
       "    </tr>\n",
       "    <tr>\n",
       "      <td>4</td>\n",
       "      <td>1.0</td>\n",
       "      <td>22.643824</td>\n",
       "      <td>266.805298</td>\n",
       "      <td>1.0</td>\n",
       "      <td>2.5</td>\n",
       "      <td>14.773638</td>\n",
       "      <td>20.1</td>\n",
       "      <td>17.8</td>\n",
       "      <td>10.054945</td>\n",
       "    </tr>\n",
       "    <tr>\n",
       "      <td>...</td>\n",
       "      <td>...</td>\n",
       "      <td>...</td>\n",
       "      <td>...</td>\n",
       "      <td>...</td>\n",
       "      <td>...</td>\n",
       "      <td>...</td>\n",
       "      <td>...</td>\n",
       "      <td>...</td>\n",
       "      <td>...</td>\n",
       "    </tr>\n",
       "    <tr>\n",
       "      <td>495</td>\n",
       "      <td>1.0</td>\n",
       "      <td>10.549170</td>\n",
       "      <td>20.000000</td>\n",
       "      <td>1.0</td>\n",
       "      <td>2.5</td>\n",
       "      <td>5.023251</td>\n",
       "      <td>20.1</td>\n",
       "      <td>17.8</td>\n",
       "      <td>11.181277</td>\n",
       "    </tr>\n",
       "    <tr>\n",
       "      <td>496</td>\n",
       "      <td>1.0</td>\n",
       "      <td>26.080547</td>\n",
       "      <td>67.705849</td>\n",
       "      <td>1.0</td>\n",
       "      <td>2.5</td>\n",
       "      <td>16.939644</td>\n",
       "      <td>20.1</td>\n",
       "      <td>17.8</td>\n",
       "      <td>2.591787</td>\n",
       "    </tr>\n",
       "    <tr>\n",
       "      <td>497</td>\n",
       "      <td>1.0</td>\n",
       "      <td>27.783546</td>\n",
       "      <td>283.017426</td>\n",
       "      <td>1.0</td>\n",
       "      <td>2.5</td>\n",
       "      <td>55.434761</td>\n",
       "      <td>20.1</td>\n",
       "      <td>17.8</td>\n",
       "      <td>7.047240</td>\n",
       "    </tr>\n",
       "    <tr>\n",
       "      <td>498</td>\n",
       "      <td>1.0</td>\n",
       "      <td>9.684545</td>\n",
       "      <td>229.249542</td>\n",
       "      <td>1.0</td>\n",
       "      <td>2.5</td>\n",
       "      <td>13.020091</td>\n",
       "      <td>20.1</td>\n",
       "      <td>17.8</td>\n",
       "      <td>11.448420</td>\n",
       "    </tr>\n",
       "    <tr>\n",
       "      <td>499</td>\n",
       "      <td>1.0</td>\n",
       "      <td>23.700525</td>\n",
       "      <td>182.724548</td>\n",
       "      <td>1.0</td>\n",
       "      <td>2.5</td>\n",
       "      <td>9.212873</td>\n",
       "      <td>20.1</td>\n",
       "      <td>17.8</td>\n",
       "      <td>12.787608</td>\n",
       "    </tr>\n",
       "  </tbody>\n",
       "</table>\n",
       "<p>500 rows × 9 columns</p>\n",
       "</div>"
      ],
      "text/plain": [
       "     Si_thickness  SiOx_thickness  Film_thickness  Si_roughness  \\\n",
       "0             1.0       28.652685       44.138199           1.0   \n",
       "1             1.0       14.607272      274.570435           1.0   \n",
       "2             1.0       19.450624       50.436943           1.0   \n",
       "3             1.0       12.157836      233.665421           1.0   \n",
       "4             1.0       22.643824      266.805298           1.0   \n",
       "..            ...             ...             ...           ...   \n",
       "495           1.0       10.549170       20.000000           1.0   \n",
       "496           1.0       26.080547       67.705849           1.0   \n",
       "497           1.0       27.783546      283.017426           1.0   \n",
       "498           1.0        9.684545      229.249542           1.0   \n",
       "499           1.0       23.700525      182.724548           1.0   \n",
       "\n",
       "     SiOx_roughness  Film_roughness  Si_sld  SiOx_sld   Film_sld  \n",
       "0               2.5       16.224272    20.1      17.8   2.836947  \n",
       "1               2.5       17.514534    20.1      17.8   8.008825  \n",
       "2               2.5       11.613225    20.1      17.8   3.670682  \n",
       "3               2.5       21.253437    20.1      17.8   9.822328  \n",
       "4               2.5       14.773638    20.1      17.8  10.054945  \n",
       "..              ...             ...     ...       ...        ...  \n",
       "495             2.5        5.023251    20.1      17.8  11.181277  \n",
       "496             2.5       16.939644    20.1      17.8   2.591787  \n",
       "497             2.5       55.434761    20.1      17.8   7.047240  \n",
       "498             2.5       13.020091    20.1      17.8  11.448420  \n",
       "499             2.5        9.212873    20.1      17.8  12.787608  \n",
       "\n",
       "[500 rows x 9 columns]"
      ]
     },
     "execution_count": 34,
     "metadata": {},
     "output_type": "execute_result"
    }
   ],
   "source": [
    "restored_pred_test_labels # Inspect predicted test labels without preprocessing"
   ]
  },
  {
   "cell_type": "markdown",
   "metadata": {},
   "source": [
    "Compare test labels with predicted test labels."
   ]
  },
  {
   "cell_type": "code",
   "execution_count": 35,
   "metadata": {},
   "outputs": [
    {
     "data": {
      "image/png": "[encoded data removed]",
      "text/plain": [
       "<Figure size 432x288 with 1 Axes>"
      ]
     },
     "metadata": {
      "needs_background": "light"
     },
     "output_type": "display_data"
    }
   ],
   "source": [
    "plt.plot(restored_pred_test_labels['Film_thickness'], test_labels['Film_thickness'], '.', label='simulated')\n",
    "plt.plot(restored_pred_test_labels['Film_thickness'], restored_pred_test_labels['Film_thickness'], label='predicted')\n",
    "plt.legend()\n",
    "plt.xlabel('Index')\n",
    "plt.ylabel('Thickness')\n",
    "plt.show()"
   ]
  },
  {
   "cell_type": "markdown",
   "metadata": {},
   "source": [
    "Simulate reflectivity from predicted labels."
   ]
  },
  {
   "cell_type": "code",
   "execution_count": 36,
   "metadata": {},
   "outputs": [
    {
     "name": "stderr",
     "output_type": "stream",
     "text": [
      "100%|██████████| 500/500 [00:00<00:00, 1285.48it/s]"
     ]
    },
    {
     "name": "stdout",
     "output_type": "stream",
     "text": [
      "Finished 'simulate_reflectivity' in 0.3915 secs\n"
     ]
    },
    {
     "name": "stderr",
     "output_type": "stream",
     "text": [
      "\n"
     ]
    }
   ],
   "source": [
    "pred_test_reflectivity = gen.simulate_reflectivity(restored_pred_test_labels)"
   ]
  },
  {
   "cell_type": "markdown",
   "metadata": {},
   "source": [
    "Plot test reflectivity with predicted reflectivity"
   ]
  },
  {
   "cell_type": "code",
   "execution_count": 37,
   "metadata": {},
   "outputs": [
    {
     "data": {
      "image/png": "[encoded data removed]",
      "text/plain": [
       "<Figure size 432x288 with 1 Axes>"
      ]
     },
     "metadata": {
      "needs_background": "light"
     },
     "output_type": "display_data"
    }
   ],
   "source": [
    "plt.semilogy(q, test_reflectivity[4, :], 'o', label='simulated')\n",
    "plt.semilogy(q, pred_test_reflectivity[4, :], label='predicted')\n",
    "plt.legend()\n",
    "plt.xlabel('q [1/A]')\n",
    "plt.ylabel('Reflectivity [norm.]')\n",
    "plt.show()"
   ]
  },
  {
   "cell_type": "markdown",
   "metadata": {},
   "source": [
    "### Test on experimental data"
   ]
  },
  {
   "cell_type": "code",
   "execution_count": 38,
   "metadata": {},
   "outputs": [],
   "source": [
    "experimental_reflectivity_pp = ip.apply_preprocessing(experimental_reflectivity)"
   ]
  },
  {
   "cell_type": "code",
   "execution_count": 39,
   "metadata": {},
   "outputs": [
    {
     "name": "stdout",
     "output_type": "stream",
     "text": [
      "Finished 'predict_labels' in 0.0038 secs\n"
     ]
    }
   ],
   "source": [
    "pred_experimental_test_labels = pr.predict_labels(experimental_reflectivity_pp) # Predict labels for experimental test data"
   ]
  },
  {
   "cell_type": "code",
   "execution_count": 40,
   "metadata": {},
   "outputs": [
    {
     "data": {
      "text/html": [
       "<div>\n",
       "<style scoped>\n",
       "    .dataframe tbody tr th:only-of-type {\n",
       "        vertical-align: middle;\n",
       "    }\n",
       "\n",
       "    .dataframe tbody tr th {\n",
       "        vertical-align: top;\n",
       "    }\n",
       "\n",
       "    .dataframe thead th {\n",
       "        text-align: right;\n",
       "    }\n",
       "</style>\n",
       "<table border=\"1\" class=\"dataframe\">\n",
       "  <thead>\n",
       "    <tr style=\"text-align: right;\">\n",
       "      <th></th>\n",
       "      <th>SiOx_thickness</th>\n",
       "      <th>Film_thickness</th>\n",
       "      <th>Film_roughness</th>\n",
       "      <th>Film_sld</th>\n",
       "    </tr>\n",
       "  </thead>\n",
       "  <tbody>\n",
       "    <tr>\n",
       "      <td>0</td>\n",
       "      <td>0.614196</td>\n",
       "      <td>0.575213</td>\n",
       "      <td>0.187552</td>\n",
       "      <td>0.015110</td>\n",
       "    </tr>\n",
       "    <tr>\n",
       "      <td>1</td>\n",
       "      <td>0.652215</td>\n",
       "      <td>0.499034</td>\n",
       "      <td>0.187930</td>\n",
       "      <td>0.051453</td>\n",
       "    </tr>\n",
       "    <tr>\n",
       "      <td>2</td>\n",
       "      <td>0.681738</td>\n",
       "      <td>0.313495</td>\n",
       "      <td>0.202775</td>\n",
       "      <td>0.088829</td>\n",
       "    </tr>\n",
       "    <tr>\n",
       "      <td>3</td>\n",
       "      <td>0.664503</td>\n",
       "      <td>0.234178</td>\n",
       "      <td>0.287632</td>\n",
       "      <td>0.142881</td>\n",
       "    </tr>\n",
       "    <tr>\n",
       "      <td>4</td>\n",
       "      <td>0.639296</td>\n",
       "      <td>0.055974</td>\n",
       "      <td>0.059981</td>\n",
       "      <td>0.194520</td>\n",
       "    </tr>\n",
       "    <tr>\n",
       "      <td>...</td>\n",
       "      <td>...</td>\n",
       "      <td>...</td>\n",
       "      <td>...</td>\n",
       "      <td>...</td>\n",
       "    </tr>\n",
       "    <tr>\n",
       "      <td>64</td>\n",
       "      <td>0.222610</td>\n",
       "      <td>0.455889</td>\n",
       "      <td>0.488168</td>\n",
       "      <td>0.839516</td>\n",
       "    </tr>\n",
       "    <tr>\n",
       "      <td>65</td>\n",
       "      <td>0.251390</td>\n",
       "      <td>0.472147</td>\n",
       "      <td>0.497866</td>\n",
       "      <td>0.842843</td>\n",
       "    </tr>\n",
       "    <tr>\n",
       "      <td>66</td>\n",
       "      <td>0.197913</td>\n",
       "      <td>0.477924</td>\n",
       "      <td>0.520720</td>\n",
       "      <td>0.855241</td>\n",
       "    </tr>\n",
       "    <tr>\n",
       "      <td>67</td>\n",
       "      <td>0.197042</td>\n",
       "      <td>0.491521</td>\n",
       "      <td>0.516336</td>\n",
       "      <td>0.859378</td>\n",
       "    </tr>\n",
       "    <tr>\n",
       "      <td>68</td>\n",
       "      <td>0.190139</td>\n",
       "      <td>0.499085</td>\n",
       "      <td>0.521142</td>\n",
       "      <td>0.859028</td>\n",
       "    </tr>\n",
       "  </tbody>\n",
       "</table>\n",
       "<p>69 rows × 4 columns</p>\n",
       "</div>"
      ],
      "text/plain": [
       "    SiOx_thickness  Film_thickness  Film_roughness  Film_sld\n",
       "0         0.614196        0.575213        0.187552  0.015110\n",
       "1         0.652215        0.499034        0.187930  0.051453\n",
       "2         0.681738        0.313495        0.202775  0.088829\n",
       "3         0.664503        0.234178        0.287632  0.142881\n",
       "4         0.639296        0.055974        0.059981  0.194520\n",
       "..             ...             ...             ...       ...\n",
       "64        0.222610        0.455889        0.488168  0.839516\n",
       "65        0.251390        0.472147        0.497866  0.842843\n",
       "66        0.197913        0.477924        0.520720  0.855241\n",
       "67        0.197042        0.491521        0.516336  0.859378\n",
       "68        0.190139        0.499085        0.521142  0.859028\n",
       "\n",
       "[69 rows x 4 columns]"
      ]
     },
     "execution_count": 40,
     "metadata": {},
     "output_type": "execute_result"
    }
   ],
   "source": [
    "pred_experimental_test_labels"
   ]
  },
  {
   "cell_type": "code",
   "execution_count": 41,
   "metadata": {},
   "outputs": [],
   "source": [
    "restored_pred_experimental_test_labels = op.restore_labels(pred_experimental_test_labels, test_labels) # Reverse preprocessing on predicted test labels"
   ]
  },
  {
   "cell_type": "code",
   "execution_count": 42,
   "metadata": {},
   "outputs": [
    {
     "data": {
      "text/html": [
       "<div>\n",
       "<style scoped>\n",
       "    .dataframe tbody tr th:only-of-type {\n",
       "        vertical-align: middle;\n",
       "    }\n",
       "\n",
       "    .dataframe tbody tr th {\n",
       "        vertical-align: top;\n",
       "    }\n",
       "\n",
       "    .dataframe thead th {\n",
       "        text-align: right;\n",
       "    }\n",
       "</style>\n",
       "<table border=\"1\" class=\"dataframe\">\n",
       "  <thead>\n",
       "    <tr style=\"text-align: right;\">\n",
       "      <th></th>\n",
       "      <th>Si_thickness</th>\n",
       "      <th>SiOx_thickness</th>\n",
       "      <th>Film_thickness</th>\n",
       "      <th>Si_roughness</th>\n",
       "      <th>SiOx_roughness</th>\n",
       "      <th>Film_roughness</th>\n",
       "      <th>Si_sld</th>\n",
       "      <th>SiOx_sld</th>\n",
       "      <th>Film_sld</th>\n",
       "    </tr>\n",
       "  </thead>\n",
       "  <tbody>\n",
       "    <tr>\n",
       "      <td>0</td>\n",
       "      <td>1.0</td>\n",
       "      <td>19.506130</td>\n",
       "      <td>181.059555</td>\n",
       "      <td>1.0</td>\n",
       "      <td>2.5</td>\n",
       "      <td>11.253111</td>\n",
       "      <td>20.1</td>\n",
       "      <td>17.8</td>\n",
       "      <td>1.196431</td>\n",
       "    </tr>\n",
       "    <tr>\n",
       "      <td>1</td>\n",
       "      <td>1.0</td>\n",
       "      <td>20.540258</td>\n",
       "      <td>159.729462</td>\n",
       "      <td>1.0</td>\n",
       "      <td>2.5</td>\n",
       "      <td>11.275818</td>\n",
       "      <td>20.1</td>\n",
       "      <td>17.8</td>\n",
       "      <td>1.668891</td>\n",
       "    </tr>\n",
       "    <tr>\n",
       "      <td>2</td>\n",
       "      <td>1.0</td>\n",
       "      <td>21.343262</td>\n",
       "      <td>107.778473</td>\n",
       "      <td>1.0</td>\n",
       "      <td>2.5</td>\n",
       "      <td>12.166486</td>\n",
       "      <td>20.1</td>\n",
       "      <td>17.8</td>\n",
       "      <td>2.154772</td>\n",
       "    </tr>\n",
       "    <tr>\n",
       "      <td>3</td>\n",
       "      <td>1.0</td>\n",
       "      <td>20.874475</td>\n",
       "      <td>85.569939</td>\n",
       "      <td>1.0</td>\n",
       "      <td>2.5</td>\n",
       "      <td>17.257915</td>\n",
       "      <td>20.1</td>\n",
       "      <td>17.8</td>\n",
       "      <td>2.857458</td>\n",
       "    </tr>\n",
       "    <tr>\n",
       "      <td>4</td>\n",
       "      <td>1.0</td>\n",
       "      <td>20.188864</td>\n",
       "      <td>35.672615</td>\n",
       "      <td>1.0</td>\n",
       "      <td>2.5</td>\n",
       "      <td>3.598879</td>\n",
       "      <td>20.1</td>\n",
       "      <td>17.8</td>\n",
       "      <td>3.528758</td>\n",
       "    </tr>\n",
       "    <tr>\n",
       "      <td>...</td>\n",
       "      <td>...</td>\n",
       "      <td>...</td>\n",
       "      <td>...</td>\n",
       "      <td>...</td>\n",
       "      <td>...</td>\n",
       "      <td>...</td>\n",
       "      <td>...</td>\n",
       "      <td>...</td>\n",
       "      <td>...</td>\n",
       "    </tr>\n",
       "    <tr>\n",
       "      <td>64</td>\n",
       "      <td>1.0</td>\n",
       "      <td>8.854997</td>\n",
       "      <td>147.649002</td>\n",
       "      <td>1.0</td>\n",
       "      <td>2.5</td>\n",
       "      <td>29.290085</td>\n",
       "      <td>20.1</td>\n",
       "      <td>17.8</td>\n",
       "      <td>11.913714</td>\n",
       "    </tr>\n",
       "    <tr>\n",
       "      <td>65</td>\n",
       "      <td>1.0</td>\n",
       "      <td>9.637809</td>\n",
       "      <td>152.201126</td>\n",
       "      <td>1.0</td>\n",
       "      <td>2.5</td>\n",
       "      <td>29.871979</td>\n",
       "      <td>20.1</td>\n",
       "      <td>17.8</td>\n",
       "      <td>11.956957</td>\n",
       "    </tr>\n",
       "    <tr>\n",
       "      <td>66</td>\n",
       "      <td>1.0</td>\n",
       "      <td>8.183232</td>\n",
       "      <td>153.818619</td>\n",
       "      <td>1.0</td>\n",
       "      <td>2.5</td>\n",
       "      <td>31.243172</td>\n",
       "      <td>20.1</td>\n",
       "      <td>17.8</td>\n",
       "      <td>12.118133</td>\n",
       "    </tr>\n",
       "    <tr>\n",
       "      <td>67</td>\n",
       "      <td>1.0</td>\n",
       "      <td>8.159533</td>\n",
       "      <td>157.625763</td>\n",
       "      <td>1.0</td>\n",
       "      <td>2.5</td>\n",
       "      <td>30.980186</td>\n",
       "      <td>20.1</td>\n",
       "      <td>17.8</td>\n",
       "      <td>12.171916</td>\n",
       "    </tr>\n",
       "    <tr>\n",
       "      <td>68</td>\n",
       "      <td>1.0</td>\n",
       "      <td>7.971785</td>\n",
       "      <td>159.743866</td>\n",
       "      <td>1.0</td>\n",
       "      <td>2.5</td>\n",
       "      <td>31.268545</td>\n",
       "      <td>20.1</td>\n",
       "      <td>17.8</td>\n",
       "      <td>12.167364</td>\n",
       "    </tr>\n",
       "  </tbody>\n",
       "</table>\n",
       "<p>69 rows × 9 columns</p>\n",
       "</div>"
      ],
      "text/plain": [
       "    Si_thickness  SiOx_thickness  Film_thickness  Si_roughness  \\\n",
       "0            1.0       19.506130      181.059555           1.0   \n",
       "1            1.0       20.540258      159.729462           1.0   \n",
       "2            1.0       21.343262      107.778473           1.0   \n",
       "3            1.0       20.874475       85.569939           1.0   \n",
       "4            1.0       20.188864       35.672615           1.0   \n",
       "..           ...             ...             ...           ...   \n",
       "64           1.0        8.854997      147.649002           1.0   \n",
       "65           1.0        9.637809      152.201126           1.0   \n",
       "66           1.0        8.183232      153.818619           1.0   \n",
       "67           1.0        8.159533      157.625763           1.0   \n",
       "68           1.0        7.971785      159.743866           1.0   \n",
       "\n",
       "    SiOx_roughness  Film_roughness  Si_sld  SiOx_sld   Film_sld  \n",
       "0              2.5       11.253111    20.1      17.8   1.196431  \n",
       "1              2.5       11.275818    20.1      17.8   1.668891  \n",
       "2              2.5       12.166486    20.1      17.8   2.154772  \n",
       "3              2.5       17.257915    20.1      17.8   2.857458  \n",
       "4              2.5        3.598879    20.1      17.8   3.528758  \n",
       "..             ...             ...     ...       ...        ...  \n",
       "64             2.5       29.290085    20.1      17.8  11.913714  \n",
       "65             2.5       29.871979    20.1      17.8  11.956957  \n",
       "66             2.5       31.243172    20.1      17.8  12.118133  \n",
       "67             2.5       30.980186    20.1      17.8  12.171916  \n",
       "68             2.5       31.268545    20.1      17.8  12.167364  \n",
       "\n",
       "[69 rows x 9 columns]"
      ]
     },
     "execution_count": 42,
     "metadata": {},
     "output_type": "execute_result"
    }
   ],
   "source": [
    "restored_pred_experimental_test_labels"
   ]
  },
  {
   "cell_type": "code",
   "execution_count": 43,
   "metadata": {},
   "outputs": [
    {
     "data": {
      "image/png": "[encoded data removed]",
      "text/plain": [
       "<Figure size 432x288 with 1 Axes>"
      ]
     },
     "metadata": {
      "needs_background": "light"
     },
     "output_type": "display_data"
    }
   ],
   "source": [
    "plt.plot(restored_pred_experimental_test_labels['Film_thickness'])\n",
    "plt.xlabel('Curve index')\n",
    "plt.ylabel('Thickness [A]')\n",
    "plt.show()"
   ]
  },
  {
   "cell_type": "code",
   "execution_count": 44,
   "metadata": {},
   "outputs": [
    {
     "name": "stderr",
     "output_type": "stream",
     "text": [
      "100%|██████████| 69/69 [00:00<00:00, 1198.60it/s]"
     ]
    },
    {
     "name": "stdout",
     "output_type": "stream",
     "text": [
      "Finished 'simulate_reflectivity' in 0.0600 secs\n"
     ]
    },
    {
     "name": "stderr",
     "output_type": "stream",
     "text": [
      "\n"
     ]
    }
   ],
   "source": [
    "pred_experimental_reflectivity = gen.simulate_reflectivity(restored_pred_experimental_test_labels)"
   ]
  },
  {
   "cell_type": "code",
   "execution_count": 47,
   "metadata": {},
   "outputs": [
    {
     "data": {
      "image/png": "[encoded data removed]",
      "text/plain": [
       "<Figure size 432x288 with 1 Axes>"
      ]
     },
     "metadata": {
      "needs_background": "light"
     },
     "output_type": "display_data"
    },
    {
     "data": {
      "image/png": "[encoded data removed]",
      "text/plain": [
       "<Figure size 432x288 with 1 Axes>"
      ]
     },
     "metadata": {
      "needs_background": "light"
     },
     "output_type": "display_data"
    },
    {
     "data": {
      "image/png": "[encoded data removed]",
      "text/plain": [
       "<Figure size 432x288 with 1 Axes>"
      ]
     },
     "metadata": {
      "needs_background": "light"
     },
     "output_type": "display_data"
    }
   ],
   "source": [
    "plt.semilogy(q, experimental_reflectivity[30, :], 'o', label='experiment')\n",
    "plt.semilogy(q, pred_experimental_reflectivity[30, :], label='prediction')\n",
    "plt.legend()\n",
    "plt.xlabel('q [1/A]')\n",
    "plt.ylabel('Reflectivity [norm.]')\n",
    "plt.show()\n",
    "\n",
    "plt.semilogy(q, experimental_reflectivity[50, :], 'o', label='experiment')\n",
    "plt.semilogy(q, pred_experimental_reflectivity[50, :], label='prediction')\n",
    "plt.legend()\n",
    "plt.xlabel('q [1/A]')\n",
    "plt.ylabel('Reflectivity [norm.]')\n",
    "plt.show()\n",
    "\n",
    "plt.semilogy(q, experimental_reflectivity[-1, :], 'o', label='experiment')\n",
    "plt.semilogy(q, pred_experimental_reflectivity[-1, :], label='prediction')\n",
    "plt.legend()\n",
    "plt.xlabel('q [1/A]')\n",
    "plt.ylabel('Reflectivity [norm.]')\n",
    "plt.show()"
   ]
  },
  {
   "cell_type": "code",
   "execution_count": null,
   "metadata": {},
   "outputs": [],
   "source": []
  },
  {
   "cell_type": "code",
   "execution_count": null,
   "metadata": {},
   "outputs": [],
   "source": []
  }
 ],
 "metadata": {
  "kernelspec": {
   "display_name": "Python 3",
   "language": "python",
   "name": "python3"
  },
  "language_info": {
   "codemirror_mode": {
    "name": "ipython",
    "version": 3
   },
   "file_extension": ".py",
   "mimetype": "text/x-python",
   "name": "python",
   "nbconvert_exporter": "python",
   "pygments_lexer": "ipython3",
   "version": "3.7.4"
  }
 },
 "nbformat": 4,
 "nbformat_minor": 1
}
