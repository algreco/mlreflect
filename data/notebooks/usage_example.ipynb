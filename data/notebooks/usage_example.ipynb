{
 "cells": [
  {
   "cell_type": "markdown",
   "metadata": {},
   "source": [
    "# mlreflect usage example"
   ]
  },
  {
   "cell_type": "code",
   "execution_count": 1,
   "metadata": {
    "pycharm": {
     "is_executing": false
    }
   },
   "outputs": [],
   "source": [
    "%load_ext autoreload"
   ]
  },
  {
   "cell_type": "code",
   "execution_count": 49,
   "metadata": {
    "pycharm": {
     "is_executing": false
    }
   },
   "outputs": [
    {
     "name": "stdout",
     "output_type": "stream",
     "text": [
      "Tested with mlreflect version: 0.13.0\n"
     ]
    }
   ],
   "source": [
    "import matplotlib.pyplot as plt\n",
    "import numpy as np\n",
    "\n",
    "import mlreflect\n",
    "\n",
    "from mlreflect import ReflectivityGenerator, InputPreprocessor, OutputPreprocessor, Prediction, Layer, MultilayerStructure\n",
    "from mlreflect import h5_tools\n",
    "from mlreflect.models.simple_model import SimpleModel\n",
    "from mlreflect.models.model_helpers import create_save_directory\n",
    "\n",
    "print('Tested with mlreflect version: ' + mlreflect.__version__)"
   ]
  },
  {
   "cell_type": "markdown",
   "metadata": {},
   "source": [
    "### Load experimental data\n",
    "In this case DIP_303K.txt contains columns of reflectivity data with the first column containing the q-values in units 1/A"
   ]
  },
  {
   "cell_type": "code",
   "execution_count": 3,
   "metadata": {
    "pycharm": {
     "is_executing": false
    }
   },
   "outputs": [],
   "source": [
    "experiment = np.loadtxt('DIP_303K.txt')"
   ]
  },
  {
   "cell_type": "code",
   "execution_count": 4,
   "metadata": {},
   "outputs": [],
   "source": [
    "q = experiment[9:, 0] # Extract q-values\n",
    "experimental_reflectivity = experiment[9:, 1:].T"
   ]
  },
  {
   "cell_type": "code",
   "execution_count": 5,
   "metadata": {},
   "outputs": [
    {
     "data": {
      "image/png": "[encoded data removed]",
      "text/plain": [
       "<Figure size 432x288 with 1 Axes>"
      ]
     },
     "metadata": {
      "needs_background": "light"
     },
     "output_type": "display_data"
    }
   ],
   "source": [
    "plt.semilogy(q, experimental_reflectivity[30, :], '.')\n",
    "plt.xlabel('q [1/A]')\n",
    "plt.ylabel('Reflectivity [norm.]')\n",
    "plt.show()"
   ]
  },
  {
   "cell_type": "markdown",
   "metadata": {},
   "source": [
    "### Generate random training data\n",
    "Choose parameter ranges for the randomly generated training data with mininimum and maximum values for each layer using Layer objects."
   ]
  },
  {
   "cell_type": "code",
   "execution_count": 6,
   "metadata": {},
   "outputs": [],
   "source": [
    "layer1 = Layer('Si', (None, None), (1, 1), (20.1, 20.1))\n",
    "layer2 = Layer('SiOx', (2.8, 30), (2.5, 2.5), (17.8, 17.8))\n",
    "layer3 = Layer('Film', (20, 300), (0, 60), (1, 14))"
   ]
  },
  {
   "cell_type": "markdown",
   "metadata": {},
   "source": [
    "The layers are then added to a MultilayerStructure"
   ]
  },
  {
   "cell_type": "code",
   "execution_count": 7,
   "metadata": {},
   "outputs": [],
   "source": [
    "sample = MultilayerStructure(ambient_sld_range=(0, 0)) # Initialize MultilayerStructure object with ambient SLD of 0 (air for X-ray)\n",
    "sample.add_layer(layer1)\n",
    "sample.add_layer(layer2)\n",
    "sample.add_layer(layer3)"
   ]
  },
  {
   "cell_type": "code",
   "execution_count": 8,
   "metadata": {},
   "outputs": [
    {
     "name": "stdout",
     "output_type": "stream",
     "text": [
      "ambient_sld: 0  -- 0 [1e-6 1/Å^2]\n",
      "[2] Film:\n",
      "\tthickness: 20 -- 300 [Å]\n",
      "\troughness: 0 -- 60 [Å]\n",
      "\tsld: 1 -- 14 [1e-6 1/Å^2]\n",
      "[1] SiOx:\n",
      "\tthickness: 2.8 -- 30 [Å]\n",
      "\troughness: 2.5 -- 2.5 [Å]\n",
      "\tsld: 17.8 -- 17.8 [1e-6 1/Å^2]\n",
      "[0] Si:\n",
      "\tthickness: None -- None [Å]\n",
      "\troughness: 1 -- 1 [Å]\n",
      "\tsld: 20.1 -- 20.1 [1e-6 1/Å^2]\n",
      "\n"
     ]
    }
   ],
   "source": [
    "print(sample)"
   ]
  },
  {
   "cell_type": "code",
   "execution_count": 9,
   "metadata": {
    "pycharm": {
     "is_executing": false
    }
   },
   "outputs": [
    {
     "name": "stdout",
     "output_type": "stream",
     "text": [
      "Finished 'generate_random_labels' in 0.2108 secs\n"
     ]
    }
   ],
   "source": [
    "gen = ReflectivityGenerator(q, sample, random_seed=10) # Initialize ReflectivityGenerator using the previously constructed sample\n",
    "random_labels = gen.generate_random_labels(22500)"
   ]
  },
  {
   "cell_type": "code",
   "execution_count": 10,
   "metadata": {},
   "outputs": [
    {
     "data": {
      "text/html": [
       "<div>\n",
       "<style scoped>\n",
       "    .dataframe tbody tr th:only-of-type {\n",
       "        vertical-align: middle;\n",
       "    }\n",
       "\n",
       "    .dataframe tbody tr th {\n",
       "        vertical-align: top;\n",
       "    }\n",
       "\n",
       "    .dataframe thead th {\n",
       "        text-align: right;\n",
       "    }\n",
       "</style>\n",
       "<table border=\"1\" class=\"dataframe\">\n",
       "  <thead>\n",
       "    <tr style=\"text-align: right;\">\n",
       "      <th></th>\n",
       "      <th>Si_thickness</th>\n",
       "      <th>SiOx_thickness</th>\n",
       "      <th>Film_thickness</th>\n",
       "      <th>Si_roughness</th>\n",
       "      <th>SiOx_roughness</th>\n",
       "      <th>Film_roughness</th>\n",
       "      <th>Si_sld</th>\n",
       "      <th>SiOx_sld</th>\n",
       "      <th>Film_sld</th>\n",
       "      <th>ambient_sld</th>\n",
       "    </tr>\n",
       "  </thead>\n",
       "  <tbody>\n",
       "    <tr>\n",
       "      <th>0</th>\n",
       "      <td>1.0</td>\n",
       "      <td>23.202419</td>\n",
       "      <td>209.540101</td>\n",
       "      <td>1.0</td>\n",
       "      <td>2.5</td>\n",
       "      <td>51.631668</td>\n",
       "      <td>20.1</td>\n",
       "      <td>17.8</td>\n",
       "      <td>4.008062</td>\n",
       "      <td>0.0</td>\n",
       "    </tr>\n",
       "    <tr>\n",
       "      <th>1</th>\n",
       "      <td>1.0</td>\n",
       "      <td>25.839511</td>\n",
       "      <td>54.341188</td>\n",
       "      <td>1.0</td>\n",
       "      <td>2.5</td>\n",
       "      <td>2.688261</td>\n",
       "      <td>20.1</td>\n",
       "      <td>17.8</td>\n",
       "      <td>6.093867</td>\n",
       "      <td>0.0</td>\n",
       "    </tr>\n",
       "    <tr>\n",
       "      <th>2</th>\n",
       "      <td>1.0</td>\n",
       "      <td>15.087188</td>\n",
       "      <td>75.050235</td>\n",
       "      <td>1.0</td>\n",
       "      <td>2.5</td>\n",
       "      <td>35.403232</td>\n",
       "      <td>20.1</td>\n",
       "      <td>17.8</td>\n",
       "      <td>5.066727</td>\n",
       "      <td>0.0</td>\n",
       "    </tr>\n",
       "    <tr>\n",
       "      <th>3</th>\n",
       "      <td>1.0</td>\n",
       "      <td>27.549611</td>\n",
       "      <td>176.881459</td>\n",
       "      <td>1.0</td>\n",
       "      <td>2.5</td>\n",
       "      <td>8.746996</td>\n",
       "      <td>20.1</td>\n",
       "      <td>17.8</td>\n",
       "      <td>3.026910</td>\n",
       "      <td>0.0</td>\n",
       "    </tr>\n",
       "    <tr>\n",
       "      <th>4</th>\n",
       "      <td>1.0</td>\n",
       "      <td>24.899323</td>\n",
       "      <td>201.752770</td>\n",
       "      <td>1.0</td>\n",
       "      <td>2.5</td>\n",
       "      <td>1.852595</td>\n",
       "      <td>20.1</td>\n",
       "      <td>17.8</td>\n",
       "      <td>3.623453</td>\n",
       "      <td>0.0</td>\n",
       "    </tr>\n",
       "  </tbody>\n",
       "</table>\n",
       "</div>"
      ],
      "text/plain": [
       "   Si_thickness  SiOx_thickness  Film_thickness  Si_roughness  SiOx_roughness  \\\n",
       "0           1.0       23.202419      209.540101           1.0             2.5   \n",
       "1           1.0       25.839511       54.341188           1.0             2.5   \n",
       "2           1.0       15.087188       75.050235           1.0             2.5   \n",
       "3           1.0       27.549611      176.881459           1.0             2.5   \n",
       "4           1.0       24.899323      201.752770           1.0             2.5   \n",
       "\n",
       "   Film_roughness  Si_sld  SiOx_sld  Film_sld  ambient_sld  \n",
       "0       51.631668    20.1      17.8  4.008062          0.0  \n",
       "1        2.688261    20.1      17.8  6.093867          0.0  \n",
       "2       35.403232    20.1      17.8  5.066727          0.0  \n",
       "3        8.746996    20.1      17.8  3.026910          0.0  \n",
       "4        1.852595    20.1      17.8  3.623453          0.0  "
      ]
     },
     "execution_count": 10,
     "metadata": {},
     "output_type": "execute_result"
    }
   ],
   "source": [
    "random_labels.head() # Quick inspection if the generated parameters are as expected"
   ]
  },
  {
   "cell_type": "code",
   "execution_count": 11,
   "metadata": {},
   "outputs": [
    {
     "name": "stderr",
     "output_type": "stream",
     "text": [
      "100%|█████████████████████████████████████████████████████████████████████████| 22500/22500 [00:01<00:00, 16075.56it/s]"
     ]
    },
    {
     "name": "stdout",
     "output_type": "stream",
     "text": [
      "Finished 'simulate_reflectivity' in 1.4801 secs\n"
     ]
    },
    {
     "name": "stderr",
     "output_type": "stream",
     "text": [
      "\n"
     ]
    }
   ],
   "source": [
    "random_reflectivity = gen.simulate_reflectivity(random_labels) # Simulate reflectivity using the generated parameters"
   ]
  },
  {
   "cell_type": "code",
   "execution_count": 12,
   "metadata": {},
   "outputs": [
    {
     "data": {
      "image/png": "[encoded data removed]",
      "text/plain": [
       "<Figure size 432x288 with 1 Axes>"
      ]
     },
     "metadata": {
      "needs_background": "light"
     },
     "output_type": "display_data"
    }
   ],
   "source": [
    "for i in range(5):\n",
    "    plt.semilogy(q, random_reflectivity[10+i, :])\n",
    "plt.xlabel('q [1/A]')\n",
    "plt.ylabel('Reflectivity [norm.]')\n",
    "plt.show()"
   ]
  },
  {
   "cell_type": "code",
   "execution_count": 13,
   "metadata": {},
   "outputs": [
    {
     "name": "stderr",
     "output_type": "stream",
     "text": [
      "100%|██████████████████████████████████████████████████████████████████████████████████| 5/5 [00:00<00:00, 2517.89it/s]"
     ]
    },
    {
     "name": "stdout",
     "output_type": "stream",
     "text": [
      "Finished 'simulate_sld_profiles' in 0.0043 secs\n"
     ]
    },
    {
     "name": "stderr",
     "output_type": "stream",
     "text": [
      "\n"
     ]
    }
   ],
   "source": [
    "sld_profiles = gen.simulate_sld_profiles(random_labels[0:5]) # Simulate SLD profile for visual inspection"
   ]
  },
  {
   "cell_type": "code",
   "execution_count": 14,
   "metadata": {},
   "outputs": [
    {
     "data": {
      "image/png": "[encoded data removed]",
      "text/plain": [
       "<Figure size 432x288 with 1 Axes>"
      ]
     },
     "metadata": {
      "needs_background": "light"
     },
     "output_type": "display_data"
    }
   ],
   "source": [
    "for i in range(5):\n",
    "    plt.plot(sld_profiles[i][0, :], sld_profiles[i][1, :])\n",
    "plt.xlabel('Height [A]')\n",
    "plt.ylabel('SLD [1/A^2 10^-6]')\n",
    "plt.show()"
   ]
  },
  {
   "cell_type": "markdown",
   "metadata": {},
   "source": [
    "Write data to an h5 file so it can be reused later."
   ]
  },
  {
   "cell_type": "markdown",
   "metadata": {},
   "source": [
    "Split labels and reflectivity into training, validation and testing sets. Since labels are saved as a pandas DataFrame, the index must be dropped."
   ]
  },
  {
   "cell_type": "code",
   "execution_count": 15,
   "metadata": {},
   "outputs": [],
   "source": [
    "create_save_directory('output/')\n",
    "h5_tools.save_data_as_h5('output/saved_training_data.h5', q, random_reflectivity, random_labels, number_of_layers=3)"
   ]
  },
  {
   "cell_type": "code",
   "execution_count": 16,
   "metadata": {},
   "outputs": [],
   "source": [
    "# loaded_data = h5_tools.read_from_h5('output/saved_training_data.h5') # Data can be loaded like this"
   ]
  },
  {
   "cell_type": "code",
   "execution_count": 17,
   "metadata": {
    "pycharm": {
     "is_executing": false
    }
   },
   "outputs": [],
   "source": [
    "train_labels = random_labels[:20000].reset_index(drop=True)\n",
    "val_labels = random_labels[20000:22000].reset_index(drop=True)\n",
    "test_labels = random_labels[22000:].reset_index(drop=True)"
   ]
  },
  {
   "cell_type": "code",
   "execution_count": 18,
   "metadata": {
    "pycharm": {
     "is_executing": false
    }
   },
   "outputs": [],
   "source": [
    "train_reflectivity = random_reflectivity[:20000, :]\n",
    "val_reflectivity = random_reflectivity[20000:22000, :]\n",
    "test_reflectivity = random_reflectivity[22000:, :]"
   ]
  },
  {
   "cell_type": "markdown",
   "metadata": {},
   "source": [
    "### Train neural network"
   ]
  },
  {
   "cell_type": "markdown",
   "metadata": {},
   "source": [
    "Apply preprocessing to the input data."
   ]
  },
  {
   "cell_type": "code",
   "execution_count": 19,
   "metadata": {},
   "outputs": [],
   "source": [
    "ip = InputPreprocessor()"
   ]
  },
  {
   "cell_type": "code",
   "execution_count": 20,
   "metadata": {},
   "outputs": [],
   "source": [
    "train_reflectivity_pp = ip.standardize(train_reflectivity)\n",
    "val_reflectivity_pp = ip.standardize(val_reflectivity)\n",
    "test_reflectivity_pp = ip.standardize(test_reflectivity)"
   ]
  },
  {
   "cell_type": "code",
   "execution_count": 21,
   "metadata": {},
   "outputs": [
    {
     "data": {
      "image/png": "[encoded data removed]",
      "text/plain": [
       "<Figure size 432x288 with 1 Axes>"
      ]
     },
     "metadata": {
      "needs_background": "light"
     },
     "output_type": "display_data"
    }
   ],
   "source": [
    "for i in range(5):\n",
    "    plt.plot(q, train_reflectivity_pp[10+i, :])\n",
    "plt.title('Standardized reflectivity data')\n",
    "plt.xlabel('q [1/A]')\n",
    "plt.ylabel('Reflectivity')\n",
    "plt.show()"
   ]
  },
  {
   "cell_type": "markdown",
   "metadata": {},
   "source": [
    "Initialize OutputPreprocessor object with the predefined sample and apply preprocessing to the labels."
   ]
  },
  {
   "cell_type": "code",
   "execution_count": 22,
   "metadata": {},
   "outputs": [],
   "source": [
    "op = OutputPreprocessor(sample, normalization='absolute_max')\n",
    "\n",
    "train_labels_pp, removed_train_labels = op.apply_preprocessing(train_labels)\n",
    "val_labels_pp, removed_val_labels = op.apply_preprocessing(val_labels)\n",
    "test_labels_pp, removed_test_labels = op.apply_preprocessing(test_labels)"
   ]
  },
  {
   "cell_type": "code",
   "execution_count": 23,
   "metadata": {},
   "outputs": [
    {
     "data": {
      "text/html": [
       "<div>\n",
       "<style scoped>\n",
       "    .dataframe tbody tr th:only-of-type {\n",
       "        vertical-align: middle;\n",
       "    }\n",
       "\n",
       "    .dataframe tbody tr th {\n",
       "        vertical-align: top;\n",
       "    }\n",
       "\n",
       "    .dataframe thead th {\n",
       "        text-align: right;\n",
       "    }\n",
       "</style>\n",
       "<table border=\"1\" class=\"dataframe\">\n",
       "  <thead>\n",
       "    <tr style=\"text-align: right;\">\n",
       "      <th></th>\n",
       "      <th>SiOx_thickness</th>\n",
       "      <th>Film_thickness</th>\n",
       "      <th>Film_roughness</th>\n",
       "      <th>Film_sld</th>\n",
       "    </tr>\n",
       "  </thead>\n",
       "  <tbody>\n",
       "    <tr>\n",
       "      <th>0</th>\n",
       "      <td>0.773414</td>\n",
       "      <td>0.698467</td>\n",
       "      <td>0.860528</td>\n",
       "      <td>0.286290</td>\n",
       "    </tr>\n",
       "    <tr>\n",
       "      <th>1</th>\n",
       "      <td>0.861317</td>\n",
       "      <td>0.181137</td>\n",
       "      <td>0.044804</td>\n",
       "      <td>0.435276</td>\n",
       "    </tr>\n",
       "    <tr>\n",
       "      <th>2</th>\n",
       "      <td>0.502906</td>\n",
       "      <td>0.250167</td>\n",
       "      <td>0.590054</td>\n",
       "      <td>0.361909</td>\n",
       "    </tr>\n",
       "    <tr>\n",
       "      <th>3</th>\n",
       "      <td>0.918320</td>\n",
       "      <td>0.589605</td>\n",
       "      <td>0.145783</td>\n",
       "      <td>0.216208</td>\n",
       "    </tr>\n",
       "    <tr>\n",
       "      <th>4</th>\n",
       "      <td>0.829977</td>\n",
       "      <td>0.672509</td>\n",
       "      <td>0.030877</td>\n",
       "      <td>0.258818</td>\n",
       "    </tr>\n",
       "  </tbody>\n",
       "</table>\n",
       "</div>"
      ],
      "text/plain": [
       "   SiOx_thickness  Film_thickness  Film_roughness  Film_sld\n",
       "0        0.773414        0.698467        0.860528  0.286290\n",
       "1        0.861317        0.181137        0.044804  0.435276\n",
       "2        0.502906        0.250167        0.590054  0.361909\n",
       "3        0.918320        0.589605        0.145783  0.216208\n",
       "4        0.829977        0.672509        0.030877  0.258818"
      ]
     },
     "execution_count": 23,
     "metadata": {},
     "output_type": "execute_result"
    }
   ],
   "source": [
    "train_labels_pp.head()"
   ]
  },
  {
   "cell_type": "markdown",
   "metadata": {},
   "source": [
    "Train the neural network using the model defined in SimpleModel and save results in 'output/simple_model/'."
   ]
  },
  {
   "cell_type": "code",
   "execution_count": 24,
   "metadata": {},
   "outputs": [],
   "source": [
    "import os"
   ]
  },
  {
   "cell_type": "code",
   "execution_count": 25,
   "metadata": {},
   "outputs": [],
   "source": [
    "path = os.path.join('output', 'simple_model')"
   ]
  },
  {
   "cell_type": "code",
   "execution_count": 26,
   "metadata": {
    "scrolled": true
   },
   "outputs": [
    {
     "name": "stdout",
     "output_type": "stream",
     "text": [
      "WARNING:tensorflow:From C:\\Users\\Alessandro\\anaconda3\\lib\\site-packages\\tensorflow\\python\\ops\\init_ops.py:1251: calling VarianceScaling.__init__ (from tensorflow.python.ops.init_ops) with dtype is deprecated and will be removed in a future version.\n",
      "Instructions for updating:\n",
      "Call initializer instance with the dtype argument instead of passing it to the constructor\n",
      "Model: \"sequential\"\n",
      "_________________________________________________________________\n",
      "Layer (type)                 Output Shape              Param #   \n",
      "=================================================================\n",
      "dense (Dense)                (None, 400)               17600     \n",
      "_________________________________________________________________\n",
      "activation (Activation)      (None, 400)               0         \n",
      "_________________________________________________________________\n",
      "dense_1 (Dense)              (None, 800)               320800    \n",
      "_________________________________________________________________\n",
      "activation_1 (Activation)    (None, 800)               0         \n",
      "_________________________________________________________________\n",
      "dense_2 (Dense)              (None, 400)               320400    \n",
      "_________________________________________________________________\n",
      "activation_2 (Activation)    (None, 400)               0         \n",
      "_________________________________________________________________\n",
      "dense_3 (Dense)              (None, 300)               120300    \n",
      "_________________________________________________________________\n",
      "activation_3 (Activation)    (None, 300)               0         \n",
      "_________________________________________________________________\n",
      "dense_4 (Dense)              (None, 200)               60200     \n",
      "_________________________________________________________________\n",
      "activation_4 (Activation)    (None, 200)               0         \n",
      "_________________________________________________________________\n",
      "dense_5 (Dense)              (None, 100)               20100     \n",
      "_________________________________________________________________\n",
      "activation_5 (Activation)    (None, 100)               0         \n",
      "_________________________________________________________________\n",
      "dense_6 (Dense)              (None, 4)                 404       \n",
      "_________________________________________________________________\n",
      "activation_6 (Activation)    (None, 4)                 0         \n",
      "=================================================================\n",
      "Total params: 859,804\n",
      "Trainable params: 859,804\n",
      "Non-trainable params: 0\n",
      "_________________________________________________________________\n",
      "Train on 20000 samples, validate on 2000 samples\n",
      "Epoch 1/60\n",
      "19712/20000 [============================>.] - ETA: 0s - loss: 0.0594\n",
      "Epoch 00001: val_loss improved from inf to 0.01854, saving model to output\\simple_model\\models\\2020-04-17-101508.h5\n",
      "20000/20000 [==============================] - 2s 100us/sample - loss: 0.0589 - val_loss: 0.0185\n",
      "Epoch 2/60\n",
      "16896/20000 [========================>.....] - ETA: 0s - loss: 0.0140\n",
      "Epoch 00002: val_loss improved from 0.01854 to 0.01230, saving model to output\\simple_model\\models\\2020-04-17-101508.h5\n",
      "20000/20000 [==============================] - 0s 17us/sample - loss: 0.0135 - val_loss: 0.0123\n",
      "Epoch 3/60\n",
      "17152/20000 [========================>.....] - ETA: 0s - loss: 0.0089\n",
      "Epoch 00003: val_loss improved from 0.01230 to 0.00886, saving model to output\\simple_model\\models\\2020-04-17-101508.h5\n",
      "20000/20000 [==============================] - 0s 16us/sample - loss: 0.0087 - val_loss: 0.0089\n",
      "Epoch 4/60\n",
      "19712/20000 [============================>.] - ETA: 0s - loss: 0.0069\n",
      "Epoch 00004: val_loss did not improve from 0.00886\n",
      "20000/20000 [==============================] - 0s 14us/sample - loss: 0.0069 - val_loss: 0.0101\n",
      "Epoch 5/60\n",
      "16640/20000 [=======================>......] - ETA: 0s - loss: 0.0066\n",
      "Epoch 00005: val_loss improved from 0.00886 to 0.00831, saving model to output\\simple_model\\models\\2020-04-17-101508.h5\n",
      "20000/20000 [==============================] - 0s 16us/sample - loss: 0.0063 - val_loss: 0.0083\n",
      "Epoch 6/60\n",
      "16896/20000 [========================>.....] - ETA: 0s - loss: 0.0056\n",
      "Epoch 00006: val_loss improved from 0.00831 to 0.00499, saving model to output\\simple_model\\models\\2020-04-17-101508.h5\n",
      "20000/20000 [==============================] - 0s 16us/sample - loss: 0.0054 - val_loss: 0.0050\n",
      "Epoch 7/60\n",
      "16384/20000 [=======================>......] - ETA: 0s - loss: 0.0047\n",
      "Epoch 00007: val_loss did not improve from 0.00499\n",
      "20000/20000 [==============================] - 0s 14us/sample - loss: 0.0047 - val_loss: 0.0075\n",
      "Epoch 8/60\n",
      "16640/20000 [=======================>......] - ETA: 0s - loss: 0.0048\n",
      "Epoch 00008: val_loss improved from 0.00499 to 0.00411, saving model to output\\simple_model\\models\\2020-04-17-101508.h5\n",
      "20000/20000 [==============================] - 0s 16us/sample - loss: 0.0046 - val_loss: 0.0041\n",
      "Epoch 9/60\n",
      "16128/20000 [=======================>......] - ETA: 0s - loss: 0.0040\n",
      "Epoch 00009: val_loss did not improve from 0.00411\n",
      "20000/20000 [==============================] - 0s 14us/sample - loss: 0.0040 - val_loss: 0.0045\n",
      "Epoch 10/60\n",
      "16640/20000 [=======================>......] - ETA: 0s - loss: 0.0039\n",
      "Epoch 00010: val_loss did not improve from 0.00411\n",
      "20000/20000 [==============================] - 0s 14us/sample - loss: 0.0039 - val_loss: 0.0044\n",
      "Epoch 11/60\n",
      "16896/20000 [========================>.....] - ETA: 0s - loss: 0.0034\n",
      "Epoch 00011: val_loss improved from 0.00411 to 0.00313, saving model to output\\simple_model\\models\\2020-04-17-101508.h5\n",
      "20000/20000 [==============================] - 0s 16us/sample - loss: 0.0033 - val_loss: 0.0031\n",
      "Epoch 12/60\n",
      "16640/20000 [=======================>......] - ETA: 0s - loss: 0.0032\n",
      "Epoch 00012: val_loss did not improve from 0.00313\n",
      "20000/20000 [==============================] - 0s 14us/sample - loss: 0.0032 - val_loss: 0.0034\n",
      "Epoch 13/60\n",
      "16640/20000 [=======================>......] - ETA: 0s - loss: 0.0034\n",
      "Epoch 00013: val_loss did not improve from 0.00313\n",
      "20000/20000 [==============================] - 0s 13us/sample - loss: 0.0034 - val_loss: 0.0037\n",
      "Epoch 14/60\n",
      "16896/20000 [========================>.....] - ETA: 0s - loss: 0.0030\n",
      "Epoch 00014: val_loss did not improve from 0.00313\n",
      "20000/20000 [==============================] - 0s 13us/sample - loss: 0.0030 - val_loss: 0.0039\n",
      "Epoch 15/60\n",
      "16640/20000 [=======================>......] - ETA: 0s - loss: 0.0031\n",
      "Epoch 00015: val_loss did not improve from 0.00313\n",
      "20000/20000 [==============================] - 0s 13us/sample - loss: 0.0031 - val_loss: 0.0040\n",
      "Epoch 16/60\n",
      "16640/20000 [=======================>......] - ETA: 0s - loss: 0.0030\n",
      "Epoch 00016: val_loss did not improve from 0.00313\n",
      "20000/20000 [==============================] - 0s 14us/sample - loss: 0.0030 - val_loss: 0.0034\n",
      "Epoch 17/60\n",
      "16384/20000 [=======================>......] - ETA: 0s - loss: 0.0030\n",
      "Epoch 00017: val_loss did not improve from 0.00313\n",
      "20000/20000 [==============================] - 0s 14us/sample - loss: 0.0029 - val_loss: 0.0041\n",
      "Epoch 18/60\n",
      "16640/20000 [=======================>......] - ETA: 0s - loss: 0.0028\n",
      "Epoch 00018: val_loss did not improve from 0.00313\n",
      "20000/20000 [==============================] - 0s 14us/sample - loss: 0.0027 - val_loss: 0.0032\n",
      "Epoch 19/60\n",
      "16640/20000 [=======================>......] - ETA: 0s - loss: 0.0030\n",
      "Epoch 00019: val_loss improved from 0.00313 to 0.00283, saving model to output\\simple_model\\models\\2020-04-17-101508.h5\n",
      "20000/20000 [==============================] - 0s 16us/sample - loss: 0.0029 - val_loss: 0.0028\n",
      "Epoch 20/60\n",
      "18432/20000 [==========================>...] - ETA: 0s - loss: 0.0025\n",
      "Epoch 00020: val_loss did not improve from 0.00283\n",
      "20000/20000 [==============================] - 0s 16us/sample - loss: 0.0025 - val_loss: 0.0033\n",
      "Epoch 21/60\n",
      "19712/20000 [============================>.] - ETA: 0s - loss: 0.0025\n",
      "Epoch 00021: val_loss did not improve from 0.00283\n",
      "20000/20000 [==============================] - 0s 14us/sample - loss: 0.0025 - val_loss: 0.0030\n",
      "Epoch 22/60\n",
      "16640/20000 [=======================>......] - ETA: 0s - loss: 0.0025\n",
      "Epoch 00022: val_loss did not improve from 0.00283\n",
      "20000/20000 [==============================] - 0s 14us/sample - loss: 0.0025 - val_loss: 0.0042\n"
     ]
    },
    {
     "name": "stdout",
     "output_type": "stream",
     "text": [
      "Epoch 23/60\n",
      "18944/20000 [===========================>..] - ETA: 0s - loss: 0.0030\n",
      "Epoch 00023: val_loss did not improve from 0.00283\n",
      "20000/20000 [==============================] - 0s 15us/sample - loss: 0.0030 - val_loss: 0.0028\n",
      "Epoch 24/60\n",
      "19456/20000 [============================>.] - ETA: 0s - loss: 0.0025\n",
      "Epoch 00024: val_loss did not improve from 0.00283\n",
      "20000/20000 [==============================] - 0s 14us/sample - loss: 0.0025 - val_loss: 0.0034\n",
      "Epoch 25/60\n",
      "16128/20000 [=======================>......] - ETA: 0s - loss: 0.0025\n",
      "Epoch 00025: val_loss improved from 0.00283 to 0.00255, saving model to output\\simple_model\\models\\2020-04-17-101508.h5\n",
      "20000/20000 [==============================] - 0s 17us/sample - loss: 0.0025 - val_loss: 0.0026\n",
      "Epoch 26/60\n",
      "16640/20000 [=======================>......] - ETA: 0s - loss: 0.0024\n",
      "Epoch 00026: val_loss did not improve from 0.00255\n",
      "20000/20000 [==============================] - 0s 13us/sample - loss: 0.0024 - val_loss: 0.0031\n",
      "Epoch 27/60\n",
      "16896/20000 [========================>.....] - ETA: 0s - loss: 0.0026\n",
      "Epoch 00027: val_loss improved from 0.00255 to 0.00240, saving model to output\\simple_model\\models\\2020-04-17-101508.h5\n",
      "20000/20000 [==============================] - 0s 18us/sample - loss: 0.0026 - val_loss: 0.0024\n",
      "Epoch 28/60\n",
      "16896/20000 [========================>.....] - ETA: 0s - loss: 0.0024\n",
      "Epoch 00028: val_loss did not improve from 0.00240\n",
      "20000/20000 [==============================] - 0s 14us/sample - loss: 0.0025 - val_loss: 0.0034\n",
      "Epoch 29/60\n",
      "16640/20000 [=======================>......] - ETA: 0s - loss: 0.0024\n",
      "Epoch 00029: val_loss did not improve from 0.00240\n",
      "20000/20000 [==============================] - 0s 13us/sample - loss: 0.0024 - val_loss: 0.0031\n",
      "Epoch 30/60\n",
      "16896/20000 [========================>.....] - ETA: 0s - loss: 0.0026\n",
      "Epoch 00030: val_loss did not improve from 0.00240\n",
      "20000/20000 [==============================] - 0s 13us/sample - loss: 0.0025 - val_loss: 0.0025\n",
      "Epoch 31/60\n",
      "16896/20000 [========================>.....] - ETA: 0s - loss: 0.0022\n",
      "Epoch 00031: val_loss improved from 0.00240 to 0.00230, saving model to output\\simple_model\\models\\2020-04-17-101508.h5\n",
      "20000/20000 [==============================] - 0s 23us/sample - loss: 0.0021 - val_loss: 0.0023\n",
      "Epoch 32/60\n",
      "16384/20000 [=======================>......] - ETA: 0s - loss: 0.0021\n",
      "Epoch 00032: val_loss did not improve from 0.00230\n",
      "20000/20000 [==============================] - 0s 14us/sample - loss: 0.0021 - val_loss: 0.0024\n",
      "Epoch 33/60\n",
      "16128/20000 [=======================>......] - ETA: 0s - loss: 0.0025\n",
      "Epoch 00033: val_loss did not improve from 0.00230\n",
      "20000/20000 [==============================] - 0s 14us/sample - loss: 0.0024 - val_loss: 0.0024\n",
      "Epoch 34/60\n",
      "16128/20000 [=======================>......] - ETA: 0s - loss: 0.0022\n",
      "Epoch 00034: val_loss did not improve from 0.00230\n",
      "20000/20000 [==============================] - 0s 14us/sample - loss: 0.0021 - val_loss: 0.0024\n",
      "Epoch 35/60\n",
      "16384/20000 [=======================>......] - ETA: 0s - loss: 0.0022\n",
      "Epoch 00035: val_loss did not improve from 0.00230\n",
      "20000/20000 [==============================] - 0s 14us/sample - loss: 0.0023 - val_loss: 0.0025\n",
      "Epoch 36/60\n",
      "16384/20000 [=======================>......] - ETA: 0s - loss: 0.0021\n",
      "Epoch 00036: val_loss did not improve from 0.00230\n",
      "20000/20000 [==============================] - 0s 14us/sample - loss: 0.0020 - val_loss: 0.0023\n",
      "Epoch 37/60\n",
      "16384/20000 [=======================>......] - ETA: 0s - loss: 0.0023\n",
      "Epoch 00037: val_loss did not improve from 0.00230\n",
      "20000/20000 [==============================] - 0s 15us/sample - loss: 0.0022 - val_loss: 0.0025\n",
      "Epoch 38/60\n",
      "19456/20000 [============================>.] - ETA: 0s - loss: 0.0016\n",
      "Epoch 00038: val_loss improved from 0.00230 to 0.00188, saving model to output\\simple_model\\models\\2020-04-17-101508.h5\n",
      "20000/20000 [==============================] - 0s 17us/sample - loss: 0.0016 - val_loss: 0.0019\n",
      "Epoch 39/60\n",
      "16896/20000 [========================>.....] - ETA: 0s - loss: 0.0014\n",
      "Epoch 00039: val_loss improved from 0.00188 to 0.00168, saving model to output\\simple_model\\models\\2020-04-17-101508.h5\n",
      "20000/20000 [==============================] - 0s 16us/sample - loss: 0.0014 - val_loss: 0.0017\n",
      "Epoch 40/60\n",
      "16896/20000 [========================>.....] - ETA: 0s - loss: 0.0013\n",
      "Epoch 00040: val_loss did not improve from 0.00168\n",
      "20000/20000 [==============================] - 0s 13us/sample - loss: 0.0013 - val_loss: 0.0018\n",
      "Epoch 41/60\n",
      "16640/20000 [=======================>......] - ETA: 0s - loss: 0.0013\n",
      "Epoch 00041: val_loss did not improve from 0.00168\n",
      "20000/20000 [==============================] - 0s 14us/sample - loss: 0.0013 - val_loss: 0.0019\n",
      "Epoch 42/60\n",
      "16640/20000 [=======================>......] - ETA: 0s - loss: 0.0013\n",
      "Epoch 00042: val_loss did not improve from 0.00168\n",
      "20000/20000 [==============================] - 0s 14us/sample - loss: 0.0013 - val_loss: 0.0020\n",
      "Epoch 43/60\n",
      "16640/20000 [=======================>......] - ETA: 0s - loss: 0.0013\n",
      "Epoch 00043: val_loss improved from 0.00168 to 0.00165, saving model to output\\simple_model\\models\\2020-04-17-101508.h5\n",
      "20000/20000 [==============================] - 0s 16us/sample - loss: 0.0013 - val_loss: 0.0016\n",
      "Epoch 44/60\n",
      "16640/20000 [=======================>......] - ETA: 0s - loss: 0.0018\n",
      "Epoch 00044: val_loss did not improve from 0.00165\n",
      "20000/20000 [==============================] - 0s 13us/sample - loss: 0.0017 - val_loss: 0.0018\n",
      "Epoch 45/60\n",
      "16896/20000 [========================>.....] - ETA: 0s - loss: 0.0013\n",
      "Epoch 00045: val_loss did not improve from 0.00165\n",
      "20000/20000 [==============================] - 0s 13us/sample - loss: 0.0014 - val_loss: 0.0018\n",
      "Epoch 46/60\n",
      "16640/20000 [=======================>......] - ETA: 0s - loss: 0.0015\n",
      "Epoch 00046: val_loss did not improve from 0.00165\n",
      "20000/20000 [==============================] - 0s 13us/sample - loss: 0.0015 - val_loss: 0.0021\n",
      "Epoch 47/60\n",
      "17152/20000 [========================>.....] - ETA: 0s - loss: 0.0013\n",
      "Epoch 00047: val_loss did not improve from 0.00165\n",
      "20000/20000 [==============================] - 0s 13us/sample - loss: 0.0013 - val_loss: 0.0017\n",
      "Epoch 48/60\n",
      "16640/20000 [=======================>......] - ETA: 0s - loss: 0.0014\n",
      "Epoch 00048: val_loss did not improve from 0.00165\n",
      "20000/20000 [==============================] - 0s 13us/sample - loss: 0.0014 - val_loss: 0.0022\n",
      "Epoch 49/60\n",
      "16640/20000 [=======================>......] - ETA: 0s - loss: 0.0015\n",
      "Epoch 00049: val_loss did not improve from 0.00165\n",
      "20000/20000 [==============================] - 0s 13us/sample - loss: 0.0015 - val_loss: 0.0017\n",
      "Epoch 50/60\n",
      "16896/20000 [========================>.....] - ETA: 0s - loss: 0.0011\n",
      "Epoch 00050: val_loss improved from 0.00165 to 0.00138, saving model to output\\simple_model\\models\\2020-04-17-101508.h5\n",
      "20000/20000 [==============================] - 0s 16us/sample - loss: 0.0011 - val_loss: 0.0014\n",
      "Epoch 51/60\n",
      "17152/20000 [========================>.....] - ETA: 0s - loss: 9.6007e-04\n",
      "Epoch 00051: val_loss did not improve from 0.00138\n",
      "20000/20000 [==============================] - 0s 13us/sample - loss: 9.3474e-04 - val_loss: 0.0014\n",
      "Epoch 52/60\n",
      "19456/20000 [============================>.] - ETA: 0s - loss: 0.0010 \n",
      "Epoch 00052: val_loss improved from 0.00138 to 0.00135, saving model to output\\simple_model\\models\\2020-04-17-101508.h5\n",
      "20000/20000 [==============================] - 0s 17us/sample - loss: 0.0010 - val_loss: 0.0014\n",
      "Epoch 53/60\n",
      "16896/20000 [========================>.....] - ETA: 0s - loss: 9.5019e-04\n",
      "Epoch 00053: val_loss improved from 0.00135 to 0.00135, saving model to output\\simple_model\\models\\2020-04-17-101508.h5\n",
      "20000/20000 [==============================] - 0s 16us/sample - loss: 9.5094e-04 - val_loss: 0.0013\n",
      "Epoch 54/60\n",
      "16896/20000 [========================>.....] - ETA: 0s - loss: 0.0011 \n",
      "Epoch 00054: val_loss did not improve from 0.00135\n",
      "20000/20000 [==============================] - 0s 13us/sample - loss: 0.0010 - val_loss: 0.0014\n",
      "Epoch 55/60\n",
      "17408/20000 [=========================>....] - ETA: 0s - loss: 0.0010 \n",
      "Epoch 00055: val_loss did not improve from 0.00135\n",
      "20000/20000 [==============================] - 0s 13us/sample - loss: 9.9777e-04 - val_loss: 0.0014\n"
     ]
    },
    {
     "name": "stdout",
     "output_type": "stream",
     "text": [
      "Epoch 56/60\n",
      "16128/20000 [=======================>......] - ETA: 0s - loss: 8.7955e-04\n",
      "Epoch 00056: val_loss did not improve from 0.00135\n",
      "20000/20000 [==============================] - 0s 14us/sample - loss: 8.9301e-04 - val_loss: 0.0014\n",
      "Epoch 57/60\n",
      "16896/20000 [========================>.....] - ETA: 0s - loss: 9.0281e-04\n",
      "Epoch 00057: val_loss did not improve from 0.00135\n",
      "20000/20000 [==============================] - 0s 13us/sample - loss: 9.2020e-04 - val_loss: 0.0014\n",
      "Epoch 58/60\n",
      "16640/20000 [=======================>......] - ETA: 0s - loss: 0.0010    \n",
      "Epoch 00058: val_loss did not improve from 0.00135\n",
      "20000/20000 [==============================] - 0s 13us/sample - loss: 0.0010 - val_loss: 0.0017\n",
      "Epoch 59/60\n",
      "19968/20000 [============================>.] - ETA: 0s - loss: 0.0011\n",
      "Epoch 00059: val_loss did not improve from 0.00135\n",
      "20000/20000 [==============================] - 0s 14us/sample - loss: 0.0011 - val_loss: 0.0014\n",
      "Epoch 60/60\n",
      "16640/20000 [=======================>......] - ETA: 0s - loss: 9.6932e-04\n",
      "Epoch 00060: val_loss did not improve from 0.00135\n",
      "20000/20000 [==============================] - 0s 13us/sample - loss: 9.7439e-04 - val_loss: 0.0014\n"
     ]
    }
   ],
   "source": [
    "simple_model = SimpleModel(path, train_reflectivity_pp.shape[1], train_labels_pp.shape[1])\n",
    "hist, timestamp = simple_model.train(train_reflectivity_pp, train_labels_pp, val_reflectivity_pp, val_labels_pp)"
   ]
  },
  {
   "cell_type": "markdown",
   "metadata": {},
   "source": [
    "Inspect training and validation loss."
   ]
  },
  {
   "cell_type": "code",
   "execution_count": 27,
   "metadata": {},
   "outputs": [
    {
     "data": {
      "image/png": "[encoded data removed]",
      "text/plain": [
       "<Figure size 432x288 with 1 Axes>"
      ]
     },
     "metadata": {
      "needs_background": "light"
     },
     "output_type": "display_data"
    },
    {
     "data": {
      "image/png": "[encoded data removed]",
      "text/plain": [
       "<Figure size 432x288 with 1 Axes>"
      ]
     },
     "metadata": {
      "needs_background": "light"
     },
     "output_type": "display_data"
    }
   ],
   "source": [
    "plt.plot(hist.history['loss'], label='loss')\n",
    "plt.plot(hist.history['val_loss'], label='val_loss')\n",
    "plt.legend()\n",
    "plt.show()\n",
    "plt.semilogy(hist.history['loss'], label='loss')\n",
    "plt.semilogy(hist.history['val_loss'], label='val_loss')\n",
    "plt.legend()\n",
    "plt.show()"
   ]
  },
  {
   "cell_type": "markdown",
   "metadata": {},
   "source": [
    "### Test on simulated data"
   ]
  },
  {
   "cell_type": "markdown",
   "metadata": {},
   "source": [
    "Initialize the Prediction object for the given model and labels."
   ]
  },
  {
   "cell_type": "code",
   "execution_count": 28,
   "metadata": {},
   "outputs": [
    {
     "name": "stdout",
     "output_type": "stream",
     "text": [
      "WARNING:tensorflow:From C:\\Users\\Alessandro\\anaconda3\\lib\\site-packages\\tensorflow\\python\\ops\\init_ops.py:97: calling GlorotUniform.__init__ (from tensorflow.python.ops.init_ops) with dtype is deprecated and will be removed in a future version.\n",
      "Instructions for updating:\n",
      "Call initializer instance with the dtype argument instead of passing it to the constructor\n",
      "WARNING:tensorflow:From C:\\Users\\Alessandro\\anaconda3\\lib\\site-packages\\tensorflow\\python\\ops\\init_ops.py:97: calling Zeros.__init__ (from tensorflow.python.ops.init_ops) with dtype is deprecated and will be removed in a future version.\n",
      "Instructions for updating:\n",
      "Call initializer instance with the dtype argument instead of passing it to the constructor\n"
     ]
    }
   ],
   "source": [
    "pr = Prediction('output/simple_model/models/' + timestamp + '.h5', op.used_label_names)"
   ]
  },
  {
   "cell_type": "code",
   "execution_count": 29,
   "metadata": {},
   "outputs": [
    {
     "name": "stdout",
     "output_type": "stream",
     "text": [
      "Finished 'predict_labels' in 0.0625 secs\n"
     ]
    }
   ],
   "source": [
    "pred_test_labels = pr.predict_labels(test_reflectivity_pp) # Predict labels for simulated test data"
   ]
  },
  {
   "cell_type": "code",
   "execution_count": 30,
   "metadata": {},
   "outputs": [
    {
     "data": {
      "text/html": [
       "<div>\n",
       "<style scoped>\n",
       "    .dataframe tbody tr th:only-of-type {\n",
       "        vertical-align: middle;\n",
       "    }\n",
       "\n",
       "    .dataframe tbody tr th {\n",
       "        vertical-align: top;\n",
       "    }\n",
       "\n",
       "    .dataframe thead th {\n",
       "        text-align: right;\n",
       "    }\n",
       "</style>\n",
       "<table border=\"1\" class=\"dataframe\">\n",
       "  <thead>\n",
       "    <tr style=\"text-align: right;\">\n",
       "      <th></th>\n",
       "      <th>SiOx_thickness</th>\n",
       "      <th>Film_thickness</th>\n",
       "      <th>Film_roughness</th>\n",
       "      <th>Film_sld</th>\n",
       "    </tr>\n",
       "  </thead>\n",
       "  <tbody>\n",
       "    <tr>\n",
       "      <th>0</th>\n",
       "      <td>0.104310</td>\n",
       "      <td>0.160684</td>\n",
       "      <td>0.041288</td>\n",
       "      <td>0.148998</td>\n",
       "    </tr>\n",
       "    <tr>\n",
       "      <th>1</th>\n",
       "      <td>0.676212</td>\n",
       "      <td>0.536493</td>\n",
       "      <td>0.435527</td>\n",
       "      <td>0.541172</td>\n",
       "    </tr>\n",
       "    <tr>\n",
       "      <th>2</th>\n",
       "      <td>0.671920</td>\n",
       "      <td>0.666251</td>\n",
       "      <td>0.091792</td>\n",
       "      <td>0.473413</td>\n",
       "    </tr>\n",
       "    <tr>\n",
       "      <th>3</th>\n",
       "      <td>0.123971</td>\n",
       "      <td>0.421352</td>\n",
       "      <td>0.505908</td>\n",
       "      <td>0.123976</td>\n",
       "    </tr>\n",
       "    <tr>\n",
       "      <th>4</th>\n",
       "      <td>0.202816</td>\n",
       "      <td>0.458623</td>\n",
       "      <td>0.173592</td>\n",
       "      <td>0.139399</td>\n",
       "    </tr>\n",
       "    <tr>\n",
       "      <th>...</th>\n",
       "      <td>...</td>\n",
       "      <td>...</td>\n",
       "      <td>...</td>\n",
       "      <td>...</td>\n",
       "    </tr>\n",
       "    <tr>\n",
       "      <th>495</th>\n",
       "      <td>0.410248</td>\n",
       "      <td>0.408922</td>\n",
       "      <td>0.678146</td>\n",
       "      <td>0.929775</td>\n",
       "    </tr>\n",
       "    <tr>\n",
       "      <th>496</th>\n",
       "      <td>0.930943</td>\n",
       "      <td>0.973662</td>\n",
       "      <td>0.639436</td>\n",
       "      <td>0.072726</td>\n",
       "    </tr>\n",
       "    <tr>\n",
       "      <th>497</th>\n",
       "      <td>0.194831</td>\n",
       "      <td>0.683757</td>\n",
       "      <td>0.786365</td>\n",
       "      <td>0.469889</td>\n",
       "    </tr>\n",
       "    <tr>\n",
       "      <th>498</th>\n",
       "      <td>0.694246</td>\n",
       "      <td>0.304790</td>\n",
       "      <td>0.628851</td>\n",
       "      <td>0.998213</td>\n",
       "    </tr>\n",
       "    <tr>\n",
       "      <th>499</th>\n",
       "      <td>0.790746</td>\n",
       "      <td>0.917771</td>\n",
       "      <td>0.585289</td>\n",
       "      <td>0.878319</td>\n",
       "    </tr>\n",
       "  </tbody>\n",
       "</table>\n",
       "<p>500 rows × 4 columns</p>\n",
       "</div>"
      ],
      "text/plain": [
       "     SiOx_thickness  Film_thickness  Film_roughness  Film_sld\n",
       "0          0.104310        0.160684        0.041288  0.148998\n",
       "1          0.676212        0.536493        0.435527  0.541172\n",
       "2          0.671920        0.666251        0.091792  0.473413\n",
       "3          0.123971        0.421352        0.505908  0.123976\n",
       "4          0.202816        0.458623        0.173592  0.139399\n",
       "..              ...             ...             ...       ...\n",
       "495        0.410248        0.408922        0.678146  0.929775\n",
       "496        0.930943        0.973662        0.639436  0.072726\n",
       "497        0.194831        0.683757        0.786365  0.469889\n",
       "498        0.694246        0.304790        0.628851  0.998213\n",
       "499        0.790746        0.917771        0.585289  0.878319\n",
       "\n",
       "[500 rows x 4 columns]"
      ]
     },
     "execution_count": 30,
     "metadata": {},
     "output_type": "execute_result"
    }
   ],
   "source": [
    "test_labels_pp # Inspect previously generated and preprocessed test labels"
   ]
  },
  {
   "cell_type": "code",
   "execution_count": 31,
   "metadata": {},
   "outputs": [
    {
     "data": {
      "text/html": [
       "<div>\n",
       "<style scoped>\n",
       "    .dataframe tbody tr th:only-of-type {\n",
       "        vertical-align: middle;\n",
       "    }\n",
       "\n",
       "    .dataframe tbody tr th {\n",
       "        vertical-align: top;\n",
       "    }\n",
       "\n",
       "    .dataframe thead th {\n",
       "        text-align: right;\n",
       "    }\n",
       "</style>\n",
       "<table border=\"1\" class=\"dataframe\">\n",
       "  <thead>\n",
       "    <tr style=\"text-align: right;\">\n",
       "      <th></th>\n",
       "      <th>SiOx_thickness</th>\n",
       "      <th>Film_thickness</th>\n",
       "      <th>Film_roughness</th>\n",
       "      <th>Film_sld</th>\n",
       "    </tr>\n",
       "  </thead>\n",
       "  <tbody>\n",
       "    <tr>\n",
       "      <th>0</th>\n",
       "      <td>0.139908</td>\n",
       "      <td>0.170447</td>\n",
       "      <td>0.036874</td>\n",
       "      <td>0.129362</td>\n",
       "    </tr>\n",
       "    <tr>\n",
       "      <th>1</th>\n",
       "      <td>0.681065</td>\n",
       "      <td>0.530134</td>\n",
       "      <td>0.440287</td>\n",
       "      <td>0.545129</td>\n",
       "    </tr>\n",
       "    <tr>\n",
       "      <th>2</th>\n",
       "      <td>0.662015</td>\n",
       "      <td>0.664832</td>\n",
       "      <td>0.095344</td>\n",
       "      <td>0.468128</td>\n",
       "    </tr>\n",
       "    <tr>\n",
       "      <th>3</th>\n",
       "      <td>0.129863</td>\n",
       "      <td>0.417456</td>\n",
       "      <td>0.512588</td>\n",
       "      <td>0.133763</td>\n",
       "    </tr>\n",
       "    <tr>\n",
       "      <th>4</th>\n",
       "      <td>0.190928</td>\n",
       "      <td>0.465288</td>\n",
       "      <td>0.167626</td>\n",
       "      <td>0.145763</td>\n",
       "    </tr>\n",
       "    <tr>\n",
       "      <th>...</th>\n",
       "      <td>...</td>\n",
       "      <td>...</td>\n",
       "      <td>...</td>\n",
       "      <td>...</td>\n",
       "    </tr>\n",
       "    <tr>\n",
       "      <th>495</th>\n",
       "      <td>0.418748</td>\n",
       "      <td>0.415838</td>\n",
       "      <td>0.674878</td>\n",
       "      <td>0.929540</td>\n",
       "    </tr>\n",
       "    <tr>\n",
       "      <th>496</th>\n",
       "      <td>0.934049</td>\n",
       "      <td>1.001588</td>\n",
       "      <td>0.669080</td>\n",
       "      <td>0.076522</td>\n",
       "    </tr>\n",
       "    <tr>\n",
       "      <th>497</th>\n",
       "      <td>0.194917</td>\n",
       "      <td>0.694922</td>\n",
       "      <td>0.794909</td>\n",
       "      <td>0.474822</td>\n",
       "    </tr>\n",
       "    <tr>\n",
       "      <th>498</th>\n",
       "      <td>0.717557</td>\n",
       "      <td>0.307594</td>\n",
       "      <td>0.628463</td>\n",
       "      <td>1.001855</td>\n",
       "    </tr>\n",
       "    <tr>\n",
       "      <th>499</th>\n",
       "      <td>0.800966</td>\n",
       "      <td>0.935665</td>\n",
       "      <td>0.588735</td>\n",
       "      <td>0.891059</td>\n",
       "    </tr>\n",
       "  </tbody>\n",
       "</table>\n",
       "<p>500 rows × 4 columns</p>\n",
       "</div>"
      ],
      "text/plain": [
       "     SiOx_thickness  Film_thickness  Film_roughness  Film_sld\n",
       "0          0.139908        0.170447        0.036874  0.129362\n",
       "1          0.681065        0.530134        0.440287  0.545129\n",
       "2          0.662015        0.664832        0.095344  0.468128\n",
       "3          0.129863        0.417456        0.512588  0.133763\n",
       "4          0.190928        0.465288        0.167626  0.145763\n",
       "..              ...             ...             ...       ...\n",
       "495        0.418748        0.415838        0.674878  0.929540\n",
       "496        0.934049        1.001588        0.669080  0.076522\n",
       "497        0.194917        0.694922        0.794909  0.474822\n",
       "498        0.717557        0.307594        0.628463  1.001855\n",
       "499        0.800966        0.935665        0.588735  0.891059\n",
       "\n",
       "[500 rows x 4 columns]"
      ]
     },
     "execution_count": 31,
     "metadata": {},
     "output_type": "execute_result"
    }
   ],
   "source": [
    "pred_test_labels # Inspect predicted test labels"
   ]
  },
  {
   "cell_type": "code",
   "execution_count": 32,
   "metadata": {},
   "outputs": [
    {
     "data": {
      "text/html": [
       "<div>\n",
       "<style scoped>\n",
       "    .dataframe tbody tr th:only-of-type {\n",
       "        vertical-align: middle;\n",
       "    }\n",
       "\n",
       "    .dataframe tbody tr th {\n",
       "        vertical-align: top;\n",
       "    }\n",
       "\n",
       "    .dataframe thead th {\n",
       "        text-align: right;\n",
       "    }\n",
       "</style>\n",
       "<table border=\"1\" class=\"dataframe\">\n",
       "  <thead>\n",
       "    <tr style=\"text-align: right;\">\n",
       "      <th></th>\n",
       "      <th>SiOx_thickness</th>\n",
       "      <th>Film_thickness</th>\n",
       "      <th>Film_roughness</th>\n",
       "      <th>Film_sld</th>\n",
       "    </tr>\n",
       "  </thead>\n",
       "  <tbody>\n",
       "    <tr>\n",
       "      <th>0</th>\n",
       "      <td>0.035599</td>\n",
       "      <td>0.009763</td>\n",
       "      <td>-0.004414</td>\n",
       "      <td>-0.019636</td>\n",
       "    </tr>\n",
       "    <tr>\n",
       "      <th>1</th>\n",
       "      <td>0.004854</td>\n",
       "      <td>-0.006359</td>\n",
       "      <td>0.004760</td>\n",
       "      <td>0.003956</td>\n",
       "    </tr>\n",
       "    <tr>\n",
       "      <th>2</th>\n",
       "      <td>-0.009905</td>\n",
       "      <td>-0.001419</td>\n",
       "      <td>0.003552</td>\n",
       "      <td>-0.005285</td>\n",
       "    </tr>\n",
       "    <tr>\n",
       "      <th>3</th>\n",
       "      <td>0.005892</td>\n",
       "      <td>-0.003896</td>\n",
       "      <td>0.006681</td>\n",
       "      <td>0.009787</td>\n",
       "    </tr>\n",
       "    <tr>\n",
       "      <th>4</th>\n",
       "      <td>-0.011888</td>\n",
       "      <td>0.006665</td>\n",
       "      <td>-0.005966</td>\n",
       "      <td>0.006364</td>\n",
       "    </tr>\n",
       "    <tr>\n",
       "      <th>...</th>\n",
       "      <td>...</td>\n",
       "      <td>...</td>\n",
       "      <td>...</td>\n",
       "      <td>...</td>\n",
       "    </tr>\n",
       "    <tr>\n",
       "      <th>495</th>\n",
       "      <td>0.008500</td>\n",
       "      <td>0.006916</td>\n",
       "      <td>-0.003268</td>\n",
       "      <td>-0.000235</td>\n",
       "    </tr>\n",
       "    <tr>\n",
       "      <th>496</th>\n",
       "      <td>0.003106</td>\n",
       "      <td>0.027926</td>\n",
       "      <td>0.029645</td>\n",
       "      <td>0.003796</td>\n",
       "    </tr>\n",
       "    <tr>\n",
       "      <th>497</th>\n",
       "      <td>0.000085</td>\n",
       "      <td>0.011164</td>\n",
       "      <td>0.008544</td>\n",
       "      <td>0.004934</td>\n",
       "    </tr>\n",
       "    <tr>\n",
       "      <th>498</th>\n",
       "      <td>0.023311</td>\n",
       "      <td>0.002804</td>\n",
       "      <td>-0.000388</td>\n",
       "      <td>0.003642</td>\n",
       "    </tr>\n",
       "    <tr>\n",
       "      <th>499</th>\n",
       "      <td>0.010220</td>\n",
       "      <td>0.017894</td>\n",
       "      <td>0.003446</td>\n",
       "      <td>0.012741</td>\n",
       "    </tr>\n",
       "  </tbody>\n",
       "</table>\n",
       "<p>500 rows × 4 columns</p>\n",
       "</div>"
      ],
      "text/plain": [
       "     SiOx_thickness  Film_thickness  Film_roughness  Film_sld\n",
       "0          0.035599        0.009763       -0.004414 -0.019636\n",
       "1          0.004854       -0.006359        0.004760  0.003956\n",
       "2         -0.009905       -0.001419        0.003552 -0.005285\n",
       "3          0.005892       -0.003896        0.006681  0.009787\n",
       "4         -0.011888        0.006665       -0.005966  0.006364\n",
       "..              ...             ...             ...       ...\n",
       "495        0.008500        0.006916       -0.003268 -0.000235\n",
       "496        0.003106        0.027926        0.029645  0.003796\n",
       "497        0.000085        0.011164        0.008544  0.004934\n",
       "498        0.023311        0.002804       -0.000388  0.003642\n",
       "499        0.010220        0.017894        0.003446  0.012741\n",
       "\n",
       "[500 rows x 4 columns]"
      ]
     },
     "execution_count": 32,
     "metadata": {},
     "output_type": "execute_result"
    }
   ],
   "source": [
    "pred_test_labels.reset_index(drop=True) - test_labels_pp.reset_index(drop=True) # Calculate absolute error"
   ]
  },
  {
   "cell_type": "code",
   "execution_count": 33,
   "metadata": {},
   "outputs": [
    {
     "name": "stdout",
     "output_type": "stream",
     "text": [
      "SiOx_thickness    0.027863\n",
      "Film_thickness    0.010616\n",
      "Film_roughness    0.012727\n",
      "Film_sld          0.013864\n",
      "dtype: float64\n"
     ]
    }
   ],
   "source": [
    "mae = pr.mean_absolute_error(pred_test_labels, test_labels_pp) # Calculate mean absolute error\n",
    "print(mae)"
   ]
  },
  {
   "cell_type": "code",
   "execution_count": 34,
   "metadata": {},
   "outputs": [
    {
     "name": "stdout",
     "output_type": "stream",
     "text": [
      "SiOx_thickness    0.103455\n",
      "Film_thickness    0.029172\n",
      "Film_roughness    0.277239\n",
      "Film_sld          0.031739\n",
      "dtype: float64\n"
     ]
    }
   ],
   "source": [
    "mape = pr.mean_absolute_percentage_error(pred_test_labels, test_labels_pp) # Calculate mean absolute percentage error\n",
    "print(mape)"
   ]
  },
  {
   "cell_type": "code",
   "execution_count": 35,
   "metadata": {},
   "outputs": [
    {
     "data": {
      "text/html": [
       "<div>\n",
       "<style scoped>\n",
       "    .dataframe tbody tr th:only-of-type {\n",
       "        vertical-align: middle;\n",
       "    }\n",
       "\n",
       "    .dataframe tbody tr th {\n",
       "        vertical-align: top;\n",
       "    }\n",
       "\n",
       "    .dataframe thead th {\n",
       "        text-align: right;\n",
       "    }\n",
       "</style>\n",
       "<table border=\"1\" class=\"dataframe\">\n",
       "  <thead>\n",
       "    <tr style=\"text-align: right;\">\n",
       "      <th></th>\n",
       "      <th>Si_thickness</th>\n",
       "      <th>SiOx_thickness</th>\n",
       "      <th>Film_thickness</th>\n",
       "      <th>Si_roughness</th>\n",
       "      <th>SiOx_roughness</th>\n",
       "      <th>Film_roughness</th>\n",
       "      <th>Si_sld</th>\n",
       "      <th>SiOx_sld</th>\n",
       "      <th>Film_sld</th>\n",
       "      <th>ambient_sld</th>\n",
       "    </tr>\n",
       "  </thead>\n",
       "  <tbody>\n",
       "    <tr>\n",
       "      <th>0</th>\n",
       "      <td>1.0</td>\n",
       "      <td>3.129286</td>\n",
       "      <td>48.205168</td>\n",
       "      <td>1.0</td>\n",
       "      <td>2.5</td>\n",
       "      <td>2.477285</td>\n",
       "      <td>20.1</td>\n",
       "      <td>17.8</td>\n",
       "      <td>2.085978</td>\n",
       "      <td>0.0</td>\n",
       "    </tr>\n",
       "    <tr>\n",
       "      <th>1</th>\n",
       "      <td>1.0</td>\n",
       "      <td>20.286347</td>\n",
       "      <td>160.947966</td>\n",
       "      <td>1.0</td>\n",
       "      <td>2.5</td>\n",
       "      <td>26.131638</td>\n",
       "      <td>20.1</td>\n",
       "      <td>17.8</td>\n",
       "      <td>7.576412</td>\n",
       "      <td>0.0</td>\n",
       "    </tr>\n",
       "    <tr>\n",
       "      <th>2</th>\n",
       "      <td>1.0</td>\n",
       "      <td>20.157595</td>\n",
       "      <td>199.875328</td>\n",
       "      <td>1.0</td>\n",
       "      <td>2.5</td>\n",
       "      <td>5.507502</td>\n",
       "      <td>20.1</td>\n",
       "      <td>17.8</td>\n",
       "      <td>6.627786</td>\n",
       "      <td>0.0</td>\n",
       "    </tr>\n",
       "    <tr>\n",
       "      <th>3</th>\n",
       "      <td>1.0</td>\n",
       "      <td>3.719136</td>\n",
       "      <td>126.405706</td>\n",
       "      <td>1.0</td>\n",
       "      <td>2.5</td>\n",
       "      <td>30.354450</td>\n",
       "      <td>20.1</td>\n",
       "      <td>17.8</td>\n",
       "      <td>1.735668</td>\n",
       "      <td>0.0</td>\n",
       "    </tr>\n",
       "    <tr>\n",
       "      <th>4</th>\n",
       "      <td>1.0</td>\n",
       "      <td>6.084486</td>\n",
       "      <td>137.586769</td>\n",
       "      <td>1.0</td>\n",
       "      <td>2.5</td>\n",
       "      <td>10.415530</td>\n",
       "      <td>20.1</td>\n",
       "      <td>17.8</td>\n",
       "      <td>1.951585</td>\n",
       "      <td>0.0</td>\n",
       "    </tr>\n",
       "    <tr>\n",
       "      <th>...</th>\n",
       "      <td>...</td>\n",
       "      <td>...</td>\n",
       "      <td>...</td>\n",
       "      <td>...</td>\n",
       "      <td>...</td>\n",
       "      <td>...</td>\n",
       "      <td>...</td>\n",
       "      <td>...</td>\n",
       "      <td>...</td>\n",
       "      <td>...</td>\n",
       "    </tr>\n",
       "    <tr>\n",
       "      <th>495</th>\n",
       "      <td>1.0</td>\n",
       "      <td>12.307443</td>\n",
       "      <td>122.676467</td>\n",
       "      <td>1.0</td>\n",
       "      <td>2.5</td>\n",
       "      <td>40.688741</td>\n",
       "      <td>20.1</td>\n",
       "      <td>17.8</td>\n",
       "      <td>13.016849</td>\n",
       "      <td>0.0</td>\n",
       "    </tr>\n",
       "    <tr>\n",
       "      <th>496</th>\n",
       "      <td>1.0</td>\n",
       "      <td>27.928275</td>\n",
       "      <td>292.098517</td>\n",
       "      <td>1.0</td>\n",
       "      <td>2.5</td>\n",
       "      <td>38.366131</td>\n",
       "      <td>20.1</td>\n",
       "      <td>17.8</td>\n",
       "      <td>1.018162</td>\n",
       "      <td>0.0</td>\n",
       "    </tr>\n",
       "    <tr>\n",
       "      <th>497</th>\n",
       "      <td>1.0</td>\n",
       "      <td>5.844931</td>\n",
       "      <td>205.127245</td>\n",
       "      <td>1.0</td>\n",
       "      <td>2.5</td>\n",
       "      <td>47.181894</td>\n",
       "      <td>20.1</td>\n",
       "      <td>17.8</td>\n",
       "      <td>6.578441</td>\n",
       "      <td>0.0</td>\n",
       "    </tr>\n",
       "    <tr>\n",
       "      <th>498</th>\n",
       "      <td>1.0</td>\n",
       "      <td>20.827388</td>\n",
       "      <td>91.436980</td>\n",
       "      <td>1.0</td>\n",
       "      <td>2.5</td>\n",
       "      <td>37.731076</td>\n",
       "      <td>20.1</td>\n",
       "      <td>17.8</td>\n",
       "      <td>13.974978</td>\n",
       "      <td>0.0</td>\n",
       "    </tr>\n",
       "    <tr>\n",
       "      <th>499</th>\n",
       "      <td>1.0</td>\n",
       "      <td>23.722383</td>\n",
       "      <td>275.331243</td>\n",
       "      <td>1.0</td>\n",
       "      <td>2.5</td>\n",
       "      <td>35.117352</td>\n",
       "      <td>20.1</td>\n",
       "      <td>17.8</td>\n",
       "      <td>12.296462</td>\n",
       "      <td>0.0</td>\n",
       "    </tr>\n",
       "  </tbody>\n",
       "</table>\n",
       "<p>500 rows × 10 columns</p>\n",
       "</div>"
      ],
      "text/plain": [
       "     Si_thickness  SiOx_thickness  Film_thickness  Si_roughness  \\\n",
       "0             1.0        3.129286       48.205168           1.0   \n",
       "1             1.0       20.286347      160.947966           1.0   \n",
       "2             1.0       20.157595      199.875328           1.0   \n",
       "3             1.0        3.719136      126.405706           1.0   \n",
       "4             1.0        6.084486      137.586769           1.0   \n",
       "..            ...             ...             ...           ...   \n",
       "495           1.0       12.307443      122.676467           1.0   \n",
       "496           1.0       27.928275      292.098517           1.0   \n",
       "497           1.0        5.844931      205.127245           1.0   \n",
       "498           1.0       20.827388       91.436980           1.0   \n",
       "499           1.0       23.722383      275.331243           1.0   \n",
       "\n",
       "     SiOx_roughness  Film_roughness  Si_sld  SiOx_sld   Film_sld  ambient_sld  \n",
       "0               2.5        2.477285    20.1      17.8   2.085978          0.0  \n",
       "1               2.5       26.131638    20.1      17.8   7.576412          0.0  \n",
       "2               2.5        5.507502    20.1      17.8   6.627786          0.0  \n",
       "3               2.5       30.354450    20.1      17.8   1.735668          0.0  \n",
       "4               2.5       10.415530    20.1      17.8   1.951585          0.0  \n",
       "..              ...             ...     ...       ...        ...          ...  \n",
       "495             2.5       40.688741    20.1      17.8  13.016849          0.0  \n",
       "496             2.5       38.366131    20.1      17.8   1.018162          0.0  \n",
       "497             2.5       47.181894    20.1      17.8   6.578441          0.0  \n",
       "498             2.5       37.731076    20.1      17.8  13.974978          0.0  \n",
       "499             2.5       35.117352    20.1      17.8  12.296462          0.0  \n",
       "\n",
       "[500 rows x 10 columns]"
      ]
     },
     "execution_count": 35,
     "metadata": {},
     "output_type": "execute_result"
    }
   ],
   "source": [
    "test_labels # Inspect previously generated test labels"
   ]
  },
  {
   "cell_type": "code",
   "execution_count": 36,
   "metadata": {},
   "outputs": [],
   "source": [
    "restored_pred_test_labels = op.restore_labels(pred_test_labels, removed_test_labels) # Reverse preprocessing on predicted test labels"
   ]
  },
  {
   "cell_type": "code",
   "execution_count": 37,
   "metadata": {
    "scrolled": true
   },
   "outputs": [
    {
     "data": {
      "text/html": [
       "<div>\n",
       "<style scoped>\n",
       "    .dataframe tbody tr th:only-of-type {\n",
       "        vertical-align: middle;\n",
       "    }\n",
       "\n",
       "    .dataframe tbody tr th {\n",
       "        vertical-align: top;\n",
       "    }\n",
       "\n",
       "    .dataframe thead th {\n",
       "        text-align: right;\n",
       "    }\n",
       "</style>\n",
       "<table border=\"1\" class=\"dataframe\">\n",
       "  <thead>\n",
       "    <tr style=\"text-align: right;\">\n",
       "      <th></th>\n",
       "      <th>Si_thickness</th>\n",
       "      <th>SiOx_thickness</th>\n",
       "      <th>Film_thickness</th>\n",
       "      <th>Si_roughness</th>\n",
       "      <th>SiOx_roughness</th>\n",
       "      <th>Film_roughness</th>\n",
       "      <th>Si_sld</th>\n",
       "      <th>SiOx_sld</th>\n",
       "      <th>Film_sld</th>\n",
       "      <th>ambient_sld</th>\n",
       "    </tr>\n",
       "  </thead>\n",
       "  <tbody>\n",
       "    <tr>\n",
       "      <th>0</th>\n",
       "      <td>1.0</td>\n",
       "      <td>4.197247</td>\n",
       "      <td>51.134075</td>\n",
       "      <td>1.0</td>\n",
       "      <td>2.5</td>\n",
       "      <td>2.212419</td>\n",
       "      <td>20.1</td>\n",
       "      <td>17.8</td>\n",
       "      <td>1.811070</td>\n",
       "      <td>0.0</td>\n",
       "    </tr>\n",
       "    <tr>\n",
       "      <th>1</th>\n",
       "      <td>1.0</td>\n",
       "      <td>20.431953</td>\n",
       "      <td>159.040176</td>\n",
       "      <td>1.0</td>\n",
       "      <td>2.5</td>\n",
       "      <td>26.417240</td>\n",
       "      <td>20.1</td>\n",
       "      <td>17.8</td>\n",
       "      <td>7.631800</td>\n",
       "      <td>0.0</td>\n",
       "    </tr>\n",
       "    <tr>\n",
       "      <th>2</th>\n",
       "      <td>1.0</td>\n",
       "      <td>19.860435</td>\n",
       "      <td>199.449631</td>\n",
       "      <td>1.0</td>\n",
       "      <td>2.5</td>\n",
       "      <td>5.720637</td>\n",
       "      <td>20.1</td>\n",
       "      <td>17.8</td>\n",
       "      <td>6.553794</td>\n",
       "      <td>0.0</td>\n",
       "    </tr>\n",
       "    <tr>\n",
       "      <th>3</th>\n",
       "      <td>1.0</td>\n",
       "      <td>3.895899</td>\n",
       "      <td>125.236877</td>\n",
       "      <td>1.0</td>\n",
       "      <td>2.5</td>\n",
       "      <td>30.755306</td>\n",
       "      <td>20.1</td>\n",
       "      <td>17.8</td>\n",
       "      <td>1.872682</td>\n",
       "      <td>0.0</td>\n",
       "    </tr>\n",
       "    <tr>\n",
       "      <th>4</th>\n",
       "      <td>1.0</td>\n",
       "      <td>5.727846</td>\n",
       "      <td>139.586411</td>\n",
       "      <td>1.0</td>\n",
       "      <td>2.5</td>\n",
       "      <td>10.057552</td>\n",
       "      <td>20.1</td>\n",
       "      <td>17.8</td>\n",
       "      <td>2.040682</td>\n",
       "      <td>0.0</td>\n",
       "    </tr>\n",
       "    <tr>\n",
       "      <th>...</th>\n",
       "      <td>...</td>\n",
       "      <td>...</td>\n",
       "      <td>...</td>\n",
       "      <td>...</td>\n",
       "      <td>...</td>\n",
       "      <td>...</td>\n",
       "      <td>...</td>\n",
       "      <td>...</td>\n",
       "      <td>...</td>\n",
       "      <td>...</td>\n",
       "    </tr>\n",
       "    <tr>\n",
       "      <th>495</th>\n",
       "      <td>1.0</td>\n",
       "      <td>12.562447</td>\n",
       "      <td>124.751411</td>\n",
       "      <td>1.0</td>\n",
       "      <td>2.5</td>\n",
       "      <td>40.492683</td>\n",
       "      <td>20.1</td>\n",
       "      <td>17.8</td>\n",
       "      <td>13.013563</td>\n",
       "      <td>0.0</td>\n",
       "    </tr>\n",
       "    <tr>\n",
       "      <th>496</th>\n",
       "      <td>1.0</td>\n",
       "      <td>28.021465</td>\n",
       "      <td>300.476318</td>\n",
       "      <td>1.0</td>\n",
       "      <td>2.5</td>\n",
       "      <td>40.144817</td>\n",
       "      <td>20.1</td>\n",
       "      <td>17.8</td>\n",
       "      <td>1.071306</td>\n",
       "      <td>0.0</td>\n",
       "    </tr>\n",
       "    <tr>\n",
       "      <th>497</th>\n",
       "      <td>1.0</td>\n",
       "      <td>5.847496</td>\n",
       "      <td>208.476471</td>\n",
       "      <td>1.0</td>\n",
       "      <td>2.5</td>\n",
       "      <td>47.694542</td>\n",
       "      <td>20.1</td>\n",
       "      <td>17.8</td>\n",
       "      <td>6.647513</td>\n",
       "      <td>0.0</td>\n",
       "    </tr>\n",
       "    <tr>\n",
       "      <th>498</th>\n",
       "      <td>1.0</td>\n",
       "      <td>21.526718</td>\n",
       "      <td>92.278168</td>\n",
       "      <td>1.0</td>\n",
       "      <td>2.5</td>\n",
       "      <td>37.707771</td>\n",
       "      <td>20.1</td>\n",
       "      <td>17.8</td>\n",
       "      <td>14.025967</td>\n",
       "      <td>0.0</td>\n",
       "    </tr>\n",
       "    <tr>\n",
       "      <th>499</th>\n",
       "      <td>1.0</td>\n",
       "      <td>24.028986</td>\n",
       "      <td>280.699493</td>\n",
       "      <td>1.0</td>\n",
       "      <td>2.5</td>\n",
       "      <td>35.324097</td>\n",
       "      <td>20.1</td>\n",
       "      <td>17.8</td>\n",
       "      <td>12.474833</td>\n",
       "      <td>0.0</td>\n",
       "    </tr>\n",
       "  </tbody>\n",
       "</table>\n",
       "<p>500 rows × 10 columns</p>\n",
       "</div>"
      ],
      "text/plain": [
       "     Si_thickness  SiOx_thickness  Film_thickness  Si_roughness  \\\n",
       "0             1.0        4.197247       51.134075           1.0   \n",
       "1             1.0       20.431953      159.040176           1.0   \n",
       "2             1.0       19.860435      199.449631           1.0   \n",
       "3             1.0        3.895899      125.236877           1.0   \n",
       "4             1.0        5.727846      139.586411           1.0   \n",
       "..            ...             ...             ...           ...   \n",
       "495           1.0       12.562447      124.751411           1.0   \n",
       "496           1.0       28.021465      300.476318           1.0   \n",
       "497           1.0        5.847496      208.476471           1.0   \n",
       "498           1.0       21.526718       92.278168           1.0   \n",
       "499           1.0       24.028986      280.699493           1.0   \n",
       "\n",
       "     SiOx_roughness  Film_roughness  Si_sld  SiOx_sld   Film_sld  ambient_sld  \n",
       "0               2.5        2.212419    20.1      17.8   1.811070          0.0  \n",
       "1               2.5       26.417240    20.1      17.8   7.631800          0.0  \n",
       "2               2.5        5.720637    20.1      17.8   6.553794          0.0  \n",
       "3               2.5       30.755306    20.1      17.8   1.872682          0.0  \n",
       "4               2.5       10.057552    20.1      17.8   2.040682          0.0  \n",
       "..              ...             ...     ...       ...        ...          ...  \n",
       "495             2.5       40.492683    20.1      17.8  13.013563          0.0  \n",
       "496             2.5       40.144817    20.1      17.8   1.071306          0.0  \n",
       "497             2.5       47.694542    20.1      17.8   6.647513          0.0  \n",
       "498             2.5       37.707771    20.1      17.8  14.025967          0.0  \n",
       "499             2.5       35.324097    20.1      17.8  12.474833          0.0  \n",
       "\n",
       "[500 rows x 10 columns]"
      ]
     },
     "execution_count": 37,
     "metadata": {},
     "output_type": "execute_result"
    }
   ],
   "source": [
    "restored_pred_test_labels # Inspect predicted test labels without preprocessing"
   ]
  },
  {
   "cell_type": "markdown",
   "metadata": {},
   "source": [
    "Compare test labels with predicted test labels."
   ]
  },
  {
   "cell_type": "code",
   "execution_count": 38,
   "metadata": {},
   "outputs": [
    {
     "data": {
      "image/png": "[encoded data removed]",
      "text/plain": [
       "<Figure size 432x288 with 1 Axes>"
      ]
     },
     "metadata": {
      "needs_background": "light"
     },
     "output_type": "display_data"
    }
   ],
   "source": [
    "plt.plot(restored_pred_test_labels['Film_thickness'], test_labels['Film_thickness'], '.', label='simulated')\n",
    "plt.plot(restored_pred_test_labels['Film_thickness'], restored_pred_test_labels['Film_thickness'], label='predicted')\n",
    "plt.legend()\n",
    "plt.xlabel('Index')\n",
    "plt.ylabel('Thickness')\n",
    "plt.show()"
   ]
  },
  {
   "cell_type": "markdown",
   "metadata": {},
   "source": [
    "Simulate reflectivity from predicted labels."
   ]
  },
  {
   "cell_type": "code",
   "execution_count": 39,
   "metadata": {},
   "outputs": [
    {
     "name": "stderr",
     "output_type": "stream",
     "text": [
      "100%|█████████████████████████████████████████████████████████████████████████████| 500/500 [00:00<00:00, 13872.99it/s]"
     ]
    },
    {
     "name": "stdout",
     "output_type": "stream",
     "text": [
      "Finished 'simulate_reflectivity' in 0.0401 secs\n"
     ]
    },
    {
     "name": "stderr",
     "output_type": "stream",
     "text": [
      "\n"
     ]
    }
   ],
   "source": [
    "pred_test_reflectivity = gen.simulate_reflectivity(restored_pred_test_labels)"
   ]
  },
  {
   "cell_type": "markdown",
   "metadata": {},
   "source": [
    "Plot test reflectivity with predicted reflectivity"
   ]
  },
  {
   "cell_type": "code",
   "execution_count": 40,
   "metadata": {},
   "outputs": [
    {
     "data": {
      "image/png": "[encoded data removed]",
      "text/plain": [
       "<Figure size 432x288 with 1 Axes>"
      ]
     },
     "metadata": {
      "needs_background": "light"
     },
     "output_type": "display_data"
    }
   ],
   "source": [
    "plt.semilogy(q, test_reflectivity[23, :], 'o', label='simulated')\n",
    "plt.semilogy(q, pred_test_reflectivity[23, :], label='predicted')\n",
    "plt.legend()\n",
    "plt.xlabel('q [1/A]')\n",
    "plt.ylabel('Reflectivity [norm.]')\n",
    "plt.show()"
   ]
  },
  {
   "cell_type": "markdown",
   "metadata": {},
   "source": [
    "### Test on experimental data"
   ]
  },
  {
   "cell_type": "code",
   "execution_count": 41,
   "metadata": {},
   "outputs": [],
   "source": [
    "experimental_reflectivity_pp = ip.standardize(experimental_reflectivity)"
   ]
  },
  {
   "cell_type": "code",
   "execution_count": 42,
   "metadata": {},
   "outputs": [
    {
     "name": "stdout",
     "output_type": "stream",
     "text": [
      "Finished 'predict_labels' in 0.0043 secs\n"
     ]
    }
   ],
   "source": [
    "pred_experimental_test_labels = pr.predict_labels(experimental_reflectivity_pp) # Predict labels for experimental test data"
   ]
  },
  {
   "cell_type": "code",
   "execution_count": 43,
   "metadata": {},
   "outputs": [
    {
     "data": {
      "text/html": [
       "<div>\n",
       "<style scoped>\n",
       "    .dataframe tbody tr th:only-of-type {\n",
       "        vertical-align: middle;\n",
       "    }\n",
       "\n",
       "    .dataframe tbody tr th {\n",
       "        vertical-align: top;\n",
       "    }\n",
       "\n",
       "    .dataframe thead th {\n",
       "        text-align: right;\n",
       "    }\n",
       "</style>\n",
       "<table border=\"1\" class=\"dataframe\">\n",
       "  <thead>\n",
       "    <tr style=\"text-align: right;\">\n",
       "      <th></th>\n",
       "      <th>SiOx_thickness</th>\n",
       "      <th>Film_thickness</th>\n",
       "      <th>Film_roughness</th>\n",
       "      <th>Film_sld</th>\n",
       "    </tr>\n",
       "  </thead>\n",
       "  <tbody>\n",
       "    <tr>\n",
       "      <th>0</th>\n",
       "      <td>0.648740</td>\n",
       "      <td>0.650461</td>\n",
       "      <td>0.229121</td>\n",
       "      <td>0.089617</td>\n",
       "    </tr>\n",
       "    <tr>\n",
       "      <th>1</th>\n",
       "      <td>0.660592</td>\n",
       "      <td>0.641744</td>\n",
       "      <td>0.326816</td>\n",
       "      <td>0.121223</td>\n",
       "    </tr>\n",
       "    <tr>\n",
       "      <th>2</th>\n",
       "      <td>0.735440</td>\n",
       "      <td>0.541372</td>\n",
       "      <td>0.297818</td>\n",
       "      <td>0.130652</td>\n",
       "    </tr>\n",
       "    <tr>\n",
       "      <th>3</th>\n",
       "      <td>0.690620</td>\n",
       "      <td>0.263229</td>\n",
       "      <td>0.251210</td>\n",
       "      <td>0.180205</td>\n",
       "    </tr>\n",
       "    <tr>\n",
       "      <th>4</th>\n",
       "      <td>0.838164</td>\n",
       "      <td>0.232044</td>\n",
       "      <td>0.095354</td>\n",
       "      <td>0.202070</td>\n",
       "    </tr>\n",
       "    <tr>\n",
       "      <th>...</th>\n",
       "      <td>...</td>\n",
       "      <td>...</td>\n",
       "      <td>...</td>\n",
       "      <td>...</td>\n",
       "    </tr>\n",
       "    <tr>\n",
       "      <th>64</th>\n",
       "      <td>0.295749</td>\n",
       "      <td>0.476172</td>\n",
       "      <td>0.474727</td>\n",
       "      <td>0.831359</td>\n",
       "    </tr>\n",
       "    <tr>\n",
       "      <th>65</th>\n",
       "      <td>0.314153</td>\n",
       "      <td>0.479398</td>\n",
       "      <td>0.485031</td>\n",
       "      <td>0.826181</td>\n",
       "    </tr>\n",
       "    <tr>\n",
       "      <th>66</th>\n",
       "      <td>0.300891</td>\n",
       "      <td>0.490218</td>\n",
       "      <td>0.497543</td>\n",
       "      <td>0.833900</td>\n",
       "    </tr>\n",
       "    <tr>\n",
       "      <th>67</th>\n",
       "      <td>0.334451</td>\n",
       "      <td>0.502857</td>\n",
       "      <td>0.497170</td>\n",
       "      <td>0.832833</td>\n",
       "    </tr>\n",
       "    <tr>\n",
       "      <th>68</th>\n",
       "      <td>0.328268</td>\n",
       "      <td>0.503476</td>\n",
       "      <td>0.505786</td>\n",
       "      <td>0.827621</td>\n",
       "    </tr>\n",
       "  </tbody>\n",
       "</table>\n",
       "<p>69 rows × 4 columns</p>\n",
       "</div>"
      ],
      "text/plain": [
       "    SiOx_thickness  Film_thickness  Film_roughness  Film_sld\n",
       "0         0.648740        0.650461        0.229121  0.089617\n",
       "1         0.660592        0.641744        0.326816  0.121223\n",
       "2         0.735440        0.541372        0.297818  0.130652\n",
       "3         0.690620        0.263229        0.251210  0.180205\n",
       "4         0.838164        0.232044        0.095354  0.202070\n",
       "..             ...             ...             ...       ...\n",
       "64        0.295749        0.476172        0.474727  0.831359\n",
       "65        0.314153        0.479398        0.485031  0.826181\n",
       "66        0.300891        0.490218        0.497543  0.833900\n",
       "67        0.334451        0.502857        0.497170  0.832833\n",
       "68        0.328268        0.503476        0.505786  0.827621\n",
       "\n",
       "[69 rows x 4 columns]"
      ]
     },
     "execution_count": 43,
     "metadata": {},
     "output_type": "execute_result"
    }
   ],
   "source": [
    "pred_experimental_test_labels"
   ]
  },
  {
   "cell_type": "code",
   "execution_count": 44,
   "metadata": {},
   "outputs": [],
   "source": [
    "restored_pred_experimental_test_labels = op.restore_labels(pred_experimental_test_labels, removed_test_labels) # Reverse preprocessing on predicted test labels"
   ]
  },
  {
   "cell_type": "code",
   "execution_count": 45,
   "metadata": {},
   "outputs": [
    {
     "data": {
      "text/html": [
       "<div>\n",
       "<style scoped>\n",
       "    .dataframe tbody tr th:only-of-type {\n",
       "        vertical-align: middle;\n",
       "    }\n",
       "\n",
       "    .dataframe tbody tr th {\n",
       "        vertical-align: top;\n",
       "    }\n",
       "\n",
       "    .dataframe thead th {\n",
       "        text-align: right;\n",
       "    }\n",
       "</style>\n",
       "<table border=\"1\" class=\"dataframe\">\n",
       "  <thead>\n",
       "    <tr style=\"text-align: right;\">\n",
       "      <th></th>\n",
       "      <th>Si_thickness</th>\n",
       "      <th>SiOx_thickness</th>\n",
       "      <th>Film_thickness</th>\n",
       "      <th>Si_roughness</th>\n",
       "      <th>SiOx_roughness</th>\n",
       "      <th>Film_roughness</th>\n",
       "      <th>Si_sld</th>\n",
       "      <th>SiOx_sld</th>\n",
       "      <th>Film_sld</th>\n",
       "      <th>ambient_sld</th>\n",
       "    </tr>\n",
       "  </thead>\n",
       "  <tbody>\n",
       "    <tr>\n",
       "      <th>0</th>\n",
       "      <td>1.0</td>\n",
       "      <td>19.462202</td>\n",
       "      <td>195.138382</td>\n",
       "      <td>1.0</td>\n",
       "      <td>2.5</td>\n",
       "      <td>13.747282</td>\n",
       "      <td>20.1</td>\n",
       "      <td>17.8</td>\n",
       "      <td>1.254631</td>\n",
       "      <td>0.0</td>\n",
       "    </tr>\n",
       "    <tr>\n",
       "      <th>1</th>\n",
       "      <td>1.0</td>\n",
       "      <td>19.817755</td>\n",
       "      <td>192.523239</td>\n",
       "      <td>1.0</td>\n",
       "      <td>2.5</td>\n",
       "      <td>19.608948</td>\n",
       "      <td>20.1</td>\n",
       "      <td>17.8</td>\n",
       "      <td>1.697127</td>\n",
       "      <td>0.0</td>\n",
       "    </tr>\n",
       "    <tr>\n",
       "      <th>2</th>\n",
       "      <td>1.0</td>\n",
       "      <td>22.063200</td>\n",
       "      <td>162.411713</td>\n",
       "      <td>1.0</td>\n",
       "      <td>2.5</td>\n",
       "      <td>17.869095</td>\n",
       "      <td>20.1</td>\n",
       "      <td>17.8</td>\n",
       "      <td>1.829133</td>\n",
       "      <td>0.0</td>\n",
       "    </tr>\n",
       "    <tr>\n",
       "      <th>3</th>\n",
       "      <td>1.0</td>\n",
       "      <td>20.718594</td>\n",
       "      <td>78.968567</td>\n",
       "      <td>1.0</td>\n",
       "      <td>2.5</td>\n",
       "      <td>15.072598</td>\n",
       "      <td>20.1</td>\n",
       "      <td>17.8</td>\n",
       "      <td>2.522864</td>\n",
       "      <td>0.0</td>\n",
       "    </tr>\n",
       "    <tr>\n",
       "      <th>4</th>\n",
       "      <td>1.0</td>\n",
       "      <td>25.144913</td>\n",
       "      <td>69.613098</td>\n",
       "      <td>1.0</td>\n",
       "      <td>2.5</td>\n",
       "      <td>5.721231</td>\n",
       "      <td>20.1</td>\n",
       "      <td>17.8</td>\n",
       "      <td>2.828986</td>\n",
       "      <td>0.0</td>\n",
       "    </tr>\n",
       "    <tr>\n",
       "      <th>...</th>\n",
       "      <td>...</td>\n",
       "      <td>...</td>\n",
       "      <td>...</td>\n",
       "      <td>...</td>\n",
       "      <td>...</td>\n",
       "      <td>...</td>\n",
       "      <td>...</td>\n",
       "      <td>...</td>\n",
       "      <td>...</td>\n",
       "      <td>...</td>\n",
       "    </tr>\n",
       "    <tr>\n",
       "      <th>64</th>\n",
       "      <td>1.0</td>\n",
       "      <td>8.872459</td>\n",
       "      <td>142.851532</td>\n",
       "      <td>1.0</td>\n",
       "      <td>2.5</td>\n",
       "      <td>28.483641</td>\n",
       "      <td>20.1</td>\n",
       "      <td>17.8</td>\n",
       "      <td>11.639030</td>\n",
       "      <td>0.0</td>\n",
       "    </tr>\n",
       "    <tr>\n",
       "      <th>65</th>\n",
       "      <td>1.0</td>\n",
       "      <td>9.424582</td>\n",
       "      <td>143.819321</td>\n",
       "      <td>1.0</td>\n",
       "      <td>2.5</td>\n",
       "      <td>29.101860</td>\n",
       "      <td>20.1</td>\n",
       "      <td>17.8</td>\n",
       "      <td>11.566535</td>\n",
       "      <td>0.0</td>\n",
       "    </tr>\n",
       "    <tr>\n",
       "      <th>66</th>\n",
       "      <td>1.0</td>\n",
       "      <td>9.026721</td>\n",
       "      <td>147.065292</td>\n",
       "      <td>1.0</td>\n",
       "      <td>2.5</td>\n",
       "      <td>29.852591</td>\n",
       "      <td>20.1</td>\n",
       "      <td>17.8</td>\n",
       "      <td>11.674604</td>\n",
       "      <td>0.0</td>\n",
       "    </tr>\n",
       "    <tr>\n",
       "      <th>67</th>\n",
       "      <td>1.0</td>\n",
       "      <td>10.033525</td>\n",
       "      <td>150.857162</td>\n",
       "      <td>1.0</td>\n",
       "      <td>2.5</td>\n",
       "      <td>29.830219</td>\n",
       "      <td>20.1</td>\n",
       "      <td>17.8</td>\n",
       "      <td>11.659656</td>\n",
       "      <td>0.0</td>\n",
       "    </tr>\n",
       "    <tr>\n",
       "      <th>68</th>\n",
       "      <td>1.0</td>\n",
       "      <td>9.848028</td>\n",
       "      <td>151.042740</td>\n",
       "      <td>1.0</td>\n",
       "      <td>2.5</td>\n",
       "      <td>30.347157</td>\n",
       "      <td>20.1</td>\n",
       "      <td>17.8</td>\n",
       "      <td>11.586691</td>\n",
       "      <td>0.0</td>\n",
       "    </tr>\n",
       "  </tbody>\n",
       "</table>\n",
       "<p>69 rows × 10 columns</p>\n",
       "</div>"
      ],
      "text/plain": [
       "    Si_thickness  SiOx_thickness  Film_thickness  Si_roughness  \\\n",
       "0            1.0       19.462202      195.138382           1.0   \n",
       "1            1.0       19.817755      192.523239           1.0   \n",
       "2            1.0       22.063200      162.411713           1.0   \n",
       "3            1.0       20.718594       78.968567           1.0   \n",
       "4            1.0       25.144913       69.613098           1.0   \n",
       "..           ...             ...             ...           ...   \n",
       "64           1.0        8.872459      142.851532           1.0   \n",
       "65           1.0        9.424582      143.819321           1.0   \n",
       "66           1.0        9.026721      147.065292           1.0   \n",
       "67           1.0       10.033525      150.857162           1.0   \n",
       "68           1.0        9.848028      151.042740           1.0   \n",
       "\n",
       "    SiOx_roughness  Film_roughness  Si_sld  SiOx_sld   Film_sld  ambient_sld  \n",
       "0              2.5       13.747282    20.1      17.8   1.254631          0.0  \n",
       "1              2.5       19.608948    20.1      17.8   1.697127          0.0  \n",
       "2              2.5       17.869095    20.1      17.8   1.829133          0.0  \n",
       "3              2.5       15.072598    20.1      17.8   2.522864          0.0  \n",
       "4              2.5        5.721231    20.1      17.8   2.828986          0.0  \n",
       "..             ...             ...     ...       ...        ...          ...  \n",
       "64             2.5       28.483641    20.1      17.8  11.639030          0.0  \n",
       "65             2.5       29.101860    20.1      17.8  11.566535          0.0  \n",
       "66             2.5       29.852591    20.1      17.8  11.674604          0.0  \n",
       "67             2.5       29.830219    20.1      17.8  11.659656          0.0  \n",
       "68             2.5       30.347157    20.1      17.8  11.586691          0.0  \n",
       "\n",
       "[69 rows x 10 columns]"
      ]
     },
     "execution_count": 45,
     "metadata": {},
     "output_type": "execute_result"
    }
   ],
   "source": [
    "restored_pred_experimental_test_labels"
   ]
  },
  {
   "cell_type": "code",
   "execution_count": 46,
   "metadata": {},
   "outputs": [
    {
     "data": {
      "image/png": "[encoded data removed]",
      "text/plain": [
       "<Figure size 432x288 with 1 Axes>"
      ]
     },
     "metadata": {
      "needs_background": "light"
     },
     "output_type": "display_data"
    }
   ],
   "source": [
    "plt.plot(restored_pred_experimental_test_labels['Film_thickness'])\n",
    "plt.xlabel('Curve index')\n",
    "plt.ylabel('Thickness [A]')\n",
    "plt.show()"
   ]
  },
  {
   "cell_type": "code",
   "execution_count": 47,
   "metadata": {},
   "outputs": [
    {
     "name": "stderr",
     "output_type": "stream",
     "text": [
      "100%|████████████████████████████████████████████████████████████████████████████████| 69/69 [00:00<00:00, 9849.47it/s]"
     ]
    },
    {
     "name": "stdout",
     "output_type": "stream",
     "text": [
      "Finished 'simulate_reflectivity' in 0.0106 secs\n"
     ]
    },
    {
     "name": "stderr",
     "output_type": "stream",
     "text": [
      "\n"
     ]
    }
   ],
   "source": [
    "pred_experimental_reflectivity = gen.simulate_reflectivity(restored_pred_experimental_test_labels)"
   ]
  },
  {
   "cell_type": "code",
   "execution_count": 48,
   "metadata": {},
   "outputs": [
    {
     "data": {
      "image/png": "[encoded data removed]",
      "text/plain": [
       "<Figure size 432x288 with 1 Axes>"
      ]
     },
     "metadata": {
      "needs_background": "light"
     },
     "output_type": "display_data"
    },
    {
     "data": {
      "image/png": "[encoded data removed]",
      "text/plain": [
       "<Figure size 432x288 with 1 Axes>"
      ]
     },
     "metadata": {
      "needs_background": "light"
     },
     "output_type": "display_data"
    },
    {
     "data": {
      "image/png": "[encoded data removed]",
      "text/plain": [
       "<Figure size 432x288 with 1 Axes>"
      ]
     },
     "metadata": {
      "needs_background": "light"
     },
     "output_type": "display_data"
    }
   ],
   "source": [
    "plt.semilogy(q, experimental_reflectivity[30, :], 'o', label='experiment')\n",
    "plt.semilogy(q, pred_experimental_reflectivity[30, :], label='prediction')\n",
    "plt.legend()\n",
    "plt.xlabel('q [1/A]')\n",
    "plt.ylabel('Reflectivity [norm.]')\n",
    "plt.show()\n",
    "\n",
    "plt.semilogy(q, experimental_reflectivity[50, :], 'o', label='experiment')\n",
    "plt.semilogy(q, pred_experimental_reflectivity[50, :], label='prediction')\n",
    "plt.legend()\n",
    "plt.xlabel('q [1/A]')\n",
    "plt.ylabel('Reflectivity [norm.]')\n",
    "plt.show()\n",
    "\n",
    "plt.semilogy(q, experimental_reflectivity[-1, :], 'o', label='experiment')\n",
    "plt.semilogy(q, pred_experimental_reflectivity[-1, :], label='prediction')\n",
    "plt.legend()\n",
    "plt.xlabel('q [1/A]')\n",
    "plt.ylabel('Reflectivity [norm.]')\n",
    "plt.show()"
   ]
  }
 ],
 "metadata": {
  "kernelspec": {
   "display_name": "Python 3",
   "language": "python",
   "name": "python3"
  },
  "language_info": {
   "codemirror_mode": {
    "name": "ipython",
    "version": 3
   },
   "file_extension": ".py",
   "mimetype": "text/x-python",
   "name": "python",
   "nbconvert_exporter": "python",
   "pygments_lexer": "ipython3",
   "version": "3.7.6"
  }
 },
 "nbformat": 4,
 "nbformat_minor": 1
}
