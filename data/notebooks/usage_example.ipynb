{
 "cells": [
  {
   "cell_type": "markdown",
   "metadata": {},
   "source": [
    "# mlreflect usage example"
   ]
  },
  {
   "cell_type": "code",
   "execution_count": 1,
   "metadata": {
    "pycharm": {
     "is_executing": false
    }
   },
   "outputs": [],
   "source": [
    "%load_ext autoreload"
   ]
  },
  {
   "cell_type": "code",
   "execution_count": 46,
   "metadata": {
    "pycharm": {
     "is_executing": false
    }
   },
   "outputs": [
    {
     "name": "stdout",
     "output_type": "stream",
     "text": [
      "Tested with version: 0.11.0\n"
     ]
    }
   ],
   "source": [
    "import matplotlib.pyplot as plt\n",
    "import numpy as np\n",
    "\n",
    "import mlreflect\n",
    "\n",
    "from mlreflect import ReflectivityGenerator, InputPreprocessor, OutputPreprocessor, Prediction\n",
    "from mlreflect import h5_tools\n",
    "from mlreflect.models.simple_model import SimpleModel\n",
    "from mlreflect.models.model_helpers import create_save_directory\n",
    "\n",
    "print('Tested with version: ' + mlreflect.__version__)"
   ]
  },
  {
   "cell_type": "markdown",
   "metadata": {},
   "source": [
    "### Load experimental data\n",
    "In this case DIP_303K.txt contains columns of reflectivity data with the first column containing the q-values in units 1/A"
   ]
  },
  {
   "cell_type": "code",
   "execution_count": 3,
   "metadata": {
    "pycharm": {
     "is_executing": false
    }
   },
   "outputs": [],
   "source": [
    "experiment = np.loadtxt('DIP_303K.txt')"
   ]
  },
  {
   "cell_type": "code",
   "execution_count": 4,
   "metadata": {},
   "outputs": [],
   "source": [
    "q = experiment[9:, 0] # Extract q-values\n",
    "experimental_reflectivity = experiment[9:, 1:].T"
   ]
  },
  {
   "cell_type": "code",
   "execution_count": 5,
   "metadata": {},
   "outputs": [
    {
     "data": {
      "image/png": "[encoded data removed]",
      "text/plain": [
       "<Figure size 432x288 with 1 Axes>"
      ]
     },
     "metadata": {
      "needs_background": "light"
     },
     "output_type": "display_data"
    }
   ],
   "source": [
    "plt.semilogy(q, experimental_reflectivity[30, :], '.')\n",
    "plt.xlabel('q [1/A]')\n",
    "plt.ylabel('Reflectivity [norm.]')\n",
    "plt.show()"
   ]
  },
  {
   "cell_type": "markdown",
   "metadata": {},
   "source": [
    "### Generate random training data\n",
    "Choose parameter ranges for the randomly generated training data with mininimum and maximum values for each layer in descending order (the substrate last)."
   ]
  },
  {
   "cell_type": "code",
   "execution_count": 6,
   "metadata": {
    "pycharm": {
     "is_executing": false
    }
   },
   "outputs": [],
   "source": [
    "thickness_ranges = [(20.0, 300.0), (2.8, 30), (100.0, 100.0)] # in units A\n",
    "roughness_ranges = [(0.0, 60.0), (2.5, 2.5), (1.0, 1.0)] # in units A\n",
    "sld_ranges = [(1.0, 14.0), (17.8, 17.8), (20.1, 20.1)] # in units 1/A^2 * 10^-6"
   ]
  },
  {
   "cell_type": "code",
   "execution_count": 7,
   "metadata": {
    "pycharm": {
     "is_executing": false
    }
   },
   "outputs": [
    {
     "name": "stdout",
     "output_type": "stream",
     "text": [
      "Finished 'generate_random_labels' in 1.9674 secs\n"
     ]
    }
   ],
   "source": [
    "rg = ReflectivityGenerator(q, 0) # Initialize ReflectivityGenerator object with ambient SLD of 0 (air for X-ray)\n",
    "random_labels = rg.generate_random_labels(thickness_ranges, roughness_ranges, sld_ranges, 225000)"
   ]
  },
  {
   "cell_type": "code",
   "execution_count": 8,
   "metadata": {},
   "outputs": [
    {
     "data": {
      "text/html": [
       "<div>\n",
       "<style scoped>\n",
       "    .dataframe tbody tr th:only-of-type {\n",
       "        vertical-align: middle;\n",
       "    }\n",
       "\n",
       "    .dataframe tbody tr th {\n",
       "        vertical-align: top;\n",
       "    }\n",
       "\n",
       "    .dataframe thead th {\n",
       "        text-align: right;\n",
       "    }\n",
       "</style>\n",
       "<table border=\"1\" class=\"dataframe\">\n",
       "  <thead>\n",
       "    <tr style=\"text-align: right;\">\n",
       "      <th></th>\n",
       "      <th>layer3_thickness</th>\n",
       "      <th>layer2_thickness</th>\n",
       "      <th>layer1_thickness</th>\n",
       "      <th>layer3_roughness</th>\n",
       "      <th>layer2_roughness</th>\n",
       "      <th>layer1_roughness</th>\n",
       "      <th>layer3_sld</th>\n",
       "      <th>layer2_sld</th>\n",
       "      <th>layer1_sld</th>\n",
       "    </tr>\n",
       "  </thead>\n",
       "  <tbody>\n",
       "    <tr>\n",
       "      <td>0</td>\n",
       "      <td>42.236494</td>\n",
       "      <td>17.885805</td>\n",
       "      <td>100.0</td>\n",
       "      <td>11.365871</td>\n",
       "      <td>2.5</td>\n",
       "      <td>1.0</td>\n",
       "      <td>11.536541</td>\n",
       "      <td>17.8</td>\n",
       "      <td>20.1</td>\n",
       "    </tr>\n",
       "    <tr>\n",
       "      <td>1</td>\n",
       "      <td>276.695519</td>\n",
       "      <td>9.861399</td>\n",
       "      <td>100.0</td>\n",
       "      <td>51.311611</td>\n",
       "      <td>2.5</td>\n",
       "      <td>1.0</td>\n",
       "      <td>1.727505</td>\n",
       "      <td>17.8</td>\n",
       "      <td>20.1</td>\n",
       "    </tr>\n",
       "    <tr>\n",
       "      <td>2</td>\n",
       "      <td>130.523685</td>\n",
       "      <td>16.488524</td>\n",
       "      <td>100.0</td>\n",
       "      <td>51.984283</td>\n",
       "      <td>2.5</td>\n",
       "      <td>1.0</td>\n",
       "      <td>2.356929</td>\n",
       "      <td>17.8</td>\n",
       "      <td>20.1</td>\n",
       "    </tr>\n",
       "    <tr>\n",
       "      <td>3</td>\n",
       "      <td>123.747536</td>\n",
       "      <td>3.853654</td>\n",
       "      <td>100.0</td>\n",
       "      <td>10.280674</td>\n",
       "      <td>2.5</td>\n",
       "      <td>1.0</td>\n",
       "      <td>10.851176</td>\n",
       "      <td>17.8</td>\n",
       "      <td>20.1</td>\n",
       "    </tr>\n",
       "  </tbody>\n",
       "</table>\n",
       "</div>"
      ],
      "text/plain": [
       "   layer3_thickness  layer2_thickness  layer1_thickness  layer3_roughness  \\\n",
       "0         42.236494         17.885805             100.0         11.365871   \n",
       "1        276.695519          9.861399             100.0         51.311611   \n",
       "2        130.523685         16.488524             100.0         51.984283   \n",
       "3        123.747536          3.853654             100.0         10.280674   \n",
       "\n",
       "   layer2_roughness  layer1_roughness  layer3_sld  layer2_sld  layer1_sld  \n",
       "0               2.5               1.0   11.536541        17.8        20.1  \n",
       "1               2.5               1.0    1.727505        17.8        20.1  \n",
       "2               2.5               1.0    2.356929        17.8        20.1  \n",
       "3               2.5               1.0   10.851176        17.8        20.1  "
      ]
     },
     "execution_count": 8,
     "metadata": {},
     "output_type": "execute_result"
    }
   ],
   "source": [
    "random_labels[0:4] # Quick inspection if the generated parameters are as expected"
   ]
  },
  {
   "cell_type": "code",
   "execution_count": 9,
   "metadata": {},
   "outputs": [
    {
     "name": "stderr",
     "output_type": "stream",
     "text": [
      "100%|██████████| 225000/225000 [02:55<00:00, 1283.50it/s]"
     ]
    },
    {
     "name": "stdout",
     "output_type": "stream",
     "text": [
      "Finished 'simulate_reflectivity' in 175.6270 secs\n"
     ]
    },
    {
     "name": "stderr",
     "output_type": "stream",
     "text": [
      "\n"
     ]
    }
   ],
   "source": [
    "random_reflectivity = rg.simulate_reflectivity(random_labels) # Simulate reflectivity using the generated parameters"
   ]
  },
  {
   "cell_type": "code",
   "execution_count": 10,
   "metadata": {},
   "outputs": [
    {
     "data": {
      "image/png": "[encoded data removed]",
      "text/plain": [
       "<Figure size 432x288 with 1 Axes>"
      ]
     },
     "metadata": {
      "needs_background": "light"
     },
     "output_type": "display_data"
    }
   ],
   "source": [
    "plt.semilogy(q, random_reflectivity[0, :])\n",
    "plt.semilogy(q, random_reflectivity[1, :])\n",
    "plt.semilogy(q, random_reflectivity[2, :])\n",
    "plt.semilogy(q, random_reflectivity[3, :])\n",
    "plt.xlabel('q [1/A]')\n",
    "plt.ylabel('Reflectivity [norm.]')\n",
    "plt.show()"
   ]
  },
  {
   "cell_type": "code",
   "execution_count": 11,
   "metadata": {},
   "outputs": [
    {
     "name": "stderr",
     "output_type": "stream",
     "text": [
      "100%|██████████| 225000/225000 [01:11<00:00, 3130.55it/s]"
     ]
    },
    {
     "name": "stdout",
     "output_type": "stream",
     "text": [
      "Finished 'simulate_sld_profiles' in 71.8876 secs\n"
     ]
    },
    {
     "name": "stderr",
     "output_type": "stream",
     "text": [
      "\n"
     ]
    }
   ],
   "source": [
    "sld_profiles = rg.simulate_sld_profiles(random_labels) # Simulate SLD profile for visual inspection"
   ]
  },
  {
   "cell_type": "code",
   "execution_count": 12,
   "metadata": {},
   "outputs": [
    {
     "data": {
      "image/png": "[encoded data removed]",
      "text/plain": [
       "<Figure size 432x288 with 1 Axes>"
      ]
     },
     "metadata": {
      "needs_background": "light"
     },
     "output_type": "display_data"
    }
   ],
   "source": [
    "plt.plot(sld_profiles[0][0, :], sld_profiles[0][1, :])\n",
    "plt.plot(sld_profiles[1][0, :], sld_profiles[1][1, :])\n",
    "plt.plot(sld_profiles[2][0, :], sld_profiles[2][1, :])\n",
    "plt.plot(sld_profiles[3][0, :], sld_profiles[3][1, :])\n",
    "plt.xlabel('Height [A]')\n",
    "plt.ylabel('SLD [1/A^2 10^-6]')\n",
    "plt.show()"
   ]
  },
  {
   "cell_type": "markdown",
   "metadata": {},
   "source": [
    "Split labels and reflectivity into training, validation and testing sets. Since labels are saved as a pandas DataFrame, the index must be dropped."
   ]
  },
  {
   "cell_type": "code",
   "execution_count": 13,
   "metadata": {
    "pycharm": {
     "is_executing": false
    }
   },
   "outputs": [],
   "source": [
    "train_labels = random_labels[:200000].reset_index(drop=True)\n",
    "val_labels = random_labels[200000:220000].reset_index(drop=True)\n",
    "test_labels = random_labels[220000:].reset_index(drop=True)"
   ]
  },
  {
   "cell_type": "code",
   "execution_count": 14,
   "metadata": {
    "pycharm": {
     "is_executing": false
    }
   },
   "outputs": [],
   "source": [
    "train_reflectivity = random_reflectivity[:200000, :]\n",
    "val_reflectivity = random_reflectivity[200000:220000, :]\n",
    "test_reflectivity = random_reflectivity[220000:, :]"
   ]
  },
  {
   "cell_type": "markdown",
   "metadata": {},
   "source": [
    "Write data to an h5 file so it can be reused later."
   ]
  },
  {
   "cell_type": "code",
   "execution_count": 15,
   "metadata": {},
   "outputs": [],
   "source": [
    "create_save_directory('output/')\n",
    "h5_tools.save_data_as_h5('output/saved_training_data.h5', 'train', q, train_reflectivity, train_labels)\n",
    "h5_tools.save_data_as_h5('output/saved_training_data.h5', 'val', q, val_reflectivity, val_labels)\n",
    "h5_tools.save_data_as_h5('output/saved_training_data.h5', 'test', q, test_reflectivity, test_labels)"
   ]
  },
  {
   "cell_type": "code",
   "execution_count": 16,
   "metadata": {},
   "outputs": [],
   "source": [
    "# loaded_data = h5_tools.read_from_h5('saved_training_data.h5', 'train') # Data can be loaded like this"
   ]
  },
  {
   "cell_type": "markdown",
   "metadata": {},
   "source": [
    "### Train neural network"
   ]
  },
  {
   "cell_type": "markdown",
   "metadata": {},
   "source": [
    "Initialize InputPreprocessor object and add jobs to the preprocessing list."
   ]
  },
  {
   "cell_type": "code",
   "execution_count": 17,
   "metadata": {},
   "outputs": [],
   "source": [
    "ip = InputPreprocessor()\n",
    "\n",
    "ip.append_to_job_list(ip.log)\n",
    "ip.append_to_job_list(ip.standardize)"
   ]
  },
  {
   "cell_type": "markdown",
   "metadata": {},
   "source": [
    "Apply preprocessing to the input data."
   ]
  },
  {
   "cell_type": "code",
   "execution_count": 18,
   "metadata": {},
   "outputs": [],
   "source": [
    "train_reflectivity_pp = ip.apply_preprocessing(train_reflectivity)\n",
    "val_reflectivity_pp = ip.apply_preprocessing(val_reflectivity)\n",
    "test_reflectivity_pp = ip.apply_preprocessing(test_reflectivity)"
   ]
  },
  {
   "cell_type": "markdown",
   "metadata": {},
   "source": [
    "Initialize OutputPreprocessor object with the used label ranges and apply preprocessing to the labels."
   ]
  },
  {
   "cell_type": "code",
   "execution_count": 19,
   "metadata": {},
   "outputs": [],
   "source": [
    "op = OutputPreprocessor(thickness_ranges, roughness_ranges, sld_ranges)\n",
    "\n",
    "train_labels_pp = op.apply_preprocessing(train_labels)\n",
    "val_labels_pp = op.apply_preprocessing(val_labels)\n",
    "test_labels_pp = op.apply_preprocessing(test_labels)"
   ]
  },
  {
   "cell_type": "markdown",
   "metadata": {},
   "source": [
    "Train the neural network using the model defined in SimpleModel and save results in 'output/simple_model/'."
   ]
  },
  {
   "cell_type": "code",
   "execution_count": 20,
   "metadata": {
    "scrolled": true
   },
   "outputs": [
    {
     "name": "stdout",
     "output_type": "stream",
     "text": [
      "WARNING:tensorflow:From /home/greco/anaconda3/lib/python3.7/site-packages/keras/backend/tensorflow_backend.py:74: The name tf.get_default_graph is deprecated. Please use tf.compat.v1.get_default_graph instead.\n",
      "\n",
      "WARNING:tensorflow:From /home/greco/anaconda3/lib/python3.7/site-packages/keras/backend/tensorflow_backend.py:517: The name tf.placeholder is deprecated. Please use tf.compat.v1.placeholder instead.\n",
      "\n",
      "WARNING:tensorflow:From /home/greco/anaconda3/lib/python3.7/site-packages/keras/backend/tensorflow_backend.py:4138: The name tf.random_uniform is deprecated. Please use tf.random.uniform instead.\n",
      "\n",
      "_________________________________________________________________\n",
      "Layer (type)                 Output Shape              Param #   \n",
      "=================================================================\n",
      "dense_1 (Dense)              (None, 400)               17600     \n",
      "_________________________________________________________________\n",
      "activation_1 (Activation)    (None, 400)               0         \n",
      "_________________________________________________________________\n",
      "dense_2 (Dense)              (None, 800)               320800    \n",
      "_________________________________________________________________\n",
      "activation_2 (Activation)    (None, 800)               0         \n",
      "_________________________________________________________________\n",
      "dense_3 (Dense)              (None, 400)               320400    \n",
      "_________________________________________________________________\n",
      "activation_3 (Activation)    (None, 400)               0         \n",
      "_________________________________________________________________\n",
      "dense_4 (Dense)              (None, 300)               120300    \n",
      "_________________________________________________________________\n",
      "activation_4 (Activation)    (None, 300)               0         \n",
      "_________________________________________________________________\n",
      "dense_5 (Dense)              (None, 200)               60200     \n",
      "_________________________________________________________________\n",
      "activation_5 (Activation)    (None, 200)               0         \n",
      "_________________________________________________________________\n",
      "dense_6 (Dense)              (None, 100)               20100     \n",
      "_________________________________________________________________\n",
      "activation_6 (Activation)    (None, 100)               0         \n",
      "_________________________________________________________________\n",
      "dense_7 (Dense)              (None, 4)                 404       \n",
      "_________________________________________________________________\n",
      "activation_7 (Activation)    (None, 4)                 0         \n",
      "=================================================================\n",
      "Total params: 859,804\n",
      "Trainable params: 859,804\n",
      "Non-trainable params: 0\n",
      "_________________________________________________________________\n",
      "WARNING:tensorflow:From /home/greco/anaconda3/lib/python3.7/site-packages/keras/optimizers.py:790: The name tf.train.Optimizer is deprecated. Please use tf.compat.v1.train.Optimizer instead.\n",
      "\n",
      "WARNING:tensorflow:From /home/greco/anaconda3/lib/python3.7/site-packages/keras/backend/tensorflow_backend.py:986: The name tf.assign_add is deprecated. Please use tf.compat.v1.assign_add instead.\n",
      "\n",
      "WARNING:tensorflow:From /home/greco/anaconda3/lib/python3.7/site-packages/keras/backend/tensorflow_backend.py:973: The name tf.assign is deprecated. Please use tf.compat.v1.assign instead.\n",
      "\n",
      "Train on 200000 samples, validate on 20000 samples\n",
      "WARNING:tensorflow:From /home/greco/anaconda3/lib/python3.7/site-packages/keras/callbacks.py:850: The name tf.summary.merge_all is deprecated. Please use tf.compat.v1.summary.merge_all instead.\n",
      "\n",
      "WARNING:tensorflow:From /home/greco/anaconda3/lib/python3.7/site-packages/keras/callbacks.py:853: The name tf.summary.FileWriter is deprecated. Please use tf.compat.v1.summary.FileWriter instead.\n",
      "\n",
      "Epoch 1/60\n",
      "200000/200000 [==============================] - 4s 18us/step - loss: 0.0846 - val_loss: 0.0057\n",
      "\n",
      "Epoch 00001: val_loss improved from inf to 0.00570, saving model to output/simple_model/models/2020-01-16-184630.h5\n",
      "Epoch 2/60\n",
      "200000/200000 [==============================] - 4s 20us/step - loss: 0.0046 - val_loss: 0.0035\n",
      "\n",
      "Epoch 00002: val_loss improved from 0.00570 to 0.00355, saving model to output/simple_model/models/2020-01-16-184630.h5\n",
      "Epoch 3/60\n",
      "200000/200000 [==============================] - 3s 16us/step - loss: 0.0034 - val_loss: 0.0042\n",
      "\n",
      "Epoch 00003: val_loss did not improve from 0.00355\n",
      "Epoch 4/60\n",
      "200000/200000 [==============================] - 3s 13us/step - loss: 0.0035 - val_loss: 0.0032\n",
      "\n",
      "Epoch 00004: val_loss improved from 0.00355 to 0.00324, saving model to output/simple_model/models/2020-01-16-184630.h5\n",
      "Epoch 5/60\n",
      "200000/200000 [==============================] - 3s 13us/step - loss: 0.0033 - val_loss: 0.0039\n",
      "\n",
      "Epoch 00005: val_loss did not improve from 0.00324\n",
      "Epoch 6/60\n",
      "200000/200000 [==============================] - 3s 17us/step - loss: 0.0031 - val_loss: 0.0037\n",
      "\n",
      "Epoch 00006: val_loss did not improve from 0.00324\n",
      "Epoch 7/60\n",
      "200000/200000 [==============================] - 4s 21us/step - loss: 0.0027 - val_loss: 0.0040\n",
      "\n",
      "Epoch 00007: val_loss did not improve from 0.00324\n",
      "Epoch 8/60\n",
      "200000/200000 [==============================] - 5s 24us/step - loss: 0.0028 - val_loss: 0.0029\n",
      "\n",
      "Epoch 00008: val_loss improved from 0.00324 to 0.00285, saving model to output/simple_model/models/2020-01-16-184630.h5\n",
      "Epoch 9/60\n",
      "200000/200000 [==============================] - 5s 27us/step - loss: 0.0026 - val_loss: 0.0025\n",
      "\n",
      "Epoch 00009: val_loss improved from 0.00285 to 0.00253, saving model to output/simple_model/models/2020-01-16-184630.h5\n",
      "Epoch 10/60\n",
      "200000/200000 [==============================] - 3s 17us/step - loss: 0.0026 - val_loss: 0.0029\n",
      "\n",
      "Epoch 00010: val_loss did not improve from 0.00253\n",
      "Epoch 11/60\n",
      "200000/200000 [==============================] - 5s 26us/step - loss: 0.0026 - val_loss: 0.0020\n",
      "\n",
      "Epoch 00011: val_loss improved from 0.00253 to 0.00204, saving model to output/simple_model/models/2020-01-16-184630.h5\n",
      "Epoch 12/60\n",
      "200000/200000 [==============================] - 4s 18us/step - loss: 0.0023 - val_loss: 0.0030\n",
      "\n",
      "Epoch 00012: val_loss did not improve from 0.00204\n",
      "Epoch 13/60\n",
      "200000/200000 [==============================] - 4s 19us/step - loss: 0.0025 - val_loss: 0.0028\n",
      "\n",
      "Epoch 00013: val_loss did not improve from 0.00204\n",
      "Epoch 14/60\n",
      "200000/200000 [==============================] - 5s 24us/step - loss: 0.0023 - val_loss: 0.0022\n",
      "\n",
      "Epoch 00014: val_loss did not improve from 0.00204\n",
      "Epoch 15/60\n",
      "200000/200000 [==============================] - 7s 33us/step - loss: 0.0022 - val_loss: 0.0020\n",
      "\n",
      "Epoch 00015: val_loss improved from 0.00204 to 0.00204, saving model to output/simple_model/models/2020-01-16-184630.h5\n",
      "Epoch 16/60\n",
      "200000/200000 [==============================] - 4s 21us/step - loss: 0.0024 - val_loss: 0.0036\n",
      "\n",
      "Epoch 00016: val_loss did not improve from 0.00204\n",
      "Epoch 17/60\n",
      "200000/200000 [==============================] - 5s 25us/step - loss: 0.0022 - val_loss: 0.0019\n",
      "\n",
      "Epoch 00017: val_loss improved from 0.00204 to 0.00192, saving model to output/simple_model/models/2020-01-16-184630.h5\n",
      "Epoch 18/60\n",
      "200000/200000 [==============================] - 4s 20us/step - loss: 0.0023 - val_loss: 0.0019\n",
      "\n",
      "Epoch 00018: val_loss improved from 0.00192 to 0.00190, saving model to output/simple_model/models/2020-01-16-184630.h5\n",
      "Epoch 19/60\n",
      "200000/200000 [==============================] - 3s 16us/step - loss: 0.0021 - val_loss: 0.0040\n",
      "\n",
      "Epoch 00019: val_loss did not improve from 0.00190\n",
      "Epoch 20/60\n",
      "200000/200000 [==============================] - 4s 19us/step - loss: 0.0021 - val_loss: 0.0015\n",
      "\n",
      "Epoch 00020: val_loss improved from 0.00190 to 0.00155, saving model to output/simple_model/models/2020-01-16-184630.h5\n",
      "Epoch 21/60\n",
      "200000/200000 [==============================] - 4s 21us/step - loss: 0.0020 - val_loss: 0.0026\n",
      "\n",
      "Epoch 00021: val_loss did not improve from 0.00155\n",
      "Epoch 22/60\n",
      "200000/200000 [==============================] - 4s 22us/step - loss: 0.0022 - val_loss: 0.0023\n",
      "\n",
      "Epoch 00022: val_loss did not improve from 0.00155\n",
      "Epoch 23/60\n",
      "200000/200000 [==============================] - 5s 23us/step - loss: 0.0020 - val_loss: 0.0018\n",
      "\n",
      "Epoch 00023: val_loss did not improve from 0.00155\n",
      "Epoch 24/60\n"
     ]
    },
    {
     "name": "stdout",
     "output_type": "stream",
     "text": [
      "200000/200000 [==============================] - 4s 19us/step - loss: 0.0020 - val_loss: 0.0025\n",
      "\n",
      "Epoch 00024: val_loss did not improve from 0.00155\n",
      "Epoch 25/60\n",
      "200000/200000 [==============================] - 4s 20us/step - loss: 0.0021 - val_loss: 0.0018\n",
      "\n",
      "Epoch 00025: val_loss did not improve from 0.00155\n",
      "Epoch 26/60\n",
      "200000/200000 [==============================] - 3s 17us/step - loss: 0.0019 - val_loss: 0.0016\n",
      "\n",
      "Epoch 00026: val_loss did not improve from 0.00155\n",
      "Epoch 27/60\n",
      "200000/200000 [==============================] - 4s 18us/step - loss: 0.0020 - val_loss: 0.0016\n",
      "\n",
      "Epoch 00027: val_loss did not improve from 0.00155\n",
      "Epoch 28/60\n",
      "200000/200000 [==============================] - 3s 14us/step - loss: 0.0019 - val_loss: 0.0015\n",
      "\n",
      "Epoch 00028: val_loss improved from 0.00155 to 0.00152, saving model to output/simple_model/models/2020-01-16-184630.h5\n",
      "Epoch 29/60\n",
      "200000/200000 [==============================] - 4s 19us/step - loss: 0.0019 - val_loss: 0.0016\n",
      "\n",
      "Epoch 00029: val_loss did not improve from 0.00152\n",
      "Epoch 30/60\n",
      "200000/200000 [==============================] - 5s 24us/step - loss: 0.0019 - val_loss: 0.0055\n",
      "\n",
      "Epoch 00030: val_loss did not improve from 0.00152\n",
      "Epoch 31/60\n",
      "200000/200000 [==============================] - 3s 17us/step - loss: 0.0013 - val_loss: 0.0011\n",
      "\n",
      "Epoch 00031: val_loss improved from 0.00152 to 0.00108, saving model to output/simple_model/models/2020-01-16-184630.h5\n",
      "Epoch 32/60\n",
      "200000/200000 [==============================] - 3s 17us/step - loss: 0.0013 - val_loss: 0.0011\n",
      "\n",
      "Epoch 00032: val_loss did not improve from 0.00108\n",
      "Epoch 33/60\n",
      "200000/200000 [==============================] - 5s 26us/step - loss: 0.0012 - val_loss: 0.0015\n",
      "\n",
      "Epoch 00033: val_loss did not improve from 0.00108\n",
      "Epoch 34/60\n",
      "200000/200000 [==============================] - 4s 18us/step - loss: 0.0013 - val_loss: 0.0019\n",
      "\n",
      "Epoch 00034: val_loss did not improve from 0.00108\n",
      "Epoch 35/60\n",
      "200000/200000 [==============================] - 3s 15us/step - loss: 0.0012 - val_loss: 0.0017\n",
      "\n",
      "Epoch 00035: val_loss did not improve from 0.00108\n",
      "Epoch 36/60\n",
      "200000/200000 [==============================] - 4s 20us/step - loss: 0.0013 - val_loss: 0.0014\n",
      "\n",
      "Epoch 00036: val_loss did not improve from 0.00108\n",
      "Epoch 37/60\n",
      "200000/200000 [==============================] - 4s 20us/step - loss: 0.0012 - val_loss: 0.0016\n",
      "\n",
      "Epoch 00037: val_loss did not improve from 0.00108\n",
      "Epoch 38/60\n",
      "200000/200000 [==============================] - 4s 20us/step - loss: 0.0012 - val_loss: 0.0011\n",
      "\n",
      "Epoch 00038: val_loss did not improve from 0.00108\n",
      "Epoch 39/60\n",
      "200000/200000 [==============================] - 4s 20us/step - loss: 0.0012 - val_loss: 0.0012\n",
      "\n",
      "Epoch 00039: val_loss did not improve from 0.00108\n",
      "Epoch 40/60\n",
      "200000/200000 [==============================] - 5s 23us/step - loss: 0.0012 - val_loss: 0.0011\n",
      "\n",
      "Epoch 00040: val_loss improved from 0.00108 to 0.00106, saving model to output/simple_model/models/2020-01-16-184630.h5\n",
      "Epoch 41/60\n",
      "200000/200000 [==============================] - 3s 14us/step - loss: 0.0013 - val_loss: 0.0021\n",
      "\n",
      "Epoch 00041: val_loss did not improve from 0.00106\n",
      "Epoch 42/60\n",
      "200000/200000 [==============================] - 4s 19us/step - loss: 8.8786e-04 - val_loss: 8.9567e-04\n",
      "\n",
      "Epoch 00042: val_loss improved from 0.00106 to 0.00090, saving model to output/simple_model/models/2020-01-16-184630.h5\n",
      "Epoch 43/60\n",
      "200000/200000 [==============================] - 3s 16us/step - loss: 8.0074e-04 - val_loss: 0.0013\n",
      "\n",
      "Epoch 00043: val_loss did not improve from 0.00090\n",
      "Epoch 44/60\n",
      "200000/200000 [==============================] - 4s 20us/step - loss: 8.8455e-04 - val_loss: 0.0011\n",
      "\n",
      "Epoch 00044: val_loss did not improve from 0.00090\n",
      "Epoch 45/60\n",
      "200000/200000 [==============================] - 4s 19us/step - loss: 8.2416e-04 - val_loss: 8.5203e-04\n",
      "\n",
      "Epoch 00045: val_loss improved from 0.00090 to 0.00085, saving model to output/simple_model/models/2020-01-16-184630.h5\n",
      "Epoch 46/60\n",
      "200000/200000 [==============================] - 3s 13us/step - loss: 8.2342e-04 - val_loss: 9.9602e-04\n",
      "\n",
      "Epoch 00046: val_loss did not improve from 0.00085\n",
      "Epoch 47/60\n",
      "200000/200000 [==============================] - 3s 15us/step - loss: 8.4428e-04 - val_loss: 8.4067e-04\n",
      "\n",
      "Epoch 00047: val_loss improved from 0.00085 to 0.00084, saving model to output/simple_model/models/2020-01-16-184630.h5\n",
      "Epoch 48/60\n",
      "200000/200000 [==============================] - 4s 18us/step - loss: 8.4498e-04 - val_loss: 9.4698e-04\n",
      "\n",
      "Epoch 00048: val_loss did not improve from 0.00084\n",
      "Epoch 49/60\n",
      "200000/200000 [==============================] - 5s 24us/step - loss: 7.9848e-04 - val_loss: 7.9712e-04\n",
      "\n",
      "Epoch 00049: val_loss improved from 0.00084 to 0.00080, saving model to output/simple_model/models/2020-01-16-184630.h5\n",
      "Epoch 50/60\n",
      "200000/200000 [==============================] - 3s 15us/step - loss: 7.5668e-04 - val_loss: 7.8290e-04\n",
      "\n",
      "Epoch 00050: val_loss improved from 0.00080 to 0.00078, saving model to output/simple_model/models/2020-01-16-184630.h5\n",
      "Epoch 51/60\n",
      "200000/200000 [==============================] - 4s 19us/step - loss: 8.2889e-04 - val_loss: 0.0012\n",
      "\n",
      "Epoch 00051: val_loss did not improve from 0.00078\n",
      "Epoch 52/60\n",
      "200000/200000 [==============================] - 3s 17us/step - loss: 7.9418e-04 - val_loss: 9.8565e-04\n",
      "\n",
      "Epoch 00052: val_loss did not improve from 0.00078\n",
      "Epoch 53/60\n",
      "200000/200000 [==============================] - 4s 20us/step - loss: 8.0016e-04 - val_loss: 0.0012\n",
      "\n",
      "Epoch 00053: val_loss did not improve from 0.00078\n",
      "Epoch 54/60\n",
      "200000/200000 [==============================] - 3s 15us/step - loss: 8.0886e-04 - val_loss: 7.5069e-04\n",
      "\n",
      "Epoch 00054: val_loss improved from 0.00078 to 0.00075, saving model to output/simple_model/models/2020-01-16-184630.h5\n",
      "Epoch 55/60\n",
      "200000/200000 [==============================] - 3s 13us/step - loss: 8.1233e-04 - val_loss: 0.0010\n",
      "\n",
      "Epoch 00055: val_loss did not improve from 0.00075\n",
      "Epoch 56/60\n",
      "200000/200000 [==============================] - 2s 12us/step - loss: 8.0458e-04 - val_loss: 9.2792e-04\n",
      "\n",
      "Epoch 00056: val_loss did not improve from 0.00075\n",
      "Epoch 57/60\n",
      "200000/200000 [==============================] - 3s 14us/step - loss: 7.9151e-04 - val_loss: 8.3677e-04\n",
      "\n",
      "Epoch 00057: val_loss did not improve from 0.00075\n",
      "Epoch 58/60\n",
      "200000/200000 [==============================] - 3s 15us/step - loss: 7.8963e-04 - val_loss: 7.8201e-04\n",
      "\n",
      "Epoch 00058: val_loss did not improve from 0.00075\n",
      "Epoch 59/60\n",
      "200000/200000 [==============================] - 2s 12us/step - loss: 7.7286e-04 - val_loss: 8.3650e-04\n",
      "\n",
      "Epoch 00059: val_loss did not improve from 0.00075\n",
      "Epoch 60/60\n",
      "200000/200000 [==============================] - 3s 17us/step - loss: 7.4309e-04 - val_loss: 8.3411e-04\n",
      "\n",
      "Epoch 00060: val_loss did not improve from 0.00075\n"
     ]
    }
   ],
   "source": [
    "simple_model = SimpleModel('output/simple_model/', train_reflectivity_pp.shape[1], train_labels_pp.shape[1])\n",
    "hist = simple_model.train(train_reflectivity_pp, train_labels_pp, val_reflectivity_pp, val_labels_pp)"
   ]
  },
  {
   "cell_type": "markdown",
   "metadata": {},
   "source": [
    "Inspect training and validation loss."
   ]
  },
  {
   "cell_type": "code",
   "execution_count": 21,
   "metadata": {},
   "outputs": [
    {
     "data": {
      "image/png": "[encoded data removed]",
      "text/plain": [
       "<Figure size 432x288 with 1 Axes>"
      ]
     },
     "metadata": {
      "needs_background": "light"
     },
     "output_type": "display_data"
    },
    {
     "data": {
      "image/png": "[encoded data removed]",
      "text/plain": [
       "<Figure size 432x288 with 1 Axes>"
      ]
     },
     "metadata": {
      "needs_background": "light"
     },
     "output_type": "display_data"
    }
   ],
   "source": [
    "plt.plot(hist.history['loss'], label='loss')\n",
    "plt.plot(hist.history['val_loss'], label='val_loss')\n",
    "plt.legend()\n",
    "plt.show()\n",
    "plt.semilogy(hist.history['loss'], label='loss')\n",
    "plt.semilogy(hist.history['val_loss'], label='val_loss')\n",
    "plt.legend()\n",
    "plt.show()"
   ]
  },
  {
   "cell_type": "markdown",
   "metadata": {},
   "source": [
    "### Test on simulated data"
   ]
  },
  {
   "cell_type": "markdown",
   "metadata": {},
   "source": [
    "Initialize the Prediction object for the given model and labels."
   ]
  },
  {
   "cell_type": "code",
   "execution_count": 22,
   "metadata": {},
   "outputs": [],
   "source": [
    "timestamp = '2020-01-16-184630' # Timestamp needs to be adjusted to the one of the trained model\n",
    "pr = Prediction('output/simple_model/models/' + timestamp + '.h5', op.used_label_names)"
   ]
  },
  {
   "cell_type": "code",
   "execution_count": 23,
   "metadata": {},
   "outputs": [
    {
     "name": "stdout",
     "output_type": "stream",
     "text": [
      "Finished 'predict_labels' in 0.2078 secs\n"
     ]
    }
   ],
   "source": [
    "pred_test_labels = pr.predict_labels(test_reflectivity_pp) # Predict labels for simulated test data"
   ]
  },
  {
   "cell_type": "code",
   "execution_count": 24,
   "metadata": {},
   "outputs": [
    {
     "data": {
      "text/html": [
       "<div>\n",
       "<style scoped>\n",
       "    .dataframe tbody tr th:only-of-type {\n",
       "        vertical-align: middle;\n",
       "    }\n",
       "\n",
       "    .dataframe tbody tr th {\n",
       "        vertical-align: top;\n",
       "    }\n",
       "\n",
       "    .dataframe thead th {\n",
       "        text-align: right;\n",
       "    }\n",
       "</style>\n",
       "<table border=\"1\" class=\"dataframe\">\n",
       "  <thead>\n",
       "    <tr style=\"text-align: right;\">\n",
       "      <th></th>\n",
       "      <th>layer3_thickness</th>\n",
       "      <th>layer2_thickness</th>\n",
       "      <th>layer3_roughness</th>\n",
       "      <th>layer3_sld</th>\n",
       "    </tr>\n",
       "  </thead>\n",
       "  <tbody>\n",
       "    <tr>\n",
       "      <td>0</td>\n",
       "      <td>0.036143</td>\n",
       "      <td>0.960918</td>\n",
       "      <td>0.239258</td>\n",
       "      <td>0.014389</td>\n",
       "    </tr>\n",
       "    <tr>\n",
       "      <td>1</td>\n",
       "      <td>0.890387</td>\n",
       "      <td>0.678420</td>\n",
       "      <td>0.892867</td>\n",
       "      <td>0.194181</td>\n",
       "    </tr>\n",
       "    <tr>\n",
       "      <td>2</td>\n",
       "      <td>0.560571</td>\n",
       "      <td>0.517828</td>\n",
       "      <td>0.921494</td>\n",
       "      <td>0.347244</td>\n",
       "    </tr>\n",
       "    <tr>\n",
       "      <td>3</td>\n",
       "      <td>0.872089</td>\n",
       "      <td>0.227100</td>\n",
       "      <td>0.823450</td>\n",
       "      <td>0.921405</td>\n",
       "    </tr>\n",
       "    <tr>\n",
       "      <td>4</td>\n",
       "      <td>0.724488</td>\n",
       "      <td>0.849462</td>\n",
       "      <td>0.290918</td>\n",
       "      <td>0.272867</td>\n",
       "    </tr>\n",
       "    <tr>\n",
       "      <td>...</td>\n",
       "      <td>...</td>\n",
       "      <td>...</td>\n",
       "      <td>...</td>\n",
       "      <td>...</td>\n",
       "    </tr>\n",
       "    <tr>\n",
       "      <td>4995</td>\n",
       "      <td>0.461156</td>\n",
       "      <td>0.138857</td>\n",
       "      <td>0.742163</td>\n",
       "      <td>0.711351</td>\n",
       "    </tr>\n",
       "    <tr>\n",
       "      <td>4996</td>\n",
       "      <td>0.342588</td>\n",
       "      <td>0.911551</td>\n",
       "      <td>0.165002</td>\n",
       "      <td>0.324532</td>\n",
       "    </tr>\n",
       "    <tr>\n",
       "      <td>4997</td>\n",
       "      <td>0.925905</td>\n",
       "      <td>0.565407</td>\n",
       "      <td>0.003747</td>\n",
       "      <td>0.479503</td>\n",
       "    </tr>\n",
       "    <tr>\n",
       "      <td>4998</td>\n",
       "      <td>0.995561</td>\n",
       "      <td>0.367523</td>\n",
       "      <td>0.086612</td>\n",
       "      <td>0.049352</td>\n",
       "    </tr>\n",
       "    <tr>\n",
       "      <td>4999</td>\n",
       "      <td>0.324371</td>\n",
       "      <td>0.871740</td>\n",
       "      <td>0.159627</td>\n",
       "      <td>0.019207</td>\n",
       "    </tr>\n",
       "  </tbody>\n",
       "</table>\n",
       "<p>5000 rows × 4 columns</p>\n",
       "</div>"
      ],
      "text/plain": [
       "      layer3_thickness  layer2_thickness  layer3_roughness  layer3_sld\n",
       "0             0.036143          0.960918          0.239258    0.014389\n",
       "1             0.890387          0.678420          0.892867    0.194181\n",
       "2             0.560571          0.517828          0.921494    0.347244\n",
       "3             0.872089          0.227100          0.823450    0.921405\n",
       "4             0.724488          0.849462          0.290918    0.272867\n",
       "...                ...               ...               ...         ...\n",
       "4995          0.461156          0.138857          0.742163    0.711351\n",
       "4996          0.342588          0.911551          0.165002    0.324532\n",
       "4997          0.925905          0.565407          0.003747    0.479503\n",
       "4998          0.995561          0.367523          0.086612    0.049352\n",
       "4999          0.324371          0.871740          0.159627    0.019207\n",
       "\n",
       "[5000 rows x 4 columns]"
      ]
     },
     "execution_count": 24,
     "metadata": {},
     "output_type": "execute_result"
    }
   ],
   "source": [
    "test_labels_pp # Inspect previously generated and preprocessed test labels"
   ]
  },
  {
   "cell_type": "code",
   "execution_count": 25,
   "metadata": {},
   "outputs": [
    {
     "data": {
      "text/html": [
       "<div>\n",
       "<style scoped>\n",
       "    .dataframe tbody tr th:only-of-type {\n",
       "        vertical-align: middle;\n",
       "    }\n",
       "\n",
       "    .dataframe tbody tr th {\n",
       "        vertical-align: top;\n",
       "    }\n",
       "\n",
       "    .dataframe thead th {\n",
       "        text-align: right;\n",
       "    }\n",
       "</style>\n",
       "<table border=\"1\" class=\"dataframe\">\n",
       "  <thead>\n",
       "    <tr style=\"text-align: right;\">\n",
       "      <th></th>\n",
       "      <th>layer3_thickness</th>\n",
       "      <th>layer2_thickness</th>\n",
       "      <th>layer3_roughness</th>\n",
       "      <th>layer3_sld</th>\n",
       "    </tr>\n",
       "  </thead>\n",
       "  <tbody>\n",
       "    <tr>\n",
       "      <td>0</td>\n",
       "      <td>0.043043</td>\n",
       "      <td>0.922291</td>\n",
       "      <td>0.154322</td>\n",
       "      <td>0.003834</td>\n",
       "    </tr>\n",
       "    <tr>\n",
       "      <td>1</td>\n",
       "      <td>0.895771</td>\n",
       "      <td>0.684641</td>\n",
       "      <td>0.898459</td>\n",
       "      <td>0.199704</td>\n",
       "    </tr>\n",
       "    <tr>\n",
       "      <td>2</td>\n",
       "      <td>0.564669</td>\n",
       "      <td>0.514683</td>\n",
       "      <td>0.932708</td>\n",
       "      <td>0.351214</td>\n",
       "    </tr>\n",
       "    <tr>\n",
       "      <td>3</td>\n",
       "      <td>0.871919</td>\n",
       "      <td>0.221446</td>\n",
       "      <td>0.823764</td>\n",
       "      <td>0.924515</td>\n",
       "    </tr>\n",
       "    <tr>\n",
       "      <td>4</td>\n",
       "      <td>0.720378</td>\n",
       "      <td>0.849072</td>\n",
       "      <td>0.288359</td>\n",
       "      <td>0.273701</td>\n",
       "    </tr>\n",
       "    <tr>\n",
       "      <td>...</td>\n",
       "      <td>...</td>\n",
       "      <td>...</td>\n",
       "      <td>...</td>\n",
       "      <td>...</td>\n",
       "    </tr>\n",
       "    <tr>\n",
       "      <td>4995</td>\n",
       "      <td>0.462465</td>\n",
       "      <td>0.142933</td>\n",
       "      <td>0.741863</td>\n",
       "      <td>0.714137</td>\n",
       "    </tr>\n",
       "    <tr>\n",
       "      <td>4996</td>\n",
       "      <td>0.334740</td>\n",
       "      <td>0.896851</td>\n",
       "      <td>0.157527</td>\n",
       "      <td>0.310599</td>\n",
       "    </tr>\n",
       "    <tr>\n",
       "      <td>4997</td>\n",
       "      <td>0.923050</td>\n",
       "      <td>0.563348</td>\n",
       "      <td>0.014506</td>\n",
       "      <td>0.477163</td>\n",
       "    </tr>\n",
       "    <tr>\n",
       "      <td>4998</td>\n",
       "      <td>0.995915</td>\n",
       "      <td>0.363155</td>\n",
       "      <td>0.095723</td>\n",
       "      <td>0.052008</td>\n",
       "    </tr>\n",
       "    <tr>\n",
       "      <td>4999</td>\n",
       "      <td>0.325946</td>\n",
       "      <td>0.876976</td>\n",
       "      <td>0.168289</td>\n",
       "      <td>0.018300</td>\n",
       "    </tr>\n",
       "  </tbody>\n",
       "</table>\n",
       "<p>5000 rows × 4 columns</p>\n",
       "</div>"
      ],
      "text/plain": [
       "      layer3_thickness  layer2_thickness  layer3_roughness  layer3_sld\n",
       "0             0.043043          0.922291          0.154322    0.003834\n",
       "1             0.895771          0.684641          0.898459    0.199704\n",
       "2             0.564669          0.514683          0.932708    0.351214\n",
       "3             0.871919          0.221446          0.823764    0.924515\n",
       "4             0.720378          0.849072          0.288359    0.273701\n",
       "...                ...               ...               ...         ...\n",
       "4995          0.462465          0.142933          0.741863    0.714137\n",
       "4996          0.334740          0.896851          0.157527    0.310599\n",
       "4997          0.923050          0.563348          0.014506    0.477163\n",
       "4998          0.995915          0.363155          0.095723    0.052008\n",
       "4999          0.325946          0.876976          0.168289    0.018300\n",
       "\n",
       "[5000 rows x 4 columns]"
      ]
     },
     "execution_count": 25,
     "metadata": {},
     "output_type": "execute_result"
    }
   ],
   "source": [
    "pred_test_labels # Inspect predicted test labels"
   ]
  },
  {
   "cell_type": "code",
   "execution_count": 26,
   "metadata": {},
   "outputs": [
    {
     "data": {
      "text/html": [
       "<div>\n",
       "<style scoped>\n",
       "    .dataframe tbody tr th:only-of-type {\n",
       "        vertical-align: middle;\n",
       "    }\n",
       "\n",
       "    .dataframe tbody tr th {\n",
       "        vertical-align: top;\n",
       "    }\n",
       "\n",
       "    .dataframe thead th {\n",
       "        text-align: right;\n",
       "    }\n",
       "</style>\n",
       "<table border=\"1\" class=\"dataframe\">\n",
       "  <thead>\n",
       "    <tr style=\"text-align: right;\">\n",
       "      <th></th>\n",
       "      <th>layer3_thickness</th>\n",
       "      <th>layer2_thickness</th>\n",
       "      <th>layer3_roughness</th>\n",
       "      <th>layer3_sld</th>\n",
       "    </tr>\n",
       "  </thead>\n",
       "  <tbody>\n",
       "    <tr>\n",
       "      <td>0</td>\n",
       "      <td>0.006900</td>\n",
       "      <td>-0.038627</td>\n",
       "      <td>-0.084936</td>\n",
       "      <td>-0.010555</td>\n",
       "    </tr>\n",
       "    <tr>\n",
       "      <td>1</td>\n",
       "      <td>0.005384</td>\n",
       "      <td>0.006221</td>\n",
       "      <td>0.005592</td>\n",
       "      <td>0.005523</td>\n",
       "    </tr>\n",
       "    <tr>\n",
       "      <td>2</td>\n",
       "      <td>0.004097</td>\n",
       "      <td>-0.003145</td>\n",
       "      <td>0.011213</td>\n",
       "      <td>0.003970</td>\n",
       "    </tr>\n",
       "    <tr>\n",
       "      <td>3</td>\n",
       "      <td>-0.000170</td>\n",
       "      <td>-0.005654</td>\n",
       "      <td>0.000314</td>\n",
       "      <td>0.003110</td>\n",
       "    </tr>\n",
       "    <tr>\n",
       "      <td>4</td>\n",
       "      <td>-0.004110</td>\n",
       "      <td>-0.000390</td>\n",
       "      <td>-0.002559</td>\n",
       "      <td>0.000834</td>\n",
       "    </tr>\n",
       "    <tr>\n",
       "      <td>...</td>\n",
       "      <td>...</td>\n",
       "      <td>...</td>\n",
       "      <td>...</td>\n",
       "      <td>...</td>\n",
       "    </tr>\n",
       "    <tr>\n",
       "      <td>4995</td>\n",
       "      <td>0.001308</td>\n",
       "      <td>0.004076</td>\n",
       "      <td>-0.000300</td>\n",
       "      <td>0.002786</td>\n",
       "    </tr>\n",
       "    <tr>\n",
       "      <td>4996</td>\n",
       "      <td>-0.007849</td>\n",
       "      <td>-0.014701</td>\n",
       "      <td>-0.007475</td>\n",
       "      <td>-0.013933</td>\n",
       "    </tr>\n",
       "    <tr>\n",
       "      <td>4997</td>\n",
       "      <td>-0.002855</td>\n",
       "      <td>-0.002060</td>\n",
       "      <td>0.010759</td>\n",
       "      <td>-0.002340</td>\n",
       "    </tr>\n",
       "    <tr>\n",
       "      <td>4998</td>\n",
       "      <td>0.000354</td>\n",
       "      <td>-0.004368</td>\n",
       "      <td>0.009111</td>\n",
       "      <td>0.002656</td>\n",
       "    </tr>\n",
       "    <tr>\n",
       "      <td>4999</td>\n",
       "      <td>0.001575</td>\n",
       "      <td>0.005236</td>\n",
       "      <td>0.008663</td>\n",
       "      <td>-0.000907</td>\n",
       "    </tr>\n",
       "  </tbody>\n",
       "</table>\n",
       "<p>5000 rows × 4 columns</p>\n",
       "</div>"
      ],
      "text/plain": [
       "      layer3_thickness  layer2_thickness  layer3_roughness  layer3_sld\n",
       "0             0.006900         -0.038627         -0.084936   -0.010555\n",
       "1             0.005384          0.006221          0.005592    0.005523\n",
       "2             0.004097         -0.003145          0.011213    0.003970\n",
       "3            -0.000170         -0.005654          0.000314    0.003110\n",
       "4            -0.004110         -0.000390         -0.002559    0.000834\n",
       "...                ...               ...               ...         ...\n",
       "4995          0.001308          0.004076         -0.000300    0.002786\n",
       "4996         -0.007849         -0.014701         -0.007475   -0.013933\n",
       "4997         -0.002855         -0.002060          0.010759   -0.002340\n",
       "4998          0.000354         -0.004368          0.009111    0.002656\n",
       "4999          0.001575          0.005236          0.008663   -0.000907\n",
       "\n",
       "[5000 rows x 4 columns]"
      ]
     },
     "execution_count": 26,
     "metadata": {},
     "output_type": "execute_result"
    }
   ],
   "source": [
    "pred_test_labels.reset_index(drop=True) - test_labels_pp.reset_index(drop=True) # Calculate absolute error"
   ]
  },
  {
   "cell_type": "code",
   "execution_count": 27,
   "metadata": {},
   "outputs": [
    {
     "name": "stdout",
     "output_type": "stream",
     "text": [
      "layer3_thickness    0.004347\n",
      "layer2_thickness    0.017437\n",
      "layer3_roughness    0.008447\n",
      "layer3_sld          0.011278\n",
      "dtype: float64\n"
     ]
    }
   ],
   "source": [
    "mae = pr.mean_absolute_error(pred_test_labels, test_labels_pp) # Calculate mean absolute error\n",
    "print(mae)"
   ]
  },
  {
   "cell_type": "code",
   "execution_count": 28,
   "metadata": {},
   "outputs": [
    {
     "name": "stdout",
     "output_type": "stream",
     "text": [
      "layer3_thickness    0.126306\n",
      "layer2_thickness    0.342645\n",
      "layer3_roughness    0.244443\n",
      "layer3_sld          0.055138\n",
      "dtype: float64\n"
     ]
    }
   ],
   "source": [
    "mape = pr.mean_absolute_percentage_error(pred_test_labels, test_labels_pp) # Calculate mean absolute percentage error\n",
    "print(mape)"
   ]
  },
  {
   "cell_type": "code",
   "execution_count": 29,
   "metadata": {},
   "outputs": [
    {
     "data": {
      "text/html": [
       "<div>\n",
       "<style scoped>\n",
       "    .dataframe tbody tr th:only-of-type {\n",
       "        vertical-align: middle;\n",
       "    }\n",
       "\n",
       "    .dataframe tbody tr th {\n",
       "        vertical-align: top;\n",
       "    }\n",
       "\n",
       "    .dataframe thead th {\n",
       "        text-align: right;\n",
       "    }\n",
       "</style>\n",
       "<table border=\"1\" class=\"dataframe\">\n",
       "  <thead>\n",
       "    <tr style=\"text-align: right;\">\n",
       "      <th></th>\n",
       "      <th>layer3_thickness</th>\n",
       "      <th>layer2_thickness</th>\n",
       "      <th>layer1_thickness</th>\n",
       "      <th>layer3_roughness</th>\n",
       "      <th>layer2_roughness</th>\n",
       "      <th>layer1_roughness</th>\n",
       "      <th>layer3_sld</th>\n",
       "      <th>layer2_sld</th>\n",
       "      <th>layer1_sld</th>\n",
       "    </tr>\n",
       "  </thead>\n",
       "  <tbody>\n",
       "    <tr>\n",
       "      <td>0</td>\n",
       "      <td>30.120015</td>\n",
       "      <td>28.936978</td>\n",
       "      <td>100.0</td>\n",
       "      <td>14.355495</td>\n",
       "      <td>2.5</td>\n",
       "      <td>1.0</td>\n",
       "      <td>1.187060</td>\n",
       "      <td>17.8</td>\n",
       "      <td>20.1</td>\n",
       "    </tr>\n",
       "    <tr>\n",
       "      <td>1</td>\n",
       "      <td>269.308324</td>\n",
       "      <td>21.253023</td>\n",
       "      <td>100.0</td>\n",
       "      <td>53.572019</td>\n",
       "      <td>2.5</td>\n",
       "      <td>1.0</td>\n",
       "      <td>3.524348</td>\n",
       "      <td>17.8</td>\n",
       "      <td>20.1</td>\n",
       "    </tr>\n",
       "    <tr>\n",
       "      <td>2</td>\n",
       "      <td>176.959971</td>\n",
       "      <td>16.884910</td>\n",
       "      <td>100.0</td>\n",
       "      <td>55.289652</td>\n",
       "      <td>2.5</td>\n",
       "      <td>1.0</td>\n",
       "      <td>5.514172</td>\n",
       "      <td>17.8</td>\n",
       "      <td>20.1</td>\n",
       "    </tr>\n",
       "    <tr>\n",
       "      <td>3</td>\n",
       "      <td>264.184948</td>\n",
       "      <td>8.977132</td>\n",
       "      <td>100.0</td>\n",
       "      <td>49.407024</td>\n",
       "      <td>2.5</td>\n",
       "      <td>1.0</td>\n",
       "      <td>12.978266</td>\n",
       "      <td>17.8</td>\n",
       "      <td>20.1</td>\n",
       "    </tr>\n",
       "    <tr>\n",
       "      <td>4</td>\n",
       "      <td>222.856594</td>\n",
       "      <td>25.905358</td>\n",
       "      <td>100.0</td>\n",
       "      <td>17.455100</td>\n",
       "      <td>2.5</td>\n",
       "      <td>1.0</td>\n",
       "      <td>4.547269</td>\n",
       "      <td>17.8</td>\n",
       "      <td>20.1</td>\n",
       "    </tr>\n",
       "    <tr>\n",
       "      <td>...</td>\n",
       "      <td>...</td>\n",
       "      <td>...</td>\n",
       "      <td>...</td>\n",
       "      <td>...</td>\n",
       "      <td>...</td>\n",
       "      <td>...</td>\n",
       "      <td>...</td>\n",
       "      <td>...</td>\n",
       "      <td>...</td>\n",
       "    </tr>\n",
       "    <tr>\n",
       "      <td>4995</td>\n",
       "      <td>149.123789</td>\n",
       "      <td>6.576914</td>\n",
       "      <td>100.0</td>\n",
       "      <td>44.529784</td>\n",
       "      <td>2.5</td>\n",
       "      <td>1.0</td>\n",
       "      <td>10.247563</td>\n",
       "      <td>17.8</td>\n",
       "      <td>20.1</td>\n",
       "    </tr>\n",
       "    <tr>\n",
       "      <td>4996</td>\n",
       "      <td>115.924712</td>\n",
       "      <td>27.594197</td>\n",
       "      <td>100.0</td>\n",
       "      <td>9.900132</td>\n",
       "      <td>2.5</td>\n",
       "      <td>1.0</td>\n",
       "      <td>5.218914</td>\n",
       "      <td>17.8</td>\n",
       "      <td>20.1</td>\n",
       "    </tr>\n",
       "    <tr>\n",
       "      <td>4997</td>\n",
       "      <td>279.253303</td>\n",
       "      <td>18.179080</td>\n",
       "      <td>100.0</td>\n",
       "      <td>0.224812</td>\n",
       "      <td>2.5</td>\n",
       "      <td>1.0</td>\n",
       "      <td>7.233542</td>\n",
       "      <td>17.8</td>\n",
       "      <td>20.1</td>\n",
       "    </tr>\n",
       "    <tr>\n",
       "      <td>4998</td>\n",
       "      <td>298.757001</td>\n",
       "      <td>12.796638</td>\n",
       "      <td>100.0</td>\n",
       "      <td>5.196719</td>\n",
       "      <td>2.5</td>\n",
       "      <td>1.0</td>\n",
       "      <td>1.641577</td>\n",
       "      <td>17.8</td>\n",
       "      <td>20.1</td>\n",
       "    </tr>\n",
       "    <tr>\n",
       "      <td>4999</td>\n",
       "      <td>110.823948</td>\n",
       "      <td>26.511337</td>\n",
       "      <td>100.0</td>\n",
       "      <td>9.577596</td>\n",
       "      <td>2.5</td>\n",
       "      <td>1.0</td>\n",
       "      <td>1.249692</td>\n",
       "      <td>17.8</td>\n",
       "      <td>20.1</td>\n",
       "    </tr>\n",
       "  </tbody>\n",
       "</table>\n",
       "<p>5000 rows × 9 columns</p>\n",
       "</div>"
      ],
      "text/plain": [
       "      layer3_thickness  layer2_thickness  layer1_thickness  layer3_roughness  \\\n",
       "0            30.120015         28.936978             100.0         14.355495   \n",
       "1           269.308324         21.253023             100.0         53.572019   \n",
       "2           176.959971         16.884910             100.0         55.289652   \n",
       "3           264.184948          8.977132             100.0         49.407024   \n",
       "4           222.856594         25.905358             100.0         17.455100   \n",
       "...                ...               ...               ...               ...   \n",
       "4995        149.123789          6.576914             100.0         44.529784   \n",
       "4996        115.924712         27.594197             100.0          9.900132   \n",
       "4997        279.253303         18.179080             100.0          0.224812   \n",
       "4998        298.757001         12.796638             100.0          5.196719   \n",
       "4999        110.823948         26.511337             100.0          9.577596   \n",
       "\n",
       "      layer2_roughness  layer1_roughness  layer3_sld  layer2_sld  layer1_sld  \n",
       "0                  2.5               1.0    1.187060        17.8        20.1  \n",
       "1                  2.5               1.0    3.524348        17.8        20.1  \n",
       "2                  2.5               1.0    5.514172        17.8        20.1  \n",
       "3                  2.5               1.0   12.978266        17.8        20.1  \n",
       "4                  2.5               1.0    4.547269        17.8        20.1  \n",
       "...                ...               ...         ...         ...         ...  \n",
       "4995               2.5               1.0   10.247563        17.8        20.1  \n",
       "4996               2.5               1.0    5.218914        17.8        20.1  \n",
       "4997               2.5               1.0    7.233542        17.8        20.1  \n",
       "4998               2.5               1.0    1.641577        17.8        20.1  \n",
       "4999               2.5               1.0    1.249692        17.8        20.1  \n",
       "\n",
       "[5000 rows x 9 columns]"
      ]
     },
     "execution_count": 29,
     "metadata": {},
     "output_type": "execute_result"
    }
   ],
   "source": [
    "test_labels # Inspect previously generated test labels"
   ]
  },
  {
   "cell_type": "code",
   "execution_count": 30,
   "metadata": {},
   "outputs": [],
   "source": [
    "restored_pred_test_labels = op.restore_labels(pred_test_labels, test_labels) # Reverse preprocessing on predicted test labels"
   ]
  },
  {
   "cell_type": "code",
   "execution_count": 31,
   "metadata": {
    "scrolled": true
   },
   "outputs": [
    {
     "data": {
      "text/html": [
       "<div>\n",
       "<style scoped>\n",
       "    .dataframe tbody tr th:only-of-type {\n",
       "        vertical-align: middle;\n",
       "    }\n",
       "\n",
       "    .dataframe tbody tr th {\n",
       "        vertical-align: top;\n",
       "    }\n",
       "\n",
       "    .dataframe thead th {\n",
       "        text-align: right;\n",
       "    }\n",
       "</style>\n",
       "<table border=\"1\" class=\"dataframe\">\n",
       "  <thead>\n",
       "    <tr style=\"text-align: right;\">\n",
       "      <th></th>\n",
       "      <th>layer3_thickness</th>\n",
       "      <th>layer2_thickness</th>\n",
       "      <th>layer1_thickness</th>\n",
       "      <th>layer3_roughness</th>\n",
       "      <th>layer2_roughness</th>\n",
       "      <th>layer1_roughness</th>\n",
       "      <th>layer3_sld</th>\n",
       "      <th>layer2_sld</th>\n",
       "      <th>layer1_sld</th>\n",
       "    </tr>\n",
       "  </thead>\n",
       "  <tbody>\n",
       "    <tr>\n",
       "      <td>0</td>\n",
       "      <td>32.051926</td>\n",
       "      <td>27.886312</td>\n",
       "      <td>100.0</td>\n",
       "      <td>9.259327</td>\n",
       "      <td>2.5</td>\n",
       "      <td>1.0</td>\n",
       "      <td>1.049847</td>\n",
       "      <td>17.8</td>\n",
       "      <td>20.1</td>\n",
       "    </tr>\n",
       "    <tr>\n",
       "      <td>1</td>\n",
       "      <td>270.815796</td>\n",
       "      <td>21.422241</td>\n",
       "      <td>100.0</td>\n",
       "      <td>53.907547</td>\n",
       "      <td>2.5</td>\n",
       "      <td>1.0</td>\n",
       "      <td>3.596147</td>\n",
       "      <td>17.8</td>\n",
       "      <td>20.1</td>\n",
       "    </tr>\n",
       "    <tr>\n",
       "      <td>2</td>\n",
       "      <td>178.107224</td>\n",
       "      <td>16.799368</td>\n",
       "      <td>100.0</td>\n",
       "      <td>55.962452</td>\n",
       "      <td>2.5</td>\n",
       "      <td>1.0</td>\n",
       "      <td>5.565776</td>\n",
       "      <td>17.8</td>\n",
       "      <td>20.1</td>\n",
       "    </tr>\n",
       "    <tr>\n",
       "      <td>3</td>\n",
       "      <td>264.137207</td>\n",
       "      <td>8.823338</td>\n",
       "      <td>100.0</td>\n",
       "      <td>49.425835</td>\n",
       "      <td>2.5</td>\n",
       "      <td>1.0</td>\n",
       "      <td>13.018702</td>\n",
       "      <td>17.8</td>\n",
       "      <td>20.1</td>\n",
       "    </tr>\n",
       "    <tr>\n",
       "      <td>4</td>\n",
       "      <td>221.705902</td>\n",
       "      <td>25.894760</td>\n",
       "      <td>100.0</td>\n",
       "      <td>17.301542</td>\n",
       "      <td>2.5</td>\n",
       "      <td>1.0</td>\n",
       "      <td>4.558117</td>\n",
       "      <td>17.8</td>\n",
       "      <td>20.1</td>\n",
       "    </tr>\n",
       "    <tr>\n",
       "      <td>...</td>\n",
       "      <td>...</td>\n",
       "      <td>...</td>\n",
       "      <td>...</td>\n",
       "      <td>...</td>\n",
       "      <td>...</td>\n",
       "      <td>...</td>\n",
       "      <td>...</td>\n",
       "      <td>...</td>\n",
       "      <td>...</td>\n",
       "    </tr>\n",
       "    <tr>\n",
       "      <td>4995</td>\n",
       "      <td>149.490128</td>\n",
       "      <td>6.687785</td>\n",
       "      <td>100.0</td>\n",
       "      <td>44.511780</td>\n",
       "      <td>2.5</td>\n",
       "      <td>1.0</td>\n",
       "      <td>10.283779</td>\n",
       "      <td>17.8</td>\n",
       "      <td>20.1</td>\n",
       "    </tr>\n",
       "    <tr>\n",
       "      <td>4996</td>\n",
       "      <td>113.727119</td>\n",
       "      <td>27.194336</td>\n",
       "      <td>100.0</td>\n",
       "      <td>9.451609</td>\n",
       "      <td>2.5</td>\n",
       "      <td>1.0</td>\n",
       "      <td>5.037791</td>\n",
       "      <td>17.8</td>\n",
       "      <td>20.1</td>\n",
       "    </tr>\n",
       "    <tr>\n",
       "      <td>4997</td>\n",
       "      <td>278.453888</td>\n",
       "      <td>18.123060</td>\n",
       "      <td>100.0</td>\n",
       "      <td>0.870378</td>\n",
       "      <td>2.5</td>\n",
       "      <td>1.0</td>\n",
       "      <td>7.203117</td>\n",
       "      <td>17.8</td>\n",
       "      <td>20.1</td>\n",
       "    </tr>\n",
       "    <tr>\n",
       "      <td>4998</td>\n",
       "      <td>298.856262</td>\n",
       "      <td>12.677820</td>\n",
       "      <td>100.0</td>\n",
       "      <td>5.743399</td>\n",
       "      <td>2.5</td>\n",
       "      <td>1.0</td>\n",
       "      <td>1.676102</td>\n",
       "      <td>17.8</td>\n",
       "      <td>20.1</td>\n",
       "    </tr>\n",
       "    <tr>\n",
       "      <td>4999</td>\n",
       "      <td>111.264938</td>\n",
       "      <td>26.653748</td>\n",
       "      <td>100.0</td>\n",
       "      <td>10.097359</td>\n",
       "      <td>2.5</td>\n",
       "      <td>1.0</td>\n",
       "      <td>1.237898</td>\n",
       "      <td>17.8</td>\n",
       "      <td>20.1</td>\n",
       "    </tr>\n",
       "  </tbody>\n",
       "</table>\n",
       "<p>5000 rows × 9 columns</p>\n",
       "</div>"
      ],
      "text/plain": [
       "      layer3_thickness  layer2_thickness  layer1_thickness  layer3_roughness  \\\n",
       "0            32.051926         27.886312             100.0          9.259327   \n",
       "1           270.815796         21.422241             100.0         53.907547   \n",
       "2           178.107224         16.799368             100.0         55.962452   \n",
       "3           264.137207          8.823338             100.0         49.425835   \n",
       "4           221.705902         25.894760             100.0         17.301542   \n",
       "...                ...               ...               ...               ...   \n",
       "4995        149.490128          6.687785             100.0         44.511780   \n",
       "4996        113.727119         27.194336             100.0          9.451609   \n",
       "4997        278.453888         18.123060             100.0          0.870378   \n",
       "4998        298.856262         12.677820             100.0          5.743399   \n",
       "4999        111.264938         26.653748             100.0         10.097359   \n",
       "\n",
       "      layer2_roughness  layer1_roughness  layer3_sld  layer2_sld  layer1_sld  \n",
       "0                  2.5               1.0    1.049847        17.8        20.1  \n",
       "1                  2.5               1.0    3.596147        17.8        20.1  \n",
       "2                  2.5               1.0    5.565776        17.8        20.1  \n",
       "3                  2.5               1.0   13.018702        17.8        20.1  \n",
       "4                  2.5               1.0    4.558117        17.8        20.1  \n",
       "...                ...               ...         ...         ...         ...  \n",
       "4995               2.5               1.0   10.283779        17.8        20.1  \n",
       "4996               2.5               1.0    5.037791        17.8        20.1  \n",
       "4997               2.5               1.0    7.203117        17.8        20.1  \n",
       "4998               2.5               1.0    1.676102        17.8        20.1  \n",
       "4999               2.5               1.0    1.237898        17.8        20.1  \n",
       "\n",
       "[5000 rows x 9 columns]"
      ]
     },
     "execution_count": 31,
     "metadata": {},
     "output_type": "execute_result"
    }
   ],
   "source": [
    "restored_pred_test_labels # Inspect predicted test labels without preprocessing"
   ]
  },
  {
   "cell_type": "markdown",
   "metadata": {},
   "source": [
    "Compare test labels with predicted test labels."
   ]
  },
  {
   "cell_type": "code",
   "execution_count": 32,
   "metadata": {},
   "outputs": [
    {
     "data": {
      "image/png": "[encoded data removed]",
      "text/plain": [
       "<Figure size 432x288 with 1 Axes>"
      ]
     },
     "metadata": {
      "needs_background": "light"
     },
     "output_type": "display_data"
    }
   ],
   "source": [
    "plt.plot(restored_pred_test_labels['layer2_thickness'], test_labels['layer2_thickness'], '.', label='simulated')\n",
    "plt.plot(restored_pred_test_labels['layer2_thickness'], restored_pred_test_labels['layer2_thickness'], label='predicted')\n",
    "plt.legend()\n",
    "plt.xlabel('Index')\n",
    "plt.ylabel('Thickness')\n",
    "plt.show()"
   ]
  },
  {
   "cell_type": "markdown",
   "metadata": {},
   "source": [
    "Simulate reflectivity from predicted labels."
   ]
  },
  {
   "cell_type": "code",
   "execution_count": 33,
   "metadata": {},
   "outputs": [
    {
     "name": "stderr",
     "output_type": "stream",
     "text": [
      "100%|██████████| 5000/5000 [00:04<00:00, 1223.64it/s]"
     ]
    },
    {
     "name": "stdout",
     "output_type": "stream",
     "text": [
      "Finished 'simulate_reflectivity' in 4.1104 secs\n"
     ]
    },
    {
     "name": "stderr",
     "output_type": "stream",
     "text": [
      "\n"
     ]
    }
   ],
   "source": [
    "pred_test_reflectivity = rg.simulate_reflectivity(restored_pred_test_labels)"
   ]
  },
  {
   "cell_type": "markdown",
   "metadata": {},
   "source": [
    "Plot test reflectivity with predicted reflectivity"
   ]
  },
  {
   "cell_type": "code",
   "execution_count": 37,
   "metadata": {},
   "outputs": [
    {
     "data": {
      "image/png": "[encoded data removed]",
      "text/plain": [
       "<Figure size 432x288 with 1 Axes>"
      ]
     },
     "metadata": {
      "needs_background": "light"
     },
     "output_type": "display_data"
    }
   ],
   "source": [
    "plt.semilogy(q, test_reflectivity[600, :], 'o', label='simulated')\n",
    "plt.semilogy(q, pred_test_reflectivity[600, :], label='predicted')\n",
    "plt.legend()\n",
    "plt.xlabel('q [1/A]')\n",
    "plt.ylabel('Reflectivity [norm.]')\n",
    "plt.show()"
   ]
  },
  {
   "cell_type": "markdown",
   "metadata": {},
   "source": [
    "### Test on experimental data"
   ]
  },
  {
   "cell_type": "code",
   "execution_count": 38,
   "metadata": {},
   "outputs": [],
   "source": [
    "experimental_reflectivity_pp = ip.apply_preprocessing(experimental_reflectivity)"
   ]
  },
  {
   "cell_type": "code",
   "execution_count": 39,
   "metadata": {},
   "outputs": [
    {
     "name": "stdout",
     "output_type": "stream",
     "text": [
      "Finished 'predict_labels' in 0.0195 secs\n"
     ]
    }
   ],
   "source": [
    "pred_experimental_test_labels = pr.predict_labels(experimental_reflectivity_pp) # Predict labels for experimental test data"
   ]
  },
  {
   "cell_type": "code",
   "execution_count": 40,
   "metadata": {},
   "outputs": [
    {
     "data": {
      "text/html": [
       "<div>\n",
       "<style scoped>\n",
       "    .dataframe tbody tr th:only-of-type {\n",
       "        vertical-align: middle;\n",
       "    }\n",
       "\n",
       "    .dataframe tbody tr th {\n",
       "        vertical-align: top;\n",
       "    }\n",
       "\n",
       "    .dataframe thead th {\n",
       "        text-align: right;\n",
       "    }\n",
       "</style>\n",
       "<table border=\"1\" class=\"dataframe\">\n",
       "  <thead>\n",
       "    <tr style=\"text-align: right;\">\n",
       "      <th></th>\n",
       "      <th>layer3_thickness</th>\n",
       "      <th>layer2_thickness</th>\n",
       "      <th>layer3_roughness</th>\n",
       "      <th>layer3_sld</th>\n",
       "    </tr>\n",
       "  </thead>\n",
       "  <tbody>\n",
       "    <tr>\n",
       "      <td>0</td>\n",
       "      <td>0.541733</td>\n",
       "      <td>0.530119</td>\n",
       "      <td>0.193355</td>\n",
       "      <td>0.000000</td>\n",
       "    </tr>\n",
       "    <tr>\n",
       "      <td>1</td>\n",
       "      <td>0.287133</td>\n",
       "      <td>0.553734</td>\n",
       "      <td>0.156139</td>\n",
       "      <td>0.057596</td>\n",
       "    </tr>\n",
       "    <tr>\n",
       "      <td>2</td>\n",
       "      <td>0.030733</td>\n",
       "      <td>0.592410</td>\n",
       "      <td>0.143392</td>\n",
       "      <td>0.100092</td>\n",
       "    </tr>\n",
       "    <tr>\n",
       "      <td>3</td>\n",
       "      <td>0.148798</td>\n",
       "      <td>0.673932</td>\n",
       "      <td>0.228939</td>\n",
       "      <td>0.110132</td>\n",
       "    </tr>\n",
       "    <tr>\n",
       "      <td>4</td>\n",
       "      <td>0.008264</td>\n",
       "      <td>0.698568</td>\n",
       "      <td>0.133066</td>\n",
       "      <td>0.278345</td>\n",
       "    </tr>\n",
       "    <tr>\n",
       "      <td>...</td>\n",
       "      <td>...</td>\n",
       "      <td>...</td>\n",
       "      <td>...</td>\n",
       "      <td>...</td>\n",
       "    </tr>\n",
       "    <tr>\n",
       "      <td>64</td>\n",
       "      <td>0.459720</td>\n",
       "      <td>0.183439</td>\n",
       "      <td>0.473456</td>\n",
       "      <td>0.813249</td>\n",
       "    </tr>\n",
       "    <tr>\n",
       "      <td>65</td>\n",
       "      <td>0.467796</td>\n",
       "      <td>0.206978</td>\n",
       "      <td>0.480113</td>\n",
       "      <td>0.814792</td>\n",
       "    </tr>\n",
       "    <tr>\n",
       "      <td>66</td>\n",
       "      <td>0.474382</td>\n",
       "      <td>0.168202</td>\n",
       "      <td>0.491040</td>\n",
       "      <td>0.835723</td>\n",
       "    </tr>\n",
       "    <tr>\n",
       "      <td>67</td>\n",
       "      <td>0.491130</td>\n",
       "      <td>0.141524</td>\n",
       "      <td>0.496664</td>\n",
       "      <td>0.849179</td>\n",
       "    </tr>\n",
       "    <tr>\n",
       "      <td>68</td>\n",
       "      <td>0.496641</td>\n",
       "      <td>0.152163</td>\n",
       "      <td>0.491873</td>\n",
       "      <td>0.846043</td>\n",
       "    </tr>\n",
       "  </tbody>\n",
       "</table>\n",
       "<p>69 rows × 4 columns</p>\n",
       "</div>"
      ],
      "text/plain": [
       "    layer3_thickness  layer2_thickness  layer3_roughness  layer3_sld\n",
       "0           0.541733          0.530119          0.193355    0.000000\n",
       "1           0.287133          0.553734          0.156139    0.057596\n",
       "2           0.030733          0.592410          0.143392    0.100092\n",
       "3           0.148798          0.673932          0.228939    0.110132\n",
       "4           0.008264          0.698568          0.133066    0.278345\n",
       "..               ...               ...               ...         ...\n",
       "64          0.459720          0.183439          0.473456    0.813249\n",
       "65          0.467796          0.206978          0.480113    0.814792\n",
       "66          0.474382          0.168202          0.491040    0.835723\n",
       "67          0.491130          0.141524          0.496664    0.849179\n",
       "68          0.496641          0.152163          0.491873    0.846043\n",
       "\n",
       "[69 rows x 4 columns]"
      ]
     },
     "execution_count": 40,
     "metadata": {},
     "output_type": "execute_result"
    }
   ],
   "source": [
    "pred_experimental_test_labels"
   ]
  },
  {
   "cell_type": "code",
   "execution_count": 41,
   "metadata": {},
   "outputs": [],
   "source": [
    "restored_pred_experimental_test_labels = op.restore_labels(pred_experimental_test_labels, test_labels) # Reverse preprocessing on predicted test labels"
   ]
  },
  {
   "cell_type": "code",
   "execution_count": 42,
   "metadata": {},
   "outputs": [
    {
     "data": {
      "text/html": [
       "<div>\n",
       "<style scoped>\n",
       "    .dataframe tbody tr th:only-of-type {\n",
       "        vertical-align: middle;\n",
       "    }\n",
       "\n",
       "    .dataframe tbody tr th {\n",
       "        vertical-align: top;\n",
       "    }\n",
       "\n",
       "    .dataframe thead th {\n",
       "        text-align: right;\n",
       "    }\n",
       "</style>\n",
       "<table border=\"1\" class=\"dataframe\">\n",
       "  <thead>\n",
       "    <tr style=\"text-align: right;\">\n",
       "      <th></th>\n",
       "      <th>layer3_thickness</th>\n",
       "      <th>layer2_thickness</th>\n",
       "      <th>layer1_thickness</th>\n",
       "      <th>layer3_roughness</th>\n",
       "      <th>layer2_roughness</th>\n",
       "      <th>layer1_roughness</th>\n",
       "      <th>layer3_sld</th>\n",
       "      <th>layer2_sld</th>\n",
       "      <th>layer1_sld</th>\n",
       "    </tr>\n",
       "  </thead>\n",
       "  <tbody>\n",
       "    <tr>\n",
       "      <td>0</td>\n",
       "      <td>171.685135</td>\n",
       "      <td>17.219234</td>\n",
       "      <td>100.0</td>\n",
       "      <td>11.601306</td>\n",
       "      <td>2.5</td>\n",
       "      <td>1.0</td>\n",
       "      <td>1.000000</td>\n",
       "      <td>17.8</td>\n",
       "      <td>20.1</td>\n",
       "    </tr>\n",
       "    <tr>\n",
       "      <td>1</td>\n",
       "      <td>100.397293</td>\n",
       "      <td>17.861565</td>\n",
       "      <td>100.0</td>\n",
       "      <td>9.368336</td>\n",
       "      <td>2.5</td>\n",
       "      <td>1.0</td>\n",
       "      <td>1.748743</td>\n",
       "      <td>17.8</td>\n",
       "      <td>20.1</td>\n",
       "    </tr>\n",
       "    <tr>\n",
       "      <td>2</td>\n",
       "      <td>28.605156</td>\n",
       "      <td>18.913565</td>\n",
       "      <td>100.0</td>\n",
       "      <td>8.603546</td>\n",
       "      <td>2.5</td>\n",
       "      <td>1.0</td>\n",
       "      <td>2.301202</td>\n",
       "      <td>17.8</td>\n",
       "      <td>20.1</td>\n",
       "    </tr>\n",
       "    <tr>\n",
       "      <td>3</td>\n",
       "      <td>61.663486</td>\n",
       "      <td>21.130939</td>\n",
       "      <td>100.0</td>\n",
       "      <td>13.736342</td>\n",
       "      <td>2.5</td>\n",
       "      <td>1.0</td>\n",
       "      <td>2.431716</td>\n",
       "      <td>17.8</td>\n",
       "      <td>20.1</td>\n",
       "    </tr>\n",
       "    <tr>\n",
       "      <td>4</td>\n",
       "      <td>22.313808</td>\n",
       "      <td>21.801056</td>\n",
       "      <td>100.0</td>\n",
       "      <td>7.983932</td>\n",
       "      <td>2.5</td>\n",
       "      <td>1.0</td>\n",
       "      <td>4.618488</td>\n",
       "      <td>17.8</td>\n",
       "      <td>20.1</td>\n",
       "    </tr>\n",
       "    <tr>\n",
       "      <td>...</td>\n",
       "      <td>...</td>\n",
       "      <td>...</td>\n",
       "      <td>...</td>\n",
       "      <td>...</td>\n",
       "      <td>...</td>\n",
       "      <td>...</td>\n",
       "      <td>...</td>\n",
       "      <td>...</td>\n",
       "      <td>...</td>\n",
       "    </tr>\n",
       "    <tr>\n",
       "      <td>64</td>\n",
       "      <td>148.721573</td>\n",
       "      <td>7.789530</td>\n",
       "      <td>100.0</td>\n",
       "      <td>28.407341</td>\n",
       "      <td>2.5</td>\n",
       "      <td>1.0</td>\n",
       "      <td>11.572235</td>\n",
       "      <td>17.8</td>\n",
       "      <td>20.1</td>\n",
       "    </tr>\n",
       "    <tr>\n",
       "      <td>65</td>\n",
       "      <td>150.982758</td>\n",
       "      <td>8.429810</td>\n",
       "      <td>100.0</td>\n",
       "      <td>28.806755</td>\n",
       "      <td>2.5</td>\n",
       "      <td>1.0</td>\n",
       "      <td>11.592290</td>\n",
       "      <td>17.8</td>\n",
       "      <td>20.1</td>\n",
       "    </tr>\n",
       "    <tr>\n",
       "      <td>66</td>\n",
       "      <td>152.826950</td>\n",
       "      <td>7.375099</td>\n",
       "      <td>100.0</td>\n",
       "      <td>29.462395</td>\n",
       "      <td>2.5</td>\n",
       "      <td>1.0</td>\n",
       "      <td>11.864398</td>\n",
       "      <td>17.8</td>\n",
       "      <td>20.1</td>\n",
       "    </tr>\n",
       "    <tr>\n",
       "      <td>67</td>\n",
       "      <td>157.516357</td>\n",
       "      <td>6.649462</td>\n",
       "      <td>100.0</td>\n",
       "      <td>29.799849</td>\n",
       "      <td>2.5</td>\n",
       "      <td>1.0</td>\n",
       "      <td>12.039332</td>\n",
       "      <td>17.8</td>\n",
       "      <td>20.1</td>\n",
       "    </tr>\n",
       "    <tr>\n",
       "      <td>68</td>\n",
       "      <td>159.059555</td>\n",
       "      <td>6.938836</td>\n",
       "      <td>100.0</td>\n",
       "      <td>29.512375</td>\n",
       "      <td>2.5</td>\n",
       "      <td>1.0</td>\n",
       "      <td>11.998553</td>\n",
       "      <td>17.8</td>\n",
       "      <td>20.1</td>\n",
       "    </tr>\n",
       "  </tbody>\n",
       "</table>\n",
       "<p>69 rows × 9 columns</p>\n",
       "</div>"
      ],
      "text/plain": [
       "    layer3_thickness  layer2_thickness  layer1_thickness  layer3_roughness  \\\n",
       "0         171.685135         17.219234             100.0         11.601306   \n",
       "1         100.397293         17.861565             100.0          9.368336   \n",
       "2          28.605156         18.913565             100.0          8.603546   \n",
       "3          61.663486         21.130939             100.0         13.736342   \n",
       "4          22.313808         21.801056             100.0          7.983932   \n",
       "..               ...               ...               ...               ...   \n",
       "64        148.721573          7.789530             100.0         28.407341   \n",
       "65        150.982758          8.429810             100.0         28.806755   \n",
       "66        152.826950          7.375099             100.0         29.462395   \n",
       "67        157.516357          6.649462             100.0         29.799849   \n",
       "68        159.059555          6.938836             100.0         29.512375   \n",
       "\n",
       "    layer2_roughness  layer1_roughness  layer3_sld  layer2_sld  layer1_sld  \n",
       "0                2.5               1.0    1.000000        17.8        20.1  \n",
       "1                2.5               1.0    1.748743        17.8        20.1  \n",
       "2                2.5               1.0    2.301202        17.8        20.1  \n",
       "3                2.5               1.0    2.431716        17.8        20.1  \n",
       "4                2.5               1.0    4.618488        17.8        20.1  \n",
       "..               ...               ...         ...         ...         ...  \n",
       "64               2.5               1.0   11.572235        17.8        20.1  \n",
       "65               2.5               1.0   11.592290        17.8        20.1  \n",
       "66               2.5               1.0   11.864398        17.8        20.1  \n",
       "67               2.5               1.0   12.039332        17.8        20.1  \n",
       "68               2.5               1.0   11.998553        17.8        20.1  \n",
       "\n",
       "[69 rows x 9 columns]"
      ]
     },
     "execution_count": 42,
     "metadata": {},
     "output_type": "execute_result"
    }
   ],
   "source": [
    "restored_pred_experimental_test_labels"
   ]
  },
  {
   "cell_type": "code",
   "execution_count": 43,
   "metadata": {},
   "outputs": [
    {
     "data": {
      "image/png": "[encoded data removed]",
      "text/plain": [
       "<Figure size 432x288 with 1 Axes>"
      ]
     },
     "metadata": {
      "needs_background": "light"
     },
     "output_type": "display_data"
    }
   ],
   "source": [
    "plt.plot(restored_pred_experimental_test_labels['layer3_thickness'])\n",
    "plt.xlabel('Curve index')\n",
    "plt.ylabel('Thickness [A]')\n",
    "plt.show()"
   ]
  },
  {
   "cell_type": "code",
   "execution_count": 44,
   "metadata": {},
   "outputs": [
    {
     "name": "stderr",
     "output_type": "stream",
     "text": [
      "100%|██████████| 69/69 [00:00<00:00, 923.23it/s]"
     ]
    },
    {
     "name": "stdout",
     "output_type": "stream",
     "text": [
      "Finished 'simulate_reflectivity' in 0.0810 secs\n"
     ]
    },
    {
     "name": "stderr",
     "output_type": "stream",
     "text": [
      "\n"
     ]
    }
   ],
   "source": [
    "pred_experimental_reflectivity = rg.simulate_reflectivity(restored_pred_experimental_test_labels)"
   ]
  },
  {
   "cell_type": "code",
   "execution_count": 45,
   "metadata": {},
   "outputs": [
    {
     "data": {
      "image/png": "[encoded data removed]",
      "text/plain": [
       "<Figure size 432x288 with 1 Axes>"
      ]
     },
     "metadata": {
      "needs_background": "light"
     },
     "output_type": "display_data"
    }
   ],
   "source": [
    "plt.semilogy(q, experimental_reflectivity[30, :], 'o', label='experiment')\n",
    "plt.semilogy(q, pred_experimental_reflectivity[30, :], label='prediction')\n",
    "plt.legend()\n",
    "plt.xlabel('q [1/A]')\n",
    "plt.ylabel('Reflectivity [norm.]')\n",
    "plt.show()"
   ]
  }
 ],
 "metadata": {
  "kernelspec": {
   "display_name": "Python 3",
   "language": "python",
   "name": "python3"
  },
  "language_info": {
   "codemirror_mode": {
    "name": "ipython",
    "version": 3
   },
   "file_extension": ".py",
   "mimetype": "text/x-python",
   "name": "python",
   "nbconvert_exporter": "python",
   "pygments_lexer": "ipython3",
   "version": "3.7.4"
  }
 },
 "nbformat": 4,
 "nbformat_minor": 1
}
