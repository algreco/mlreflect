{
 "cells": [
  {
   "cell_type": "code",
   "execution_count": 1,
   "metadata": {
    "pycharm": {
     "is_executing": false,
     "name": "#%%\n"
    }
   },
   "outputs": [],
   "source": [
    "import sys\n",
    "sys.path.append('/home/greco/git_repos/mlreflect/')"
   ]
  },
  {
   "cell_type": "code",
   "execution_count": 2,
   "metadata": {
    "pycharm": {
     "is_executing": false
    }
   },
   "outputs": [
    {
     "name": "stderr",
     "text": [
      "Using TensorFlow backend.\n",
      "/home/greco/anaconda3/lib/python3.7/site-packages/tensorflow/python/framework/dtypes.py:516: FutureWarning: Passing (type, 1) or '1type' as a synonym of type is deprecated; in a future version of numpy, it will be understood as (type, (1,)) / '(1,)type'.\n  _np_qint8 = np.dtype([(\"qint8\", np.int8, 1)])\n/home/greco/anaconda3/lib/python3.7/site-packages/tensorflow/python/framework/dtypes.py:517: FutureWarning: Passing (type, 1) or '1type' as a synonym of type is deprecated; in a future version of numpy, it will be understood as (type, (1,)) / '(1,)type'.\n  _np_quint8 = np.dtype([(\"quint8\", np.uint8, 1)])\n/home/greco/anaconda3/lib/python3.7/site-packages/tensorflow/python/framework/dtypes.py:518: FutureWarning: Passing (type, 1) or '1type' as a synonym of type is deprecated; in a future version of numpy, it will be understood as (type, (1,)) / '(1,)type'.\n  _np_qint16 = np.dtype([(\"qint16\", np.int16, 1)])\n/home/greco/anaconda3/lib/python3.7/site-packages/tensorflow/python/framework/dtypes.py:519: FutureWarning: Passing (type, 1) or '1type' as a synonym of type is deprecated; in a future version of numpy, it will be understood as (type, (1,)) / '(1,)type'.\n  _np_quint16 = np.dtype([(\"quint16\", np.uint16, 1)])\n/home/greco/anaconda3/lib/python3.7/site-packages/tensorflow/python/framework/dtypes.py:520: FutureWarning: Passing (type, 1) or '1type' as a synonym of type is deprecated; in a future version of numpy, it will be understood as (type, (1,)) / '(1,)type'.\n  _np_qint32 = np.dtype([(\"qint32\", np.int32, 1)])\n/home/greco/anaconda3/lib/python3.7/site-packages/tensorflow/python/framework/dtypes.py:525: FutureWarning: Passing (type, 1) or '1type' as a synonym of type is deprecated; in a future version of numpy, it will be understood as (type, (1,)) / '(1,)type'.\n  np_resource = np.dtype([(\"resource\", np.ubyte, 1)])\n",
      "/home/greco/anaconda3/lib/python3.7/site-packages/tensorboard/compat/tensorflow_stub/dtypes.py:541: FutureWarning: Passing (type, 1) or '1type' as a synonym of type is deprecated; in a future version of numpy, it will be understood as (type, (1,)) / '(1,)type'.\n  _np_qint8 = np.dtype([(\"qint8\", np.int8, 1)])\n/home/greco/anaconda3/lib/python3.7/site-packages/tensorboard/compat/tensorflow_stub/dtypes.py:542: FutureWarning: Passing (type, 1) or '1type' as a synonym of type is deprecated; in a future version of numpy, it will be understood as (type, (1,)) / '(1,)type'.\n  _np_quint8 = np.dtype([(\"quint8\", np.uint8, 1)])\n/home/greco/anaconda3/lib/python3.7/site-packages/tensorboard/compat/tensorflow_stub/dtypes.py:543: FutureWarning: Passing (type, 1) or '1type' as a synonym of type is deprecated; in a future version of numpy, it will be understood as (type, (1,)) / '(1,)type'.\n  _np_qint16 = np.dtype([(\"qint16\", np.int16, 1)])\n/home/greco/anaconda3/lib/python3.7/site-packages/tensorboard/compat/tensorflow_stub/dtypes.py:544: FutureWarning: Passing (type, 1) or '1type' as a synonym of type is deprecated; in a future version of numpy, it will be understood as (type, (1,)) / '(1,)type'.\n  _np_quint16 = np.dtype([(\"quint16\", np.uint16, 1)])\n/home/greco/anaconda3/lib/python3.7/site-packages/tensorboard/compat/tensorflow_stub/dtypes.py:545: FutureWarning: Passing (type, 1) or '1type' as a synonym of type is deprecated; in a future version of numpy, it will be understood as (type, (1,)) / '(1,)type'.\n  _np_qint32 = np.dtype([(\"qint32\", np.int32, 1)])\n/home/greco/anaconda3/lib/python3.7/site-packages/tensorboard/compat/tensorflow_stub/dtypes.py:550: FutureWarning: Passing (type, 1) or '1type' as a synonym of type is deprecated; in a future version of numpy, it will be understood as (type, (1,)) / '(1,)type'.\n  np_resource = np.dtype([(\"resource\", np.ubyte, 1)])\n"
     ],
     "output_type": "stream"
    }
   ],
   "source": [
    "import mlreflect\n",
    "from mlreflect import ReflectivityGenerator as rg\n",
    "from mlreflect import InputPreprocessor as ip\n",
    "from mlreflect import OutputPreprocessor as op\n",
    "from mlreflect import models\n",
    "import numpy as np\n",
    "import matplotlib.pyplot as plt\n",
    "import pandas as pd"
   ]
  },
  {
   "cell_type": "code",
   "execution_count": 3,
   "metadata": {
    "pycharm": {
     "is_executing": false
    }
   },
   "outputs": [
    {
     "name": "stdout",
     "text": [
      "[0.01013    0.0126629  0.0151958  0.01772869 0.02026159 0.02279449\n 0.02532739 0.02786028 0.03039318 0.03292608 0.03545898 0.03799188\n 0.04052477 0.04305767 0.04559057 0.04812347 0.05065636 0.05318926\n 0.05572216 0.05825506 0.06078795 0.06332085 0.06585375 0.06838665\n 0.07091955 0.07345244 0.07598534 0.07851824 0.08105114 0.08358403\n 0.08611693 0.08864983 0.09118273 0.09371562 0.09624852 0.09878142\n 0.10131432 0.10384722 0.10638011 0.10891301 0.11144591 0.11397881\n 0.1165117  0.1190446  0.1215775  0.1241104  0.1266433  0.12917619\n 0.13170909 0.13424199 0.13677489 0.13930778]\n(52,)\n"
     ],
     "output_type": "stream"
    }
   ],
   "source": [
    "q = np.loadtxt('interpolated_log_reflectivity_52q_alex.txt')[:, 0]\n",
    "print(q)\n",
    "print(q.shape)"
   ]
  },
  {
   "cell_type": "code",
   "execution_count": 4,
   "metadata": {
    "pycharm": {
     "is_executing": false
    }
   },
   "outputs": [],
   "source": [
    "film_params = [np.array([100, 1]) * 1e-10, np.array([10, 0]) * 1e-10, np.array([10, 9]) * 1e+14, 0]\n",
    "film_params2 = [np.array([100, 1]) * 1e-10, np.array([10, 0]) * 1e-10, np.array([10, 20]) * 1e+14, 0]"
   ]
  },
  {
   "cell_type": "code",
   "execution_count": 5,
   "metadata": {
    "pycharm": {
     "name": "#%%\n",
     "is_executing": false
    }
   },
   "outputs": [],
   "source": [
    "refl = mlreflect.reflectivity.multilayer_reflectivity(q * 1e10, *film_params)"
   ]
  },
  {
   "cell_type": "code",
   "execution_count": 6,
   "metadata": {
    "pycharm": {
     "is_executing": false
    }
   },
   "outputs": [
    {
     "data": {
      "text/plain": "[<matplotlib.lines.Line2D at 0x7f2ea5be5550>]"
     },
     "metadata": {},
     "output_type": "execute_result",
     "execution_count": 6
    },
    {
     "data": {
      "text/plain": "<Figure size 432x288 with 1 Axes>",
      "image/png": "[encoded data removed]"
     },
     "metadata": {
      "needs_background": "light"
     },
     "output_type": "display_data"
    }
   ],
   "source": [
    "plt.semilogy(q, refl)"
   ]
  },
  {
   "cell_type": "code",
   "execution_count": 7,
   "metadata": {
    "pycharm": {
     "is_executing": false
    }
   },
   "outputs": [],
   "source": [
    "params = {'thickness': ((0, 100), (1, 1)), 'roughness': ((0, 20), (0, 5)), 'SLD': ((14, 14), (20, 20))}"
   ]
  },
  {
   "cell_type": "code",
   "execution_count": 33,
   "metadata": {
    "pycharm": {
     "is_executing": false
    }
   },
   "outputs": [],
   "source": [
    "my_training_data = rg(q, 0)"
   ]
  },
  {
   "cell_type": "code",
   "execution_count": 34,
   "metadata": {
    "pycharm": {
     "is_executing": false
    }
   },
   "outputs": [
    {
     "name": "stderr",
     "text": [
      "\r  0%|          | 0/10000 [00:00<?, ?it/s]",
      "\r  2%|▏         | 179/10000 [00:00<00:05, 1785.06it/s]",
      "\r  3%|▎         | 337/10000 [00:00<00:05, 1714.47it/s]",
      "\r  5%|▍         | 494/10000 [00:00<00:05, 1665.87it/s]",
      "\r  7%|▋         | 667/10000 [00:00<00:05, 1684.50it/s]",
      "\r  8%|▊         | 839/10000 [00:00<00:05, 1693.21it/s]",
      "\r 10%|▉         | 989/10000 [00:00<00:05, 1628.20it/s]",
      "\r 12%|█▏        | 1162/10000 [00:00<00:05, 1657.40it/s]",
      "\r 13%|█▎        | 1336/10000 [00:00<00:05, 1679.57it/s]",
      "\r 15%|█▌        | 1515/10000 [00:00<00:04, 1709.30it/s]",
      "\r 17%|█▋        | 1695/10000 [00:01<00:04, 1733.71it/s]",
      "\r 19%|█▉        | 1875/10000 [00:01<00:04, 1752.11it/s]",
      "\r 21%|██        | 2056/10000 [00:01<00:04, 1766.51it/s]",
      "\r 22%|██▏       | 2231/10000 [00:01<00:04, 1759.52it/s]",
      "\r 24%|██▍       | 2406/10000 [00:01<00:04, 1755.90it/s]",
      "\r 26%|██▌       | 2584/10000 [00:01<00:04, 1762.19it/s]",
      "\r 28%|██▊       | 2760/10000 [00:01<00:04, 1686.21it/s]",
      "\r 29%|██▉       | 2932/10000 [00:01<00:04, 1694.40it/s]",
      "\r 31%|███       | 3106/10000 [00:01<00:04, 1706.16it/s]",
      "\r 33%|███▎      | 3281/10000 [00:01<00:03, 1717.89it/s]",
      "\r 35%|███▍      | 3453/10000 [00:02<00:03, 1648.94it/s]",
      "\r 36%|███▋      | 3625/10000 [00:02<00:03, 1667.39it/s]",
      "\r 38%|███▊      | 3804/10000 [00:02<00:03, 1700.80it/s]",
      "\r 40%|███▉      | 3983/10000 [00:02<00:03, 1726.13it/s]",
      "\r 42%|████▏     | 4157/10000 [00:02<00:03, 1706.40it/s]",
      "\r 43%|████▎     | 4329/10000 [00:02<00:03, 1692.96it/s]",
      "\r 45%|████▌     | 4508/10000 [00:02<00:03, 1718.14it/s]",
      "\r 47%|████▋     | 4681/10000 [00:02<00:03, 1710.20it/s]",
      "\r 49%|████▊     | 4856/10000 [00:02<00:02, 1720.31it/s]",
      "\r 50%|█████     | 5029/10000 [00:02<00:02, 1719.83it/s]",
      "\r 52%|█████▏    | 5202/10000 [00:03<00:02, 1705.15it/s]",
      "\r 54%|█████▎    | 5374/10000 [00:03<00:02, 1708.26it/s]",
      "\r 55%|█████▌    | 5548/10000 [00:03<00:02, 1715.29it/s]",
      "\r 57%|█████▋    | 5720/10000 [00:03<00:02, 1628.30it/s]",
      "\r 59%|█████▉    | 5895/10000 [00:03<00:02, 1660.67it/s]",
      "\r 61%|██████    | 6071/10000 [00:03<00:02, 1689.07it/s]",
      "\r 62%|██████▏   | 6241/10000 [00:03<00:02, 1678.23it/s]",
      "\r 64%|██████▍   | 6416/10000 [00:03<00:02, 1697.58it/s]",
      "\r 66%|██████▌   | 6594/10000 [00:03<00:01, 1719.63it/s]",
      "\r 68%|██████▊   | 6772/10000 [00:03<00:01, 1737.07it/s]",
      "\r 69%|██████▉   | 6946/10000 [00:04<00:01, 1668.91it/s]",
      "\r 71%|███████   | 7122/10000 [00:04<00:01, 1693.62it/s]",
      "\r 73%|███████▎  | 7300/10000 [00:04<00:01, 1718.16it/s]",
      "\r 75%|███████▍  | 7479/10000 [00:04<00:01, 1736.72it/s]",
      "\r 77%|███████▋  | 7660/10000 [00:04<00:01, 1757.94it/s]",
      "\r 78%|███████▊  | 7842/10000 [00:04<00:01, 1773.95it/s]",
      "\r 80%|████████  | 8025/10000 [00:04<00:01, 1788.47it/s]",
      "\r 82%|████████▏ | 8205/10000 [00:04<00:01, 1728.56it/s]",
      "\r 84%|████████▍ | 8380/10000 [00:04<00:00, 1733.72it/s]",
      "\r 86%|████████▌ | 8560/10000 [00:05<00:00, 1751.33it/s]",
      "\r 87%|████████▋ | 8741/10000 [00:05<00:00, 1766.96it/s]",
      "\r 89%|████████▉ | 8918/10000 [00:05<00:00, 1681.34it/s]",
      "\r 91%|█████████ | 9088/10000 [00:05<00:00, 1683.74it/s]",
      "\r 93%|█████████▎| 9268/10000 [00:05<00:00, 1715.78it/s]",
      "\r 94%|█████████▍| 9442/10000 [00:05<00:00, 1721.49it/s]",
      "\r 96%|█████████▌| 9615/10000 [00:05<00:00, 1668.93it/s]",
      "\r 98%|█████████▊| 9786/10000 [00:05<00:00, 1680.71it/s]",
      "\r100%|█████████▉| 9964/10000 [00:05<00:00, 1707.95it/s]",
      "\r100%|██████████| 10000/10000 [00:05<00:00, 1708.00it/s]",
      "\n",
      "\r  0%|          | 0/10000 [00:00<?, ?it/s]",
      "\r  2%|▏         | 177/10000 [00:00<00:05, 1760.55it/s]",
      "\r  4%|▎         | 355/10000 [00:00<00:05, 1763.42it/s]",
      "\r  5%|▌         | 531/10000 [00:00<00:05, 1761.54it/s]",
      "\r  7%|▋         | 682/10000 [00:00<00:05, 1676.04it/s]",
      "\r  9%|▊         | 856/10000 [00:00<00:05, 1693.05it/s]",
      "\r 10%|█         | 1034/10000 [00:00<00:05, 1717.92it/s]",
      "\r 12%|█▏        | 1213/10000 [00:00<00:05, 1736.30it/s]",
      "\r 14%|█▍        | 1389/10000 [00:00<00:04, 1741.99it/s]",
      "\r 16%|█▌        | 1566/10000 [00:00<00:04, 1746.72it/s]",
      "\r 17%|█▋        | 1744/10000 [00:01<00:04, 1753.40it/s]",
      "\r 19%|█▉        | 1915/10000 [00:01<00:04, 1677.00it/s]",
      "\r 21%|██        | 2092/10000 [00:01<00:04, 1703.85it/s]",
      "\r 23%|██▎       | 2272/10000 [00:01<00:04, 1729.48it/s]",
      "\r 25%|██▍       | 2451/10000 [00:01<00:04, 1744.90it/s]",
      "\r 26%|██▋       | 2625/10000 [00:01<00:04, 1729.00it/s]",
      "\r 28%|██▊       | 2801/10000 [00:01<00:04, 1736.58it/s]",
      "\r 30%|██▉       | 2980/10000 [00:01<00:04, 1750.46it/s]",
      "\r 32%|███▏      | 3155/10000 [00:01<00:04, 1673.60it/s]",
      "\r 33%|███▎      | 3331/10000 [00:01<00:03, 1696.63it/s]",
      "\r 35%|███▌      | 3509/10000 [00:02<00:03, 1719.94it/s]",
      "\r 37%|███▋      | 3684/10000 [00:02<00:03, 1727.92it/s]",
      "\r 39%|███▊      | 3858/10000 [00:02<00:03, 1676.65it/s]",
      "\r 40%|████      | 4033/10000 [00:02<00:03, 1697.16it/s]",
      "\r 42%|████▏     | 4213/10000 [00:02<00:03, 1726.08it/s]",
      "\r 44%|████▍     | 4393/10000 [00:02<00:03, 1746.55it/s]",
      "\r 46%|████▌     | 4569/10000 [00:02<00:03, 1746.71it/s]",
      "\r 48%|████▊     | 4750/10000 [00:02<00:02, 1762.68it/s]",
      "\r 49%|████▉     | 4927/10000 [00:02<00:02, 1762.21it/s]",
      "\r 51%|█████     | 5104/10000 [00:02<00:02, 1755.36it/s]",
      "\r 53%|█████▎    | 5282/10000 [00:03<00:02, 1760.51it/s]",
      "\r 55%|█████▍    | 5462/10000 [00:03<00:02, 1768.46it/s]",
      "\r 56%|█████▋    | 5639/10000 [00:03<00:02, 1697.59it/s]",
      "\r 58%|█████▊    | 5810/10000 [00:03<00:02, 1693.45it/s]",
      "\r 60%|█████▉    | 5990/10000 [00:03<00:02, 1721.43it/s]",
      "\r 62%|██████▏   | 6169/10000 [00:03<00:02, 1738.91it/s]",
      "\r 63%|██████▎   | 6346/10000 [00:03<00:02, 1746.00it/s]",
      "\r 65%|██████▌   | 6527/10000 [00:03<00:01, 1761.47it/s]",
      "\r 67%|██████▋   | 6706/10000 [00:03<00:01, 1768.52it/s]",
      "\r 69%|██████▉   | 6884/10000 [00:03<00:01, 1704.66it/s]",
      "\r 71%|███████   | 7059/10000 [00:04<00:01, 1717.29it/s]",
      "\r 72%|███████▏  | 7241/10000 [00:04<00:01, 1746.26it/s]",
      "\r 74%|███████▍  | 7417/10000 [00:04<00:01, 1741.12it/s]",
      "\r 76%|███████▌  | 7592/10000 [00:04<00:01, 1658.50it/s]",
      "\r 78%|███████▊  | 7761/10000 [00:04<00:01, 1665.40it/s]",
      "\r 79%|███████▉  | 7939/10000 [00:04<00:01, 1696.55it/s]",
      "\r 81%|████████  | 8113/10000 [00:04<00:01, 1707.39it/s]",
      "\r 83%|████████▎ | 8289/10000 [00:04<00:00, 1721.84it/s]",
      "\r 85%|████████▍ | 8462/10000 [00:04<00:00, 1723.31it/s]",
      "\r 86%|████████▋ | 8645/10000 [00:05<00:00, 1753.81it/s]",
      "\r 88%|████████▊ | 8821/10000 [00:05<00:00, 1680.01it/s]",
      "\r 90%|████████▉ | 8999/10000 [00:05<00:00, 1706.30it/s]",
      "\r 92%|█████████▏| 9179/10000 [00:05<00:00, 1732.85it/s]",
      "\r 94%|█████████▎| 9358/10000 [00:05<00:00, 1748.44it/s]",
      "\r 95%|█████████▌| 9541/10000 [00:05<00:00, 1771.64it/s]",
      "\r 97%|█████████▋| 9724/10000 [00:05<00:00, 1787.73it/s]",
      "\r 99%|█████████▉| 9904/10000 [00:05<00:00, 1764.53it/s]",
      "\r100%|██████████| 10000/10000 [00:05<00:00, 1725.96it/s]",
      "\n\r  0%|          | 0/1000 [00:00<?, ?it/s]",
      "\r 18%|█▊        | 178/1000 [00:00<00:00, 1774.83it/s]",
      "\r 36%|███▌      | 356/1000 [00:00<00:00, 1776.07it/s]",
      "\r 52%|█████▏    | 518/1000 [00:00<00:00, 1723.29it/s]",
      "\r 70%|██████▉   | 695/1000 [00:00<00:00, 1734.59it/s]",
      "\r 88%|████████▊ | 877/1000 [00:00<00:00, 1757.71it/s]",
      "\r100%|██████████| 1000/1000 [00:00<00:00, 1749.87it/s]",
      "\n"
     ],
     "output_type": "stream"
    },
    {
     "name": "stdout",
     "text": [
      "Finished 'generate_random_labels' in 12.4455 secs\n"
     ],
     "output_type": "stream"
    }
   ],
   "source": [
    "my_training_data.generate_random_labels(*params.values(), 10000, 10000, 1000)"
   ]
  },
  {
   "cell_type": "code",
   "execution_count": 35,
   "metadata": {
    "pycharm": {
     "is_executing": false
    }
   },
   "outputs": [
    {
     "name": "stdout",
     "text": [
      "(10000, 6)\n(10000, 6)\n(1000, 6)\n"
     ],
     "output_type": "stream"
    }
   ],
   "source": [
    "print(my_training_data.training_labels.shape)\n",
    "print(my_training_data.validation_labels.shape)\n",
    "print(my_training_data.test_labels.shape)"
   ]
  },
  {
   "cell_type": "code",
   "execution_count": 37,
   "metadata": {
    "pycharm": {
     "is_executing": false
    }
   },
   "outputs": [
    {
     "name": "stdout",
     "text": [
      "[[ 0 20]\n [ 0  5]]\n"
     ],
     "output_type": "stream"
    }
   ],
   "source": [
    "print(my_training_data.roughness_ranges)"
   ]
  },
  {
   "cell_type": "code",
   "execution_count": 38,
   "metadata": {
    "pycharm": {
     "is_executing": false
    }
   },
   "outputs": [],
   "source": [
    "file_name = 'training_data'"
   ]
  },
  {
   "cell_type": "code",
   "execution_count": 39,
   "metadata": {
    "pycharm": {
     "is_executing": false
    }
   },
   "outputs": [],
   "source": [
    "my_training_data.save_data_as_h5('training_data.h5')"
   ]
  },
  {
   "cell_type": "code",
   "execution_count": 40,
   "metadata": {
    "pycharm": {
     "is_executing": false
    }
   },
   "outputs": [],
   "source": [
    "my_input_proc = ip()"
   ]
  },
  {
   "cell_type": "code",
   "execution_count": 41,
   "metadata": {
    "pycharm": {
     "is_executing": false
    }
   },
   "outputs": [
    {
     "data": {
      "text/plain": "[]"
     },
     "metadata": {},
     "output_type": "execute_result",
     "execution_count": 41
    }
   ],
   "source": [
    "my_input_proc.job_list"
   ]
  },
  {
   "cell_type": "code",
   "execution_count": 42,
   "metadata": {
    "pycharm": {
     "is_executing": false
    }
   },
   "outputs": [],
   "source": [
    "my_input_proc.append_to_job_list(my_input_proc.log)"
   ]
  },
  {
   "cell_type": "code",
   "execution_count": 43,
   "metadata": {
    "pycharm": {
     "is_executing": false
    }
   },
   "outputs": [],
   "source": [
    "my_input_proc.append_to_job_list(my_input_proc.standardize)"
   ]
  },
  {
   "cell_type": "code",
   "execution_count": 44,
   "metadata": {
    "pycharm": {
     "is_executing": false
    }
   },
   "outputs": [
    {
     "name": "stdout",
     "text": [
      "[<function InputPreprocessor.log at 0x7f2eee15ce60>, <bound method InputPreprocessor.standardize of <mlreflect.preprocessing.InputPreprocessor object at 0x7f2ea1231950>>]\n"
     ],
     "output_type": "stream"
    }
   ],
   "source": [
    "print(my_input_proc.job_list)"
   ]
  },
  {
   "cell_type": "code",
   "execution_count": 45,
   "metadata": {
    "pycharm": {
     "is_executing": false
    }
   },
   "outputs": [],
   "source": [
    "data = my_training_data.training_reflectivity"
   ]
  },
  {
   "cell_type": "code",
   "execution_count": 46,
   "metadata": {
    "pycharm": {
     "is_executing": false
    }
   },
   "outputs": [
    {
     "data": {
      "text/plain": "<Figure size 432x288 with 1 Axes>",
      "image/png": "[encoded data removed]"
     },
     "metadata": {
      "needs_background": "light"
     },
     "output_type": "display_data"
    }
   ],
   "source": [
    "plt.semilogy(data[1, :])\n",
    "plt.show()"
   ]
  },
  {
   "cell_type": "code",
   "execution_count": 19,
   "metadata": {
    "pycharm": {
     "is_executing": false
    }
   },
   "outputs": [
    {
     "traceback": [
      "\u001b[0;31m---------------------------------------------------------------------------\u001b[0m",
      "\u001b[0;31mNameError\u001b[0m                                 Traceback (most recent call last)",
      "\u001b[0;32m<ipython-input-19-8df1075e3b92>\u001b[0m in \u001b[0;36m<module>\u001b[0;34m\u001b[0m\n\u001b[0;32m----> 1\u001b[0;31m \u001b[0mprep_data\u001b[0m \u001b[0;34m=\u001b[0m \u001b[0mmy_input_proc\u001b[0m\u001b[0;34m.\u001b[0m\u001b[0mapply_preprocessing\u001b[0m\u001b[0;34m(\u001b[0m\u001b[0mdata\u001b[0m\u001b[0;34m)\u001b[0m\u001b[0;34m\u001b[0m\u001b[0;34m\u001b[0m\u001b[0m\n\u001b[0m\u001b[1;32m      2\u001b[0m \u001b[0;34m\u001b[0m\u001b[0m\n",
      "\u001b[0;31mNameError\u001b[0m: name 'data' is not defined"
     ],
     "ename": "NameError",
     "evalue": "name 'data' is not defined",
     "output_type": "error"
    }
   ],
   "source": [
    "prep_data = my_input_proc.apply_preprocessing(data)"
   ]
  },
  {
   "cell_type": "code",
   "execution_count": 20,
   "metadata": {
    "pycharm": {
     "is_executing": false
    }
   },
   "outputs": [
    {
     "traceback": [
      "\u001b[0;31m---------------------------------------------------------------------------\u001b[0m",
      "\u001b[0;31mNameError\u001b[0m                                 Traceback (most recent call last)",
      "\u001b[0;32m<ipython-input-20-46704c0e4ab4>\u001b[0m in \u001b[0;36m<module>\u001b[0;34m\u001b[0m\n\u001b[0;32m----> 1\u001b[0;31m \u001b[0mplt\u001b[0m\u001b[0;34m.\u001b[0m\u001b[0mplot\u001b[0m\u001b[0;34m(\u001b[0m\u001b[0mprep_data\u001b[0m\u001b[0;34m[\u001b[0m\u001b[0;36m1\u001b[0m\u001b[0;34m,\u001b[0m \u001b[0;34m:\u001b[0m\u001b[0;34m]\u001b[0m\u001b[0;34m)\u001b[0m\u001b[0;34m\u001b[0m\u001b[0;34m\u001b[0m\u001b[0m\n\u001b[0m\u001b[1;32m      2\u001b[0m \u001b[0;34m\u001b[0m\u001b[0m\n",
      "\u001b[0;31mNameError\u001b[0m: name 'prep_data' is not defined"
     ],
     "ename": "NameError",
     "evalue": "name 'prep_data' is not defined",
     "output_type": "error"
    }
   ],
   "source": [
    "plt.plot(prep_data[1, :])"
   ]
  },
  {
   "cell_type": "code",
   "execution_count": 21,
   "metadata": {
    "pycharm": {
     "is_executing": false
    }
   },
   "outputs": [
    {
     "traceback": [
      "\u001b[0;31m---------------------------------------------------------------------------\u001b[0m",
      "\u001b[0;31mNameError\u001b[0m                                 Traceback (most recent call last)",
      "\u001b[0;32m<ipython-input-21-b6c338f33288>\u001b[0m in \u001b[0;36m<module>\u001b[0;34m\u001b[0m\n\u001b[0;32m----> 1\u001b[0;31m \u001b[0mprint\u001b[0m\u001b[0;34m(\u001b[0m\u001b[0mmy_training_data\u001b[0m\u001b[0;34m.\u001b[0m\u001b[0mtraining_labels\u001b[0m\u001b[0;34m)\u001b[0m\u001b[0;34m\u001b[0m\u001b[0;34m\u001b[0m\u001b[0m\n\u001b[0m\u001b[1;32m      2\u001b[0m \u001b[0mprint\u001b[0m\u001b[0;34m(\u001b[0m\u001b[0mmy_training_data\u001b[0m\u001b[0;34m.\u001b[0m\u001b[0mtraining_labels\u001b[0m\u001b[0;34m.\u001b[0m\u001b[0mshape\u001b[0m\u001b[0;34m)\u001b[0m\u001b[0;34m\u001b[0m\u001b[0;34m\u001b[0m\u001b[0m\n\u001b[1;32m      3\u001b[0m \u001b[0;34m\u001b[0m\u001b[0m\n",
      "\u001b[0;31mNameError\u001b[0m: name 'my_training_data' is not defined"
     ],
     "ename": "NameError",
     "evalue": "name 'my_training_data' is not defined",
     "output_type": "error"
    }
   ],
   "source": [
    "print(my_training_data.training_labels)\n",
    "print(my_training_data.training_labels.shape)"
   ]
  },
  {
   "cell_type": "code",
   "execution_count": 22,
   "metadata": {
    "pycharm": {
     "is_executing": false
    }
   },
   "outputs": [],
   "source": [
    "my_output_proc = mlreflect.OutputPreprocessor(*params.values())"
   ]
  },
  {
   "cell_type": "code",
   "execution_count": 23,
   "metadata": {
    "pycharm": {
     "is_executing": false
    }
   },
   "outputs": [
    {
     "data": {
      "text/plain": "['layer2_thickness',\n 'layer1_thickness',\n 'layer2_roughness',\n 'layer1_roughness',\n 'layer2_sld',\n 'layer1_sld']"
     },
     "metadata": {},
     "output_type": "execute_result",
     "execution_count": 23
    }
   ],
   "source": [
    "my_output_proc.label_names"
   ]
  },
  {
   "cell_type": "code",
   "execution_count": 24,
   "metadata": {
    "pycharm": {
     "is_executing": false
    }
   },
   "outputs": [
    {
     "data": {
      "text/plain": "[]"
     },
     "metadata": {},
     "output_type": "execute_result",
     "execution_count": 24
    }
   ],
   "source": [
    "my_output_proc.removed_label_names"
   ]
  },
  {
   "cell_type": "code",
   "execution_count": 25,
   "metadata": {
    "pycharm": {
     "is_executing": false
    }
   },
   "outputs": [
    {
     "data": {
      "text/plain": "['layer1_thickness', 'layer2_sld', 'layer1_sld']"
     },
     "metadata": {},
     "output_type": "execute_result",
     "execution_count": 25
    }
   ],
   "source": [
    "my_output_proc.constant_label_names"
   ]
  },
  {
   "cell_type": "code",
   "execution_count": 26,
   "metadata": {
    "pycharm": {
     "is_executing": false
    }
   },
   "outputs": [
    {
     "traceback": [
      "\u001b[0;31m---------------------------------------------------------------------------\u001b[0m",
      "\u001b[0;31mNameError\u001b[0m                                 Traceback (most recent call last)",
      "\u001b[0;32m<ipython-input-26-7bd87712fbe7>\u001b[0m in \u001b[0;36m<module>\u001b[0;34m\u001b[0m\n\u001b[0;32m----> 1\u001b[0;31m \u001b[0mlabels\u001b[0m \u001b[0;34m=\u001b[0m \u001b[0mmy_output_proc\u001b[0m\u001b[0;34m.\u001b[0m\u001b[0mapply_preprocessing\u001b[0m\u001b[0;34m(\u001b[0m\u001b[0mmy_training_data\u001b[0m\u001b[0;34m.\u001b[0m\u001b[0mtraining_labels\u001b[0m\u001b[0;34m)\u001b[0m\u001b[0;34m\u001b[0m\u001b[0;34m\u001b[0m\u001b[0m\n\u001b[0m\u001b[1;32m      2\u001b[0m \u001b[0;34m\u001b[0m\u001b[0m\n",
      "\u001b[0;31mNameError\u001b[0m: name 'my_training_data' is not defined"
     ],
     "ename": "NameError",
     "evalue": "name 'my_training_data' is not defined",
     "output_type": "error"
    }
   ],
   "source": [
    "labels = my_output_proc.apply_preprocessing(my_training_data.training_labels)"
   ]
  },
  {
   "cell_type": "code",
   "execution_count": 27,
   "metadata": {
    "pycharm": {
     "is_executing": false
    }
   },
   "outputs": [
    {
     "traceback": [
      "\u001b[0;31m---------------------------------------------------------------------------\u001b[0m",
      "\u001b[0;31mNameError\u001b[0m                                 Traceback (most recent call last)",
      "\u001b[0;32m<ipython-input-27-7afe4368e32d>\u001b[0m in \u001b[0;36m<module>\u001b[0;34m\u001b[0m\n\u001b[0;32m----> 1\u001b[0;31m \u001b[0mprint\u001b[0m\u001b[0;34m(\u001b[0m\u001b[0mlabels\u001b[0m\u001b[0;34m)\u001b[0m\u001b[0;34m\u001b[0m\u001b[0;34m\u001b[0m\u001b[0m\n\u001b[0m\u001b[1;32m      2\u001b[0m \u001b[0mprint\u001b[0m\u001b[0;34m(\u001b[0m\u001b[0mlabels\u001b[0m\u001b[0;34m.\u001b[0m\u001b[0mshape\u001b[0m\u001b[0;34m)\u001b[0m\u001b[0;34m\u001b[0m\u001b[0;34m\u001b[0m\u001b[0m\n\u001b[1;32m      3\u001b[0m \u001b[0;34m\u001b[0m\u001b[0m\n",
      "\u001b[0;31mNameError\u001b[0m: name 'labels' is not defined"
     ],
     "ename": "NameError",
     "evalue": "name 'labels' is not defined",
     "output_type": "error"
    }
   ],
   "source": [
    "print(labels)\n",
    "print(labels.shape)"
   ]
  },
  {
   "cell_type": "code",
   "execution_count": 28,
   "metadata": {
    "pycharm": {
     "is_executing": false
    }
   },
   "outputs": [
    {
     "traceback": [
      "\u001b[0;31m---------------------------------------------------------------------------\u001b[0m",
      "\u001b[0;31mNameError\u001b[0m                                 Traceback (most recent call last)",
      "\u001b[0;32m<ipython-input-28-c949852ed666>\u001b[0m in \u001b[0;36m<module>\u001b[0;34m\u001b[0m\n\u001b[0;32m----> 1\u001b[0;31m \u001b[0mplt\u001b[0m\u001b[0;34m.\u001b[0m\u001b[0mplot\u001b[0m\u001b[0;34m(\u001b[0m\u001b[0mmy_training_data\u001b[0m\u001b[0;34m.\u001b[0m\u001b[0mtraining_labels\u001b[0m\u001b[0;34m[\u001b[0m\u001b[0;34m'layer2_thickness'\u001b[0m\u001b[0;34m]\u001b[0m\u001b[0;34m)\u001b[0m\u001b[0;34m\u001b[0m\u001b[0;34m\u001b[0m\u001b[0m\n\u001b[0m\u001b[1;32m      2\u001b[0m \u001b[0mplt\u001b[0m\u001b[0;34m.\u001b[0m\u001b[0mshow\u001b[0m\u001b[0;34m(\u001b[0m\u001b[0;34m)\u001b[0m\u001b[0;34m\u001b[0m\u001b[0;34m\u001b[0m\u001b[0m\n\u001b[1;32m      3\u001b[0m \u001b[0mplt\u001b[0m\u001b[0;34m.\u001b[0m\u001b[0mplot\u001b[0m\u001b[0;34m(\u001b[0m\u001b[0mlabels\u001b[0m\u001b[0;34m[\u001b[0m\u001b[0;34m'layer2_thickness'\u001b[0m\u001b[0;34m]\u001b[0m\u001b[0;34m)\u001b[0m\u001b[0;34m\u001b[0m\u001b[0;34m\u001b[0m\u001b[0m\n\u001b[1;32m      4\u001b[0m \u001b[0mplt\u001b[0m\u001b[0;34m.\u001b[0m\u001b[0mshow\u001b[0m\u001b[0;34m(\u001b[0m\u001b[0;34m)\u001b[0m\u001b[0;34m\u001b[0m\u001b[0;34m\u001b[0m\u001b[0m\n\u001b[1;32m      5\u001b[0m \u001b[0;34m\u001b[0m\u001b[0m\n",
      "\u001b[0;31mNameError\u001b[0m: name 'my_training_data' is not defined"
     ],
     "ename": "NameError",
     "evalue": "name 'my_training_data' is not defined",
     "output_type": "error"
    }
   ],
   "source": [
    "plt.plot(my_training_data.training_labels['layer2_thickness'])\n",
    "plt.show()\n",
    "plt.plot(labels['layer2_thickness'])\n",
    "plt.show()"
   ]
  },
  {
   "cell_type": "code",
   "execution_count": 29,
   "metadata": {
    "pycharm": {
     "is_executing": false
    }
   },
   "outputs": [
    {
     "traceback": [
      "\u001b[0;31m---------------------------------------------------------------------------\u001b[0m",
      "\u001b[0;31mNameError\u001b[0m                                 Traceback (most recent call last)",
      "\u001b[0;32m<ipython-input-29-f3cb7bc9139c>\u001b[0m in \u001b[0;36m<module>\u001b[0;34m\u001b[0m\n\u001b[0;32m----> 1\u001b[0;31m \u001b[0mrestored_labels\u001b[0m \u001b[0;34m=\u001b[0m \u001b[0mmy_output_proc\u001b[0m\u001b[0;34m.\u001b[0m\u001b[0mrestore_labels\u001b[0m\u001b[0;34m(\u001b[0m\u001b[0mlabels\u001b[0m\u001b[0;34m,\u001b[0m \u001b[0mmy_training_data\u001b[0m\u001b[0;34m.\u001b[0m\u001b[0mtraining_labels\u001b[0m\u001b[0;34m)\u001b[0m\u001b[0;34m\u001b[0m\u001b[0;34m\u001b[0m\u001b[0m\n\u001b[0m\u001b[1;32m      2\u001b[0m \u001b[0;34m\u001b[0m\u001b[0m\n",
      "\u001b[0;31mNameError\u001b[0m: name 'labels' is not defined"
     ],
     "ename": "NameError",
     "evalue": "name 'labels' is not defined",
     "output_type": "error"
    }
   ],
   "source": [
    "restored_labels = my_output_proc.restore_labels(labels, my_training_data.training_labels)"
   ]
  },
  {
   "cell_type": "code",
   "execution_count": 30,
   "metadata": {
    "pycharm": {
     "is_executing": false
    }
   },
   "outputs": [
    {
     "traceback": [
      "\u001b[0;31m---------------------------------------------------------------------------\u001b[0m",
      "\u001b[0;31mNameError\u001b[0m                                 Traceback (most recent call last)",
      "\u001b[0;32m<ipython-input-30-bc508260e6a0>\u001b[0m in \u001b[0;36m<module>\u001b[0;34m\u001b[0m\n\u001b[0;32m----> 1\u001b[0;31m \u001b[0mprint\u001b[0m\u001b[0;34m(\u001b[0m\u001b[0mrestored_labels\u001b[0m\u001b[0;34m)\u001b[0m\u001b[0;34m\u001b[0m\u001b[0;34m\u001b[0m\u001b[0m\n\u001b[0m\u001b[1;32m      2\u001b[0m \u001b[0;34m\u001b[0m\u001b[0m\n",
      "\u001b[0;31mNameError\u001b[0m: name 'restored_labels' is not defined"
     ],
     "ename": "NameError",
     "evalue": "name 'restored_labels' is not defined",
     "output_type": "error"
    }
   ],
   "source": [
    "print(restored_labels)"
   ]
  },
  {
   "cell_type": "code",
   "execution_count": 31,
   "metadata": {
    "pycharm": {
     "is_executing": false
    }
   },
   "outputs": [
    {
     "traceback": [
      "\u001b[0;31m---------------------------------------------------------------------------\u001b[0m",
      "\u001b[0;31mNameError\u001b[0m                                 Traceback (most recent call last)",
      "\u001b[0;32m<ipython-input-31-f9633af14af9>\u001b[0m in \u001b[0;36m<module>\u001b[0;34m\u001b[0m\n\u001b[0;32m----> 1\u001b[0;31m \u001b[0mnp\u001b[0m\u001b[0;34m.\u001b[0m\u001b[0marray_equal\u001b[0m\u001b[0;34m(\u001b[0m\u001b[0mmy_training_data\u001b[0m\u001b[0;34m.\u001b[0m\u001b[0mtraining_labels\u001b[0m\u001b[0;34m,\u001b[0m \u001b[0mrestored_labels\u001b[0m\u001b[0;34m)\u001b[0m\u001b[0;34m\u001b[0m\u001b[0;34m\u001b[0m\u001b[0m\n\u001b[0m",
      "\u001b[0;31mNameError\u001b[0m: name 'my_training_data' is not defined"
     ],
     "ename": "NameError",
     "evalue": "name 'my_training_data' is not defined",
     "output_type": "error"
    }
   ],
   "source": [
    "np.array_equal(my_training_data.training_labels, restored_labels)"
   ]
  },
  {
   "cell_type": "code",
   "execution_count": 51,
   "outputs": [
    {
     "traceback": [
      "\u001b[0;31m---------------------------------------------------------------------------\u001b[0m",
      "\u001b[0;31mValueError\u001b[0m                                Traceback (most recent call last)",
      "\u001b[0;32m<ipython-input-51-beb5843963c8>\u001b[0m in \u001b[0;36m<module>\u001b[0;34m\u001b[0m\n\u001b[0;32m----> 1\u001b[0;31m \u001b[0mnp\u001b[0m\u001b[0;34m.\u001b[0m\u001b[0marray\u001b[0m\u001b[0;34m(\u001b[0m\u001b[0;34m[\u001b[0m\u001b[0;36m3\u001b[0m\u001b[0;34m,\u001b[0m \u001b[0;36m4\u001b[0m\u001b[0;34m,\u001b[0m \u001b[0;36m5\u001b[0m\u001b[0;34m]\u001b[0m\u001b[0;34m)\u001b[0m \u001b[0;32mand\u001b[0m \u001b[0mnp\u001b[0m\u001b[0;34m.\u001b[0m\u001b[0marray\u001b[0m\u001b[0;34m(\u001b[0m\u001b[0;34m[\u001b[0m\u001b[0;36m1\u001b[0m\u001b[0;34m,\u001b[0m \u001b[0;36m2\u001b[0m\u001b[0;34m,\u001b[0m \u001b[0;36m3\u001b[0m\u001b[0;34m]\u001b[0m\u001b[0;34m)\u001b[0m \u001b[0;32mis\u001b[0m \u001b[0;32mNone\u001b[0m\u001b[0;34m\u001b[0m\u001b[0;34m\u001b[0m\u001b[0m\n\u001b[0m\u001b[1;32m      2\u001b[0m \u001b[0;34m\u001b[0m\u001b[0m\n",
      "\u001b[0;31mValueError\u001b[0m: The truth value of an array with more than one element is ambiguous. Use a.any() or a.all()"
     ],
     "ename": "ValueError",
     "evalue": "The truth value of an array with more than one element is ambiguous. Use a.any() or a.all()",
     "output_type": "error"
    }
   ],
   "source": [
    "np.array([3, 4, 5]) and np.array([1, 2, 3]) is None"
   ],
   "metadata": {
    "collapsed": false,
    "pycharm": {
     "name": "#%%\n",
     "is_executing": false
    }
   }
  },
  {
   "cell_type": "code",
   "execution_count": null,
   "outputs": [],
   "source": [
    "\n"
   ],
   "metadata": {
    "collapsed": false,
    "pycharm": {
     "name": "#%%\n"
    }
   }
  }
 ],
 "metadata": {
  "kernelspec": {
   "display_name": "Python 3",
   "language": "python",
   "name": "python3"
  },
  "language_info": {
   "codemirror_mode": {
    "name": "ipython",
    "version": 3
   },
   "file_extension": ".py",
   "mimetype": "text/x-python",
   "name": "python",
   "nbconvert_exporter": "python",
   "pygments_lexer": "ipython3",
   "version": "3.7.4"
  },
  "pycharm": {
   "stem_cell": {
    "cell_type": "raw",
    "source": [],
    "metadata": {
     "collapsed": false
    }
   }
  }
 },
 "nbformat": 4,
 "nbformat_minor": 1
}